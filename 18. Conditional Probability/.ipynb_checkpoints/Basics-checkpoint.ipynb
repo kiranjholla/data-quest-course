{
 "cells": [
  {
   "cell_type": "markdown",
   "metadata": {},
   "source": [
    "## Building a Spam Filter using the Naive Bayes Algorithm\n",
    "\n",
    "The intent of this project is to practice building a Spam Filter utilizing the Naive Bayes Algorithm. We already have training data available to us in the form of 5,572 SMS messages that have already been classified by humans as either Spam or Not-Spam.\n",
    "\n",
    "We will use this training data to establish the vocabulary, the probabilities for each word in the vocabulary, and then use that set of probabilities to implement a Naive Bayes Algorithm based system to classify future messages as either Spam or Not-Spam."
   ]
  },
  {
   "cell_type": "code",
   "execution_count": 1,
   "metadata": {
    "collapsed": false
   },
   "outputs": [],
   "source": [
    "import pandas as pd\n",
    "from matplotlib import pyplot as plt\n",
    "\n",
    "%matplotlib inline"
   ]
  },
  {
   "cell_type": "code",
   "execution_count": 2,
   "metadata": {
    "collapsed": true
   },
   "outputs": [],
   "source": [
    "# Read the data\n",
    "smsTrainingData = pd.read_csv('SMSSpamCollection', sep='\\t', names=['Label', 'SMS'])"
   ]
  },
  {
   "cell_type": "code",
   "execution_count": 3,
   "metadata": {
    "collapsed": false
   },
   "outputs": [
    {
     "data": {
      "text/plain": [
       "ham     0.865937\n",
       "spam    0.134063\n",
       "Name: Label, dtype: float64"
      ]
     },
     "execution_count": 3,
     "metadata": {},
     "output_type": "execute_result"
    }
   ],
   "source": [
    "smsTrainingData['Label'].value_counts(normalize=True)"
   ]
  },
  {
   "cell_type": "markdown",
   "metadata": {},
   "source": [
    "### Creating a Training & Testing Dataset\n",
    "In the above dataset, there are 5,572 SMS messages that have been previously classifed by humans as either **spam** or **ham** (not-spam).\n",
    "\n",
    "- We can see that about 86.59% of the SMS messages are genuine messages (they are marked as *ham*)\n",
    "- And about 13.41% of the SMS messages are spam messages (they are marked as *spam*)\n",
    "\n",
    "Before designing a program that can use this training data to learn, and then classify future messages as either *spam* or *ham*, we must first create a **Training Dataset** and a **Test Dataset** to allow us to test our program and ensure it works with sufficient accuracy.\n",
    "\n",
    "For the purposes of this project, we are targeting an accuracy of 80%."
   ]
  },
  {
   "cell_type": "code",
   "execution_count": 4,
   "metadata": {
    "collapsed": false
   },
   "outputs": [],
   "source": [
    "# First we need to randomize the existing dataset\n",
    "randomizedData = smsTrainingData.sample(frac=1, random_state=1)\n",
    "\n",
    "# Now we need to split the dataset into two, one containing\n",
    "# 80% of the data for training, and the other containing 20%\n",
    "# of the data for testing\n",
    "splitLocation = round(randomizedData.shape[0] * 0.8)\n",
    "\n",
    "# Now split the data; since we are creating two new\n",
    "# Dataframes, it is important to reset the indices so that\n",
    "# we can use the new dataframes independently.\n",
    "trainingSet = randomizedData[:splitLocation].reset_index(drop=True)\n",
    "testSet = randomizedData[splitLocation:].reset_index(drop=True)"
   ]
  },
  {
   "cell_type": "code",
   "execution_count": 5,
   "metadata": {
    "collapsed": false
   },
   "outputs": [
    {
     "data": {
      "text/plain": [
       "ham     0.86541\n",
       "spam    0.13459\n",
       "Name: Label, dtype: float64"
      ]
     },
     "execution_count": 5,
     "metadata": {},
     "output_type": "execute_result"
    }
   ],
   "source": [
    "trainingSet['Label'].value_counts(normalize=True)"
   ]
  },
  {
   "cell_type": "markdown",
   "metadata": {},
   "source": [
    "As can be seen from the above, we have now split the SMS Data into two sets, with the Training Set containing 4458 rows (about 80% of the original dataset).\n",
    "\n",
    "We also can observe that the proportion of *spam* and *ham* messages in the training data is almost the same as the original dataset with only fractional percentage-point differences.\n",
    "\n",
    "Hence, we can safely say that the training set is representative of the original dataset."
   ]
  },
  {
   "cell_type": "markdown",
   "metadata": {},
   "source": [
    "### Cleaning the Training Data\n",
    "\n",
    "To make the data easier to process, we have to first clean the data and convert it into a format that is easy to use to calculate the counts and probabilities for each word.\n",
    "\n",
    "We will convert all words to lower case, and strip out all punctuation marks as the focus on this spam filter is to look at the words only."
   ]
  },
  {
   "cell_type": "code",
   "execution_count": 6,
   "metadata": {
    "collapsed": false
   },
   "outputs": [],
   "source": [
    "# We first replace all non-word characters with a space, \n",
    "# and then convert everything to lowercase\n",
    "trainingSet['SMS'] = trainingSet['SMS'].str.replace('\\W', ' ')\n",
    "trainingSet['SMS'] = trainingSet['SMS'].str.lower()\n",
    "trainingSet['SMS'] = trainingSet['SMS'].str.split()"
   ]
  },
  {
   "cell_type": "code",
   "execution_count": 7,
   "metadata": {
    "collapsed": false
   },
   "outputs": [
    {
     "data": {
      "text/plain": [
       "0                       [yep, by, the, pretty, sculpture]\n",
       "1       [yes, princess, are, you, going, to, make, me,...\n",
       "2                         [welp, apparently, he, retired]\n",
       "3                                                [havent]\n",
       "4       [i, forgot, 2, ask, ü, all, smth, there, s, a,...\n",
       "5       [ok, i, thk, i, got, it, then, u, wan, me, 2, ...\n",
       "6       [i, want, kfc, its, tuesday, only, buy, 2, mea...\n",
       "7                         [no, dear, i, was, sleeping, p]\n",
       "8                              [ok, pa, nothing, problem]\n",
       "9                        [ill, be, there, on, lt, gt, ok]\n",
       "10      [my, uncles, in, atlanta, wish, you, guys, a, ...\n",
       "11                                            [my, phone]\n",
       "12                     [ok, which, your, another, number]\n",
       "13      [the, greatest, test, of, courage, on, earth, ...\n",
       "14      [dai, what, this, da, can, i, send, my, resume...\n",
       "15                  [i, am, late, i, will, be, there, at]\n",
       "16      [freemsg, why, haven, t, you, replied, to, my,...\n",
       "17             [k, text, me, when, you, re, on, the, way]\n",
       "18      [congrats, 2, mobile, 3g, videophones, r, your...\n",
       "19      [please, leave, this, topic, sorry, for, telli...\n",
       "20      [ooooooh, i, forgot, to, tell, u, i, can, get,...\n",
       "21      [hi, this, is, yijue, can, i, meet, u, at, 11,...\n",
       "22      [i, want, to, show, you, the, world, princess,...\n",
       "23             [well, that, must, be, a, pain, to, catch]\n",
       "24              [well, you, know, what, i, mean, texting]\n",
       "25      [your, bill, at, 3, is, 33, 65, so, thats, not...\n",
       "26                      [yeah, where, s, your, class, at]\n",
       "27                                     [what, s, ur, pin]\n",
       "28      [fighting, with, the, world, is, easy, u, eith...\n",
       "29      [dude, what, s, up, how, teresa, hope, you, ha...\n",
       "                              ...                        \n",
       "4428             [uncle, abbey, happy, new, year, abiola]\n",
       "4429       [from, tomorrow, onwards, eve, 6, to, 3, work]\n",
       "4430                  [haha, just, what, i, was, thinkin]\n",
       "4431                         [happy, new, year, princess]\n",
       "4432    [let, me, know, how, to, contact, you, i, ve, ...\n",
       "4433    [i, don, t, know, u, and, u, don, t, know, me,...\n",
       "4434    [yes, how, is, a, pretty, lady, like, you, sin...\n",
       "4435                          [just, getting, back, home]\n",
       "4436                    [oh, my, god, i, m, almost, home]\n",
       "4437    [congratulations, you, ve, won, you, re, a, wi...\n",
       "4438    [i, cant, pick, the, phone, right, now, pls, s...\n",
       "4439    [win, the, newest, harry, potter, and, the, or...\n",
       "4440                   [dear, umma, she, called, me, now]\n",
       "4441                    [aight, lemme, know, what, s, up]\n",
       "4442    [good, evening, sir, hope, you, are, having, a...\n",
       "4443    [someone, u, know, has, asked, our, dating, se...\n",
       "4444         [2marrow, only, wed, at, lt, gt, to, 2, aha]\n",
       "4445    [haha, yeah, i, see, that, now, be, there, in,...\n",
       "4446                       [aathi, where, are, you, dear]\n",
       "4447    [pls, give, her, the, food, preferably, pap, v...\n",
       "4448      [i, donno, its, in, your, genes, or, something]\n",
       "4449    [your, chance, to, be, on, a, reality, fantasy...\n",
       "4450                           [prakesh, is, there, know]\n",
       "4451    [the, beauty, of, life, is, in, next, second, ...\n",
       "4452           [how, about, clothes, jewelry, and, trips]\n",
       "4453    [sorry, i, ll, call, later, in, meeting, any, ...\n",
       "4454    [babe, i, fucking, love, you, too, you, know, ...\n",
       "4455    [u, ve, been, selected, to, stay, in, 1, of, 2...\n",
       "4456    [hello, my, boytoy, geeee, i, miss, you, alrea...\n",
       "4457                              [wherre, s, my, boytoy]\n",
       "Name: SMS, Length: 4458, dtype: object"
      ]
     },
     "execution_count": 7,
     "metadata": {},
     "output_type": "execute_result"
    }
   ],
   "source": [
    "trainingSet['SMS']"
   ]
  },
  {
   "cell_type": "markdown",
   "metadata": {},
   "source": [
    "#### Building the Vocabulary\n",
    "\n",
    "We need to build the vocabulary that we will be using to classify *spam* vs *ham* messages. This vocabulary should contain all the words in all the messages within the training set of data."
   ]
  },
  {
   "cell_type": "code",
   "execution_count": 8,
   "metadata": {
    "collapsed": false
   },
   "outputs": [
    {
     "name": "stdout",
     "output_type": "stream",
     "text": [
      "7783\n",
      "['countin', 'sptv', 'cardin', 'doke', 'possibly', '120p', '930', 'panalam', 'lotsof', '09050001808', 'stand', 'stereo', 'lower', 'juicy', 'cuppa', 'flowing', 'jon', 'wisdom', 'bridge', '2wt', 'sooner', 'otside', 'nitros', 'bfore', 'patrick', 'mesages', 'ignorant', 'pierre', 'attributed', 'virgin', 'losers', 'liver', 'headset', 'bits', 'modl', 'picked', '4few', 'sculpture', '4217', 'honestly', '4041', 'flow', 'spacebucks', 'alrite', 'watchng', '08718726978', 'nevamind', 'tattoos', 'missionary', 'notixiquating', 'dem', 'adam', 'xxxxxxx', 'craziest', 'rob', 'bollox', 'sweet', '04', 'tms', 'don', 'thanksgiving', 'prasad', 'frying', 'hide', 'stops', 'tooth', 'tnc', 'soooo', 'nag', 'including', 'some1', 'shock', 'noisy', 'july', 'me', 'evil', 'dreams', 'nasty', 'selflessness', 'unkempt', 'advisors', 'wining', 'princess', '0871277810810', 'deliver', 'hop', 'fucks', 'seem', 'stopped', 'fgkslpopw', 'dwn', 'thanx4', 'satanic', 'ü', 'gbp5', 'sporadically', 'lasagna', 'ente', 'ard', 'ready', 'walk', 'taxi', 'hl', '3mins', 'factory', 'but', 'abroad', 'thanx', 'messy', 'doll', 'semi', 'smeone', 'album', 'misfits', 'haul', 'jenny', 'carry', 'intend', 'adults', 'drug', 'grinder', 'gives', 'fluids', 'brilliantly', 'shitload', 'rents', 'act', 'gods', 'hundreds', '09050000301', 'direct', '11', 'like', '150p16', 'probpop', 'upset', '0800', 'polyh', 'short', 'setting', 'kaitlyn', 'std', '2wks', 'spiritual', 'wet', 'allah', 'nuther', 'club', 'smokes', 'wildest', 'dom', 'balls', 'idk', 'acc', 'autocorrect', 'finishing', 'supervisor', 'servs', 'fans', 'admin', 'tron', 'sudden', 'fml', 'headache', 'stranger', 'stayed', '09064015307', 'franyxxxxx', 'neva', 'browse', 'box177', '900', 'losing', 'brighten', 'mystery', 'sore', 'though', 'superb', 'teeth', 'trips', 'relation', 'cherthala', 'thts', 'tescos', 'oranges', 'paypal', 'lionm', 'sundayish', 'maneesha', 'drastic', 'said', 'cars', 'leona', 'infact', 'buzy', 'forth', 'snowboarding', 'ollu', 'deposit', 'tihs', 'loud', 'tog', 'buzzzz', 'mrt', 'cried', 'mono', 'fees', '11mths', '4w', 'aging', 'wrote', 'elaya', 'politicians', 'faber', 'ppl', 'natural', 'edge', '3030', 'sis', 'frndship', 'clever', 'lara', 'bahamas', 'nighters', 'burger', 'draw', 'instead', 'caller', 'enter', 'asshole', 'dime', 'end', 'lot', 'thout', 'tmorrow', 'ls15hb', '12hrs', 'authorise', 'okie', 'really', 'gee', 'bluetooth', 'prof', 'itz', 'pocy', 'x2', 'arsenal', 'super', 'lion', 'é', 'brainless', 'held', 'rolled', 'shall', 'lk', 'urself', 'mids', 'switch', '09063442151', 'varunnathu', 'r', 'dearer', 'ivatte', 'mah', 'tank', 'months', 'american', 'batsman', 'chillin', 'shsex', 'intrude', '4the', 'crckt', 'hoody', '89080', 'mths', 'galileo', 'gon', 'camp', 'special', 'sentiment', 'accomodate', 'self', 'lifted', 'lab', 'cherish', 'suply', 'sehwag', 'miles', 'driving', 'helping', 'auntie', 'smth', 'destination', 'kodstini', '09090900040', 'whenever', 'ileave', 'killing', 'madoke', 'stop', 'roads', 'applying', 'birds', 'fone', 'whom', 'zouk', 'tot', 'benefits', 'related', 'moved', 'zed', 'unbelievable', 'tncs', 'outta', 'vipclub4u', 'ga', '〨ud', 'poyyarikatur', 'down', '08000839402', 'bcm4284', 'valued', 'mental', 'realizes', 'planettalkinstant', 'shocking', '24hrs', 'booking', 'bb', 'messenger', 'escalator', 'bakrid', 'ipads', 'massive', 'valuable', 'rem', 'ashley', 'initiate', 'useful', 'splat', 'sausage', 'franxx', 'tasts', 'kickboxing', 'quizclub', 'local', 'agency', 'copied', 'platt', 'reckon', 'tunde', 'natwest', 'bell', 'bffs', 'recent', 'chat80155', 'gandhipuram', '2morro', 'ymca', 'concert', 'claimcode', '08704439680ts', 'sense', 'ah', 'drove', 'bridal', 'help08718728876', 'vomiting', '25', 'half', 'w1j', 'ploughing', 'wan', 'phews', 'trying', 'someday', 'j89', 'inlude', 'cttergg', 'merry', 'dabooks', 'emailed', 'box385', 'woken', 'okay', 'mia', 'sarcastic', 'tiime', 'psychiatrist', 'ore', 'surfing', 'sad', 'broken', 'basket', 'toking', 'tke', 'deciding', 'lovable', 'lambu', 'doggin', 'rightio', 'crying', 'adjustable', 'stash', 'been', 'ideal', 'concentrate', 'office', 'felt', 'sorrow', 'fun', 'operate', 'hellogorgeous', '15', 'neo69', 'govt', '3aj', 'saw', 'customersqueries', 'undrstnd', 'driver', 'spell', 'community', 'spl', 'lowes', 'truth', 'bar', 'otbox', 'loverboy', 'themes', 'slice', 'a30', 'even', 'dasara', 'texas', 'credits', '450ppw', 'anything', 'fault', 'presleys', 'wavering', 'probthat', 'motivate', 'yifeng', 'plate', 'vivek', 'nino', 'slob', '5we', '250', 'library', '373', 'unusual', '85', '69866', 'coaxing', 'harlem', 'congratulations', 'jada', 'easier', '81010', 'formatting', '40', 'oredi', 'fastest', 'karo', 'westshore', 'deserve', 'justbeen', 'ran', 'flirt', 'necessarily', 'angels', 'heavy', 'price', 'mquiz', 'nike', 'previews', '151', 'sounds', 'personal', 'hearted', 'bulbs', 'misss', 'bread', 'mall', 'upstairs', 'homeowners', 'vaazhthukkal', '08712402050', 'definitly', 'coupla', 'wondering', 'didn', 'wither', 'congratulation', 'disagreeable', '08707509020', 'warm', 'rooms', 'rite', 'xxx', 'any', 'blowing', 'rats', '81303', 'call2optout', 'amore', 'naseeb', 'hustle', 'sufficient', 'snowman', 'wiskey', 'elsewhere', 'damn', 'crore', 'somewhat', '4jx', 'b4utele', 'parking', 'doctors', 'conditions', 'nri', 'london', 'payed', 'sux', 'weight', 'imposter', 'stil', 'via', 'worc', 'dan', 'reward', 'em', 'box334', 'madstini', 'hospitals', 'landline', 'mtmsg', 'openin', 'mornings', 'nurses', 'away', 'advising', 'exeter', '45pm', 'wined', 'stagwood', 'gurl', '09065174042', 'ofice', 'uk', 'track', 'affections', 'accenture', 'student', 'lipo', 'ruthful', '140ppm', 'constantly', 'little', 'abuse', 'scrumptious', 'nan', 'skype', 'pura', 'difference', 'annoying', '09050280520', 'vilikkam', 'acknowledgement', 'graduated', 'name1', 'porn', 'nething', 'mega', 'seperated', 'beth', '200', 'agalla', 'soz', 'size', '08081560665', 'search', 'nd', 'catches', '861', 'mel', 'chrgd', 'yr', 'txttowin', 'plan', 'statements', 'thurs', 'meeting', 'decades', '05', 'reaching', 'boooo', 'ipad', 'sat', '86021', 'spoil', '1146', 'weighed', 'liverpool', 'audrey', 'sullivan', 'safely', 'thesis', 'bot', 'shipped', 'crave', 'want', 'tallent', 'amrita', 'w1jhl', 'earliest', 'kg', 'a', 'rental', 'gosh', 'pages', 'darkness', 'sar', 'offc', 'services', 'iq', 'mathews', '50pm', 'pattern', 'cut', 'garments', 'soft', 'mountains', 'clarify', 'ths', 'rgent', 'best1', 'sighs', 'husband', 'textbook', 'created', 'islands', '1405', '35p', 'incident', 'prakesh', 'settings', 'cinema', 'crazy', 'farrell', 'clean', 'supply', 'moment', 'shop', '7250i', 'clarification', 'lions', 'butt', 'enjoyed', 'gail', '450', 'samus', 'tp', 'emergency', 'ken', 'ntwk', '40mph', 'misundrstud', 'followed', 'forevr', 'notes', 'busy', 'londn', 'profit', 'true18', 'w1', 'cl', 'pound', 'xxxx', '2yr', 'lv', 'nigh', '150', 'blankets', 'team', 'mutations', 'lido', 'mush', 'kodthini', 'ericson', 'audiitions', 'invite', 'sup', 'garage', 'ooh', 'pshew', 'cultures', 'wkg', 'princes', 'near', 'bk', 'hcl', 'makes', 'canal', 'paying', '1120', 'shudvetold', 'directors', 'comb', 'serving', 'continue', 'done', 'cutting', 'hrishi', 'so', 'lucozade', 'taxless', 'q', 'police', 'ennal', '2waxsto', 'eh74rr', 'research', 'somebody', 'xin', 'wating', 'british', 'possession', 'agents', 'bloomberg', 'sometimes', 'devouring', 'gain', 'dubsack', 'guides', 'tellmiss', 'aunts', 'till', 'mtmsgrcvd18', 'subscribed', 'rpl', 'nvq', 'invnted', 'applebees', 'lists', 'anderson', 'blue', 'mokka', 'silly', 'profile', '09050000332', 'starts', 'privacy', 'tosend', 'envelope', 'amount', 'max', 'balance', 'sudn', '2000', 'irritating', 'deluxe', 'prasanth', 'vitamin', 'replies', 'thangam', 'trivia', 'engalnd', 'paid', 'august', 'lousy', 'networking', 'd3wv', 'cann', 'women', 'mila', 'newscaster', 'server', 'pract', 'gd', 'howu', 'opener', 'smartcall', 'realized', 'swap', 'unless', 'hr', 'downloaded', 'keep', 'kalstiya', 'liking', 'collect', 'invited', 'etc', 'law', '6zf', 'uve', 'sneham', 'of', '08452810073', 'waqt', 'receivea', 'subscriber', 'argument', 'm95', 'intentions', 'po19', 'affair', 'thinked', 'suzy', 'reception', 'rise', 'study', 'bray', 'jeevithathile', 'regret', 'choose', 'cnn', 'prize', 'rich', 'unsecured', 'callers', 'sale', 'secured', 'yogasana', 'hardest', 'comedy', '79', 'wins', 'guoyang', 'photo', '440', 'technical', 'yours', 'awww', 'properly', 'address', 'yrs', 'clubsaisai', 'box334sk38ch', 'maths', 'risks', 'banned', 'match', 'alfie', 'guai', 'pose', 'wa14', 'laughing', 'di', 'students', 'summer', '9', 'piggy', '08717111821', 'adoring', 'morphine', 'defeat', 'meat', 'wtlp', 'reference', 'saves', 'printed', '09064018838', '7ws', 'lost', 'dha', 'violated', '128', 'his', 'gentle', 'healer', 'gotten', '42810', 'means', 'replacing', 'monoc', 'lip', 'awesome', 'fixed', '08718738034', 'menu', 'shorter', 'janinexx', 'person', 'sayy', 'yck', 'tx', 'netcollex', 'outbid', 'friendship', 'evey', 'despite', 'nauseous', 'fires', 'fyi', 'sickness', 'psp', 'gsoh', 'spjanuary', 'classes', 'yes', '09058091854', 'refilled', 'expression', 'amla', 'sell', 'ge', 'sleep', 'asjesus', 'spent', 'hype', '08717898035', '8800', 'ending', 'taken', 'passion', 'quizzes', 'se', '45239', 'her', 'chef', 'bbdeluxe', 'drinks', 'dao', 'bettr', 'continued', 'arts', 'perf', 'tocall', 'wants', 'dang', 'gray', 'eta', 'objection', '85069', 'lol', 'tigress', '1205', 'feet', 'owned', 't', 'leafcutter', 'dancce', 'oclock', 'ppt150x3', 'sips', 'jabo', 'per', 'dining', 'sharing', 'smith', 'snap', 'own', 'youdoing', 'specially', 'pandy', 'macha', 'where', 'lined', 'trust', 'dizzamn', 'murder', 'everyday', '5pm', '450pw', 'truck', 'cage', 'exchanged', '08000930705', 'motherfucker', '2mrw', 'prakasamanu', 'firmware', 'glorious', 'cumin', 'washob', 'aaniye', 'videos', 'ave', 'error', 'reaction', 'reason', 'zoe', '88039', 'colour', 'sts', 'bawling', 'goto', 'schools', 'hole', 'carlos', 'look', 'loved', '54', 'returned', 'exactly', '88066', 'bloke', 'omg', 'genuine', 'ext', 'emigrated', 'selection', 'haha', 'doubt', 'lifetime', '6th', 'freak', 'comfey', 'offcampus', 'perfume', 'sara', 'starer', 'happiness', 'syllabus', 'mmmmm', 'following', 'ramen', 'goodies', 'railway', 'sorted', 'january', 'spose', '08715203677', 'places', 'tm', 'bridgwater', 'dungerees', 'leadership', 'edison', 'mint', 'flood', 'named', 'trebles', 'awaiting', 'comuk', 'derek', 'infra', 'panasonic', 'sooooo', 'darlin', 'textbuddy', 'normal', 'checkboxes', 'jide', 'hsbc', 'wat', 'costs', 'icky', 'gifted', 'luks', 'cash', 'disconnect', '6', '300', 'fne', 'allows', '82277', '8lb', 'gv', 'aspects', 'watts', '0870141701216', '09061790126', 'blacko', '47per', 'multis', 'math', 'atlast', 'random', 'lyf', '731', 'installation', 'caring', 'callcost', 'edward', 'idea', 'tones2u', 'swell', '7', 'wishin', 'respect', 'screwd', 'weird', 'bunch', 'list', 'doc', 'notxt', 'txtauction', 'remembered', '08717205546', 'extreme', 'ans', 'reminds', 'flight', 'urination', 'darkest', 'ill', 'ripped', 'wait', 'scotland', 'tsunamis', 'rejected', 'toxic', 'shagged', 'pump', 'age', 'machines', 'whos', 'waz', 'staying', 'results', 'pending', 'outsider', 'anyway', '515', 'pre', '09064011000', 'payments', 'chit', 'skye', 'coincidence', 'thinkin', 'depends', 'petticoatdreams', 'often', 'includes', 'seeing', 'heroes', 'diamonds', 'spelling', '08715203652', 'umma', 'lovers', 'learn', 'twelve', 'cocksuckers', 'britney', 'transfered', 'oso', 'ppm150', 'workage', 'complete', 'hey', 'again', 'doesnt', 'uncountable', 'fraction', 'aiyah', 'towards', 'fuelled', 'woah', 'mk45', 'muhommad', 'arms', '09094646899', 'bpo', 'tayseer', 'needs', 'cancelled', 'battery', 'chuckin', '鈥', 'showered', 'kothi', 'christmassy', '80155', 'tendencies', 'frmcloud', 'wont', 'occurs', 'custom', 'dhina', 'vs', 'jeetey', 'slowing', 'rummer', 'appreciate', 'askd', 'agree', 'against', 'b4u', 'slowly', 'ke', 'login', 'delayed', 'assume', 'satthen', 'imagine', 'u4', 'thew', 'wit', 'scenario', 'tis', 'attending', 'panren', 'audition', 'snow', 'ignoring', 'electricity', 'ignore', 'jeans', 'bored', 'tones2you', 'hardly', 'rays', 'jolt', 'charles', 'eatin', 'disconnected', 'quoting', 'nuerologist', 'madam', 'honi', '25p', 'given', 'sorting', 'braved', 'maid', 'hont', 'billed', '3rd', 'cthen', 'espe', 'abel', 'linerental', 'oops', 'mean', 'breathe1', 'aslamalaikkum', 'fool', 'suitemates', '09061104283', 'cam', 'loose', 'ac', 'fresh', 'astrology', 'dai', 'swatch', 't91', 'invoices', 'soiree', 'remembr', 'talents', 'reflex', 'bellearlier', 'y', 'differ', 'slide', 'lotto', 'alcohol', 'din', 'ideas', 'crash', 'lonely', '0578', 'slo', 'wake', 'goodnoon', 'whassup', 'img', 'accessible', 'melody', 'signing', 'msging', '08718730555', 'kitty', 'helps', 'being', 'times', 'devils', 'gold', 'weren', 'contact', 'breakfast', 'ay', 'synced', 'paining', 'indians', 'booked', 'cheque', 'contains', 'gay', 'select', 'callin', 'ahmad', 'bck', 'infront', 'hlp', 'bears', 'friend', 'sian', 'landlines', 'halla', 'aint', '23g', 'naughty', 'sweetheart', 'anot', 'clocks', 'ride', '09050000928', 'nurungu', 'crucify', 'eckankar', 'na', '62735', 'oil', 'stretch', 'weds', 'their', 'ordered', 'stylist', 'saeed', 'john', 'point', 'ritten', 'lookatme', 'enemies', 'black', 'jod', 'basketball', 'emerging', 'wenwecan', 'goodmate', 'annie', 'approve', 'relationship', 'meaning', 'well', 'messaging', 'thriller', 'shakara', 'actor', 'mahal', 'handsomes', 'significant', 'day', 'meg', 'resolved', 'hai', '100p', 'limit', 'remind', 'doggy', 'lucyxx', 'latr', 'vijay', 'tol', 'consider', 'suckers', 'musicnews', 'yaxxx', '2nd', 'kano', 'shesil', 'helpline', '1stone', 'blame', 'dropped', 'boyfriend', 'steamboat', 'sunroof', 'graphics', 'miss', 'gynae', 'txt43', 'tonsolitusaswell', 'relieved', 'rwm', 'accounts', 'cds', 'algorithms', 'try', 'filled', 'click', '630', 'follow', 'voda', 'wind', 'archive', 'increments', 'bites', 'box61', 'urgran', 'katexxx', 'sexy', 'squeeeeeze', 'xxsp', 'wen', 'tell', 'degrees', 'mathe', 'idiot', 'animation', 'minor', 'cover', 'daytime', 'waste', 'gymnastics', 'computational', 'careabout', 'sextextuk', '07786200117', 'loads', 'realize', 'mas', 'dirtiest', '09050005321', '4d', 'points', 'll', 'grown', 'didntgive', 'within', 'aeronautics', 'rofl', 'laready', 'spoken', 'brought', 'captaining', '100', 'ow', 'row', 'cer', 'wc1n', 'future', 'advise', 'dogging', 'put', 'ip', 'values', 'hittng', 'aha', 'late', 'cr9', 'jos', 'mi', 'should', 'tobed', 'creep', 'pple', '75max', 'unlimited', 'realise', 'uniform', 'mmmmmmm', 'exam', 'close', 'uncle', 'atrocious', '09058094454', 'shirts', 'castor', 'yetunde', 'wednesday', 'sometext', 'strongly', 'drink', 'sunday', 'com1win150ppmx3age16subscription', 'rain', 'nitw', 'ic', 'pool', 'shoes', 'excuse', 'got', 'stylish', 'detailed', 'tel', 'aphex', 'sucks', 'n', 'sigh', 'atm', 'priority', 'stuffed', '2', 'plaid', 'regard', 'grinule', '32323', 'less', 'lift', 'us', 'compromised', 'happier', 'randy', '09061790125', 'after', 'limping', 'subscriptn3gbp', 'situations', 'hun', 'ordinator', 'horny', 'propose', 'there', 'fwiw', 'listed', 'zindgi', 'subscriptions', 'getzed', 'invitation', 'max6', 'repeating', 'december', 'wanted', 'fools', 'wuld', 'sterm', 'theirs', 'hme', 'mobypobox734ls27yf', 'swing', 'belongs', 'dl', 'wihtuot', 'progress', '20p', 'game', 'habit', 'load', 'buffet', 'alwys', 'breathing', '08712300220', 'refused', 'remain', '02073162414', 'heading', 'map', 'kath', 'whore', 'curious', 'usual', 'lovely', 'presents', 'november', 'religiously', 'diapers', 'force', 'window', 'urn', 'tiger', '09066660100', 'happenin', 'constant', 'wc1n3xx', 'quite', 'slower', 'pongal', '60', 'sn', 'patients', 'box97n7qp', 'football', 'torture', 'ubandu', 'raiden', 'getsleep', 'clearing', 'rose', 'voila', 'natalja', '0430', 'prior', 'pickle', 'panties', 'firsg', 'regretted', 'these', '07781482378', '1mega', 'concentrating', 'mapquest', 'capital', 'would', 'forgotten', '09061213237', 'yavnt', 'hw', 'doing', '9755', 'field', 'seing', 'dhoni', 'cliffs', 'cricket', 'icmb3cktz8r7', 'adi', 'leg', 'tons', 'permanent', 'pavanaputra', '8', '09094646631', 'brown', 'nanny', 'exterminator', 'competition', 'posible', 'hos', 'steed', 'feeling', 'language', 'scarcasim', 'gimme', 'redeemed', 'marry', 'ml', '6hl', 'boo', 'mrng', 'chinchillas', 'tmorow', 'told', 'astronomer', '6times', 'meds', 'kiss', '4mths', 'suffering', 'gotto', 'neighbors', 'having', 'picsfree1', 'probs', 'ashes', 'stopsms', 'hit', 'croydon', 'l8tr', 'thnk', '87066', 'mre', 'fat', 'bucks', 'dobby', 'kinda', 'wine', 'sunscreen', 'unjalur', 'colany', 'keris', 'ofstuff', 'recession', '14tcr', 'breaker', 'definitely', 'baig', 'whn', '40gb', 'mums', 'hoo', 'arngd', 'keys', 'de', 'decided', 'present', 'craving', 'ruining', '4get', 'sw73ss', 'trip', 'listener', 'wouldn', 'preschoolco', 'fromm', 'emotion', 'milta', '89070', 'plane', 'victors', 'afternoon', 'rush', 'praying', 'irritated', 'shakespeare', 'trained', 'blank', 'stool', 'honeymoon', 'costing', 'afew', 'gift', 'getting', 'color', 'cool', 'bmw', 'jamz', 'throwin', 'favourite', 'kaila', 'squishy', 'pink', 'beerage', 'habba', 'radio', 'sponsors', 'vary', 'mountain', 'sch', '0870753331018', 'rock', '125gift', 'hungry', 'sacrifice', '7732584351', '09050001295', 'believe', 'hanger', 'suggestion', 'concentration', '30', 'soon', 'hotmail', 'foundurself', 'moji', 'ed', 'bhaji', 'way', '08081263000', '09058091870', 'noon', 'hunny', 'prospects', 'sir', 'sing', 'mca', 'avo', 'store', 'bangbabes', 'info', 'nursery', 'workin', 'online', 'f4q', 'discount', 'forms', 'helens', '4thnov', 'beta', '1er', 'teasing', 'busty', 'evry', 'eh', 'shoul', '09066368327', 'quiet', 'sao', 'rec', 'depressed', 'whr', '09065989182', 'nelson', 'no', 'gastroenteritis', 'box', 'latest', 'laughs', 'showing', 'activities', '40533', 'swoop', 'expecting', 'prizeawaiting', '09061743806', 'successful', 'quick', 'jaya', 'nigpun', 'thinks', 'lag', 'sum', 'cttargg', 'tiz', 'nosy', 'files', 'pobox334', 'holy', 'types', 'hockey', 'aproach', 'tcs', 'shoppin', '5wb', 'bc', 'at', 'express', '600', 'teacher', 'hero', 'probably', 'huh', 'outages', 'saucy', '3wks', 'single', 'velly', 'acid', 'elections', 'doors', 'selfish', 'keen', 'drunken', 'xavier', 'moan', 'theplace', 'sathy', 'dogwood', 'howda', 'causing', 'unlike', 'machi', 'bx526', 'onion', 'fooled', 'moon', 'mornin', 'midnight', 'everythin', 'india', 'yuou', 'happens', 'interview', 'disappeared', 'othrs', 'stuff42moro', 'wedlunch', '07815296484', 'savings', 'troubleshooting', 'borrow', 'sort', 'dare', 'jesus', 'worthless', 'txt', 'sugababes', 'petey', 'ihave', 'props', 'haughaighgtujhyguj', 'cts', 'prabha', 'anthony', 'sorry', '2004', 'interest', 'tallahassee', 'prepaid', 'frank', 'rang', 'edukkukayee', '08000776320', 'mudyadhu', 'grazed', 'residency', '2end', 'tt', 'novelty', 'bothering', '121', 'lubly', 'dun', 'spice', 'njan', 'stressful', 'do', 'loosing', 'theatre', 'vodka', 'promises', 'shake', 'gently', 'hurricanes', 'oja', 'replys150', 'understanding', '140', 'rebooting', 'brum', 'leo', 'gprs', 'shipping', 'contented', 'chill', 'board', 'ktv', '3hrs', 'poo', 'sipix', 'mob', 'pie', 'products', 'form', 'youwanna', 'age16', 'gudnite', 'ahold', 'yoyyooo', 'waht', 'make', 'zyada', 'found', 'facebook', 'monos', 'itna', 'contention', 'wkend', 'hair', 'brothas', 'murdered', '12hours', 'adventuring', 'squeezed', 'checking', 'makin', 'spot', 'model', 'sw7', 'videochat', 'maps', 'tcr', 'med', '2mro', 'fonin', 'basq', 'practical', 'lightly', 'docks', 'mm', 'cps', 'wright', 'itxt', 'qet', 'rights', 'thrown', 'settle', 'river', 'things', '83600', 'chatlines', 'gran', 'blind', 'minuts', '523', '08700435505150p', 'shouted', 'missed', 'strings', 'psychic', 'bunkers', 'lie', 'needy', 'him', 'onto', 'wear', 'connect', 'e', 'housing', 'happily', 'neck', 'waiting', '123', 'rg21', 'inside', 'planning', 'uup', '61610', 'flag', 'mobs', 'replacement', 'champlaxigating', 'usher', 'receipt', 'bang', 'juz', 'tlp', 'stopbcm', 'rto', '09053750005', 'email', 'junna', 'wer', 'admirer', 'review', 'apparently', 'sayhey', 'love', 'lotr', 'national', 'prediction', '78', 'dedicate', 'ovulation', 'frndsship', 'iphone', 'versus', 'yoville', 'bec', 'scared', 'billion', 'corporation', 'pdate_now', 'goodo', 'that2worzels', '08702490080', 'stairs', 'other', 'fav', 'yupz', 'ttyl', '50ea', 'freely', 'stuffs', 'warming', 'hooked', 'philosophy', 'ldnw15h', 'hate', 'jones', '69101', 'shade', 'eng', 'comin', 'annoncement', 'frnds', 'able', 'tuition', 'resort', 'usps', 'complementary', 'latests', 'grocers', 'woozles', 'spend', 'required', 'baller', 'water', 'moseley', 'looking', 'option', 'bleh', 'axis', 'le', 'videosound', 'chinnu', 'mnths', 'explain', '08002986906', 'olympics', 'ikea', 'clearly', 'uks', 'dodgey', 'gving', 'immediately', 'somone', 'hundred', 'frauds', 'noline', 'unhappiness', 'snappy', 'doin', 'ink', 'panther', 'totes', 'token', 'temple', 'haiz', 'adrink', 'kanagu', 'ibm', 'wrong', 'quote', 'cud', 'wanting', 'darren', 'gotbabes', 'aluable', 'vibrate', 'pass', '08006344447', 'uwana', 'nat', 'glad', 'paru', 'dress', 'cricketer', 'amnow', 'postal', '09066380611', 'evrydy', 'hope', 'group', 'pobox75ldns7', 'elaborate', 'mat', 'rowdy', 'allowed', 'deposited', 'thepub', 'complimentary', 'kisses', 'texts', 'pence', 'valid', 'request', 'feathery', 'upping', 'offers', 'stars', 'ppm', 'come', 'affairs', 'working', 'skillgame', 'bluff', 'birthdate', 'laying', 'practice', 'scotch', 'vpod', 'cro1327', 'str8', 'unicef', 'eleven', 'm26', 'and', 'ding', 'careful', 'spoon', 'taking', 'decision', 'ffectionate', 'pictures', '87239', 'cnl', 'tablets', '3100', 'evenings', 'lttrs', 'geeeee', 'three', '87131', 'bedroom', 'sight', 'kip', 'odalebeku', 'before', 'breakin', 'fo', 'blake', 'victoria', 'simpsons', 'console', 'barrel', 'bristol', 'hehe', 'twins', 'flaky', 'display', 'never', 'reslove', '3lp', '9ja', 'prepayment', '08719180248', 'pin', '30pp', 'inshah', 'flights', 'announcement', 'ru', 'msgrcvd', 'cancer', 'avoid', '150ppm', 'captain', 'chapel', 'revision', 'beauties', 'apologise', 'hex', 'misbehaved', 'crickiting', 'thread', 'sure', 'blessing', 'chess', 'packing', 'program', 'anyone', '09066612661', 'amanda', 'heart', 'terrorist', 'promise', 'colleg', 'blood', 'nokia', 'needing', 'bajarangabali', 'studyn', '09111030116', 'optout', 'eerie', 'asked', 'downloads', 'uni', 'parco', 'census', 'buz', 'text', 'uv', 'fills', 'juswoke', 'yup', 'billy', 'skills', '09066362220', 'gap', 'prin', 'zac', 'did', 'shouting', 'andres', 'funny', '83110', 'many', 'hello', 'ukp', 'barkleys', 'lies', 'clothes', 'nick', 'japanese', 'requires', 'wings', 'smile', 'around', 'workand', 'yards', 'w8in', 'city', 'rows', 'l8', 'good', 'sun', 'winning', '8p', 'pataistha', 'sound', 'pc', 'australia', 'mon', 'serious', 'doit', 'nigeria', '1500', '30pm', 'throat', 'came', 'owed', 'has', 'trishul', 'vl', 'nimya', 'txtin', 'or', 'aberdeen', 'thgt', '00', 'sisters', '09050090044', 'atleast', '30s', '3750', '1131', 'unhappy', 'yar', 'parts', 'lingerie', '28th', 'fudge', 'starshine', 'resubbing', 'm263uz', 'sunny', 'east', 'stalk', 'begun', 'mahfuuz', 'syd', 'flatter', 'regular', 'worried', 'bani', 'becaus', 'missions', 'watevr', 'andre', 'everything', 'previously', 'password', 'steyn', '087016248', 'professional', 'closer', 'want2come', 'deep', 'lived', 'appeal', 'jorge', 'fuckin', 'tears', 'weekend', 'crap', 'spare', 'offer', 'empty', 'ahead', '09050000878', 'shaping', 'bird', 'pours', 'yetty', 'chachi', 'simply', 'offdam', 'interested', 'evng', 'gopalettan', 'aft', 'shuhui', 'system', 's89', 'epsilon', '2bold', 'asus', 'gn', '08715203649', 'check', 'peace', 'goss', 'vehicle', 'real1', 'li', 'across', 'nobbing', 'extra', 'stockport', 'semiobscure', 'film', 'cheyyamo', 'svc', 'shite', 'checkin', 'del', 'jas', '08448350055', 'idc', 'cstore', 'j', 'ure', 'invaders', 'live', 'bowl', 'swat', 'bsnl', 'fucking', 'wild', 'nobody', '09061701939', 'mittelschmertz', 'wahay', 'pls', 'ibiza', 'ground', 'revealed', 'hassling', 'virtual', 'power', 'cakes', 'urgnt', 'subscribe', 'enjoyin', 'colourful', 'texd', 'windows', 'gas', 'ta', 'ques', 'champ', 'arul', 'resume', 'bloody', 'fuuuuck', 'mfl', '118p', 'greatness', 'claims', 'chad', '32000', 'wnt', 'requests', 'creative', 'purple', 'strike', 'pehle', 'month', '08714712394', 'names', '87077', 'gym', 'mins', 'huai', 'print', 'yeovil', 'elaborating', 'toilet', 'chasing', 'suggest', '7634', 'tech', 'video', 'coping', 'expects', 'waitin', 'tmr', 'sabarish', 'ciao', 'toll', 'hospital', 'evn', '82050', 'poly', 'dnot', 'attitude', 'celeb', '3mobile', 'cheesy', 'lifeis', 'toppoly', 'software', 'either', 'caught', 'sources', 'lect', 'mobno', 'finally', '08719839835', 'snake', 'disc', 'sambar', 'hasn', '420', 'hack', 'biggest', 'browsin', 'removal', 'wlcome', 'ello', 'childish', 'woman', 'tht', 'supose', 'wicklow', 'pokkiri', 'custcare', '2px', 'birla', 'jontin', 'standing', 'forwarded', 'went', 'digi', 'w1a', 'mobileupd8', 'uncut', 'helen', 'thm', 'reserve', 'textoperator', 'pairs', 'scenery', 'juliana', 'hamster', 'freephone', 'sic', 'burn', 'church', 'gt', 'send', 'u', 'pushes', '09071512432', '2006', 'dats', 'index', 'pain', 'aight', 'spiffing', 'ayn', 'korli', 'days', 'sae', 'hvae', 'garbage', '80160', '0789xxxxxxx', 'snoring', 'insurance', 'stones', 'members', 'cooped', 'since', 'raping', '2mwen', 'pause', '26', 'growing', 'donno', 'incredible', 'dear', 'ji', 'summers', 'denying', 'meh', 'pouch', 'series', 'place', 'buns', 'takecare', 'tests', 'childrens', 'here', 'goggles', 'pobox12n146tf150p', 'appointments', 'smash', 'tok', 'exhaust', '08714714011', 'eyes', 'name', 'passionate', 'dude', 'passable', 'up4', 'establish', 'remb', 'watch', 'prey', 'bringing', 'fireplace', 'delivery', 'uh', 'inst', 'installing', 'mentor', 'corect', 'beg', '5th', 'slip', 'w1j6hl', 'election', 'ipod', 'far', 'aid', 'project', 'bet', 'sounding', 'attracts', 'suggestions', 'responsibility', 'contract', 'isaiah', '449050000301', 'l', 'recorder', '09071517866', 'raji', 'block', 'innu', '2years', 'signal', 'tactful', 'sms', 'alone', 'paragon', 'casualty', '18yrs', 'throw', 'rumour', 'although', 'abdomen', 'tho', 'olayiwola', '2005', 'uawake', 'rewarding', 'very', 'include', 'property', 'ctla', 'practising', 'afghanistan', 'santacalling', 'dry', 'hurt', 'deliveredtomorrow', 'loves', 'west', 'science', 'bangb', 'envy', 'armand', 'sitting', 'noun', 'dearly', 'lighters', 'care', 'neekunna', 'stuffing', 'information', '09061221061', 'hanging', '3650', 'relax', 'already', 'approaches', 'settled', 'def', 'cannot', '82324', 'its', '07099833605', '4utxt', 'seeking', 'cafe', '16', 'fear', 'gary', 'career', 'opinions', 'headin', 'box95qu', 'received', 'befor', 'glasgow', 'jacuzzi', 'tough', 'sachin', 'person2die', 'calm', 'rearrange', '150ppmpobox10183bhamb64xe', 'missing', 'worrying', '23f', 'promotion', 'beforehand', 'find', 'hui', 'journey', 'vote', 'affectionate', 'sppok', 'taste', 'dock', 'enuff', '10', 'tensed', 'bt', 'manege', 'sd', 'perfect', '09099726395', 'stitch', 'favour', 'bear', 'reminding', 'presence', 'avenue', 'wall', 'amused', 'medical', 'strewn', 'instructions', 'pap', 'sim', 'becoz', '07880867867', '28days', 'arrange', 'official', 'p', 'tmrw', 'pobox', 'rencontre', 'ogunrinde', 'drinkin', 'margin', 'marriage', 'scratching', 'coast', 'specific', '09065394973', '83021', '89938', 'spotty', '89693', 'suprman', 'words', '08712103738', 'upgrade', 'vava', 're', 'a21', 'maybe', 'amp', 'wipro', '03', 'players', 'box139', 'burden', 'can', '5years', 'sympathetic', 'iknow', 'downstem', 'maniac', 'eerulli', 'for', '9307622', '08712317606', 'bold', 'tyrone', 'matrix3', 'companion', 'pansy', 'hut', 'neither', 'bcaz', 'jsut', 'understand', 'compensation', 'leanne', '08718723815', 'readiness', 'okday', 'wknd', 'reached', 'ny', '_', 'bids', '09041940223', 'nichols', 'mode', 'secrets', 'nmde', 'ends', 'ethnicity', '5digital', 'choice', 'center', 'arab', 'sticky', 'coz', '83039', 'ful', 'dear1', 'hu', 'jerry', 'welcomes', 'rajas', 'mmm', 'route', 'mouth', 'sign', 'positive', 'flyng', 'necessary', 'commercial', '09066362206', 'posted', 'h', 'basically', 'maretare', 'cnupdates', 'body', 'mcr', 'sue', 'coherently', 'sub', 'dined', '3gbp', 'hunting', '8077', 'woodland', 'quarter', 'beside', 'ternal', 'badrith', 'games', 'height', 'miracle', 'milk', 'confused', 'later', 'rings', 'wahala', 'bring', 'fatty', 'ain', 'mtalk', 'prestige', 'kidding', 'onam', 'pick', 'worth', 'gibbs', 'sam', 'terrific', 'use', 'french', 'bought', '3230', '2814032', 'strange', 'management', 'virgins', 'kind', 'llspeak', 'sucker', 'shivratri', 'throwing', 'pleasant', 'busetop', 'apeshit', 'helpful', '92h', 'scraped', '150p', 'everybody', 'popcorn', 'airtel', 'px3748', '69988', '02085076972', 'wasnt', '4txt', 'picking', 'excited', 'ing', 'stamped', 'minutes', 'eventually', 'imf', 'bac', '99', 'propsd', 'burning', 'elama', '38', 'lecturer', 'this', 'parties', 'trainners', 'enjoy', 'thousands', 'hypertension', 'attractive', 'acnt', 'ec2a', 'wtc', 'relocate', 'challenging', 'lead', 'lips', 'shy', 'inconvenient', 'highest', '80086', 'cast', 'pixels', 'tablet', 'belive', 'fedex', 'spoiled', '08718720201', 'prem', 'pod', 'guy', 'invest', 'goals', 'oreo', 'no1', 'fm', '95', 'african', 'stability', 'brand', 'newsletter', 'taka', 'hee', 'aunt', 'edition', 'ebay', 'permission', 'nottingham', 'sweatter', 'truro', 'my', 'ish', 'somewheresomeone', 'luxury', 'euro', 'lamp', 'hook', 'okies', 'haven', 'ladies', 'smiley', 'earn', '116', 'watching', 'pants', 'rally', 'macedonia', 'drugdealer', 'ecstasy', 'kl341', '2marrow', '7548', 'advance', 'abnormally', 'go2', 'payment', '36504', 'stores', 'bx420', '09066368470', 'supports', 'guesses', 'repair', 'culdnt', '08718725756', 'bedbut', 'valid12hrs', 'twenty', 'tb', 'paces', 'understood', 'cloud', 'read', '37819', 'bcm', 'penny', 'arabian', 'gained', 'transferred', 'booty', 'await', 'somewhere', 'gona', 'fantasy', 'alex', 'wrench', 'cup', 'suits', 'tomorw', 'lekdog', 'support', 'salad', 'bilo', 'swtheart', '83355', 'lap', 'impatient', 'truffles', 'percentages', 'seemed', 'chatting', '2nhite', 'atlanta', '08712402902', 'keeps', 'jul', 'subscription', 'havin', 'frequently', 'hangin', 'stories', 'fainting', 'speeding', 'gettin', 'complacent', 'drpd', 'reg', 'pull', 'msg150p', 'xx', 'the', 'someonone', 'headstart', 'dream', '08001950382', 'approaching', 'hurry', 'news', 'idu', '08712400602450p', 'selected', 'club4', 'as', 'categories', 'boss', 'elliot', '100percent', 'arguments', 'compulsory', 'spam', 'purse', 'plus', 'fly', 'tau', 'triple', '08712400603', 'compare', 'dorothy', 'reasons', 'tackle', 'safety', 'bless', 'pobox202', 'convincing', '08002986030', 'furniture', 'essential', 'widelive', '114', 'possible', 'soryda', '09066364589', 'shared', 'mirror', 'ag', '946', 'aboutas', 'chinky', 'logging', 'chicken', 'keluviri', 'take', 'gossip', 'gm', 'bat', 'final', '08002988890', '09061701444', 'course', '4742', 'studying', 'vu', 'unsold', 'cliff', 'vomit', 'receive', 'cutie', 'exorcist', '5free', 'chapter', 'sprint', 'seconds', 'toa', 'visiting', 'strt', 'desperate', 'sky', 'drivin', 'ie', 'f', 'impressed', '01223585334', 'dnt', 'moving', 'hum', 'irulinae', 'without', 'now1', 'happend', 'bcm1896wc1n3xx', 'goodtime', 'tenants', 'raglan', 'gr8', 'knock', 'dt', 'references', 'events', 'regards', 'mite', 'ups', '3xx', 'naked', 'tue', 'ela', 'overdose', 'running', 'ltdhelpdesk', 'fundamentals', 'gautham', 'dark', 'symbol', 'natalie2k9', 'dysentry', 'dave', 'mind', 'timings', 'polyc', 'llc', 'punish', 'recently', 'lark', 'position', 'monkey', '42049', 'pooja', 'outstanding', 'lines', 'spook', 'roses', 'remains', 'st', 'reading', 'emc1', 'surprised', '2309', 'anyways', 'hlday', 'install', 'agent', 'details', 'webadres', 'image', 'webeburnin', 'cm2', 'egg', 'voice', '3qxj9', 'telephonic', '08706091795', 'mindset', 'hogli', 'cutest', 'adp', 'pete', 'lautech', 'volcanoes', '910', 'weather', 'reminded', 'weaseling', 'kiefer', 'weekends', 'bhaskar', 'kusruthi', 'ultimatum', 'fro', 'wan2', 'gonnamissu', 'fifteen', 'broad', 'qi', 'forgiven', 'looked', 'wk', 'itcould', 'onum', 'floppy', '0207', 'toot', 'ccna', 'landing', 'chinese', 'show', 'generally', 'only', 'plumbers', 'happened', 'right', 'question', 'pissed', '4give', 'gbp', 'romantic', 'ctagg', 'ya', 'rightly', 'torch', '169', 'owe', 'greatest', 'urawinner', 'shanil', 'cutter', 'izzit', 'jacket', '80878', 'divorce', 'calld', 'wkly', 'kid', 'itried2tell', 'lots', 'shell', 'como', 'organise', '87070', 'luvs', 'crisis', 'calicut', 'worms', 'yest', 'psxtra', 'kr', '13', 'tissco', 'begin', 'ear', 'arrived', 'yourjob', '4eva', 'movies', 'eachother', 'dancing', 'moves', 'bf', 'door', 'callcost150ppmmobilesvary', 'webpage', 'call', '0871212025016', 'brownies', 'studentfinancial', 'unfolds', 'access', 'todays', 'js', 'called', 'jolly', 'urfeeling', 'prompts', 'grahmbell', 'ú1', 'linux', 'honest', 'nightnight', 'neft', 'rael', 'borin', 'jokes', 'grumble', 'woohoo', 'seventeen', 'worries', '1225', 'toothpaste', 'cuz', 'gets', 'fix', 'hunks', 'pride', 'b', 'showers', 'isn', 'deus', 'dating', 'cruise', 'vibrant', 'dub', 'complain', 'evening', 'racing', 'min', 'gotany', '0721072', 'gardener', 'medicine', 'meaningful', 'pretend', 'm227xy', 'opening', 'flew', 'environment', 'fantasies', 'on', 'coimbatore', 'renewing', 'accomodations', 'stolen', 'multimedia', 'meatballs', 'spoke', 'rule', 'nahi', 'hiphop', 'treatin', '09064019014', 'poly3', 'excellent', 'appy', 'senor', '1000s', 'steps', 'rupaul', 'pillows', 'skirt', '449071512431', 'honey', 'veggie', '2moro', 'nb', 'projects', 'hi', 'removed', 'eighth', 'mate', 'were', 'wo', 'particularly', 'anywhere', 'loyal', 'moms', 'sochte', 'freshers', 'nowhere', '08715203656', 'combine', 'wish', 'bleak', 'action', 'run', 'sonyericsson', '08712402578', 'pobox12n146tf15', '21', 'haf', 'promoting', 'submitting', 'hairdressers', 'cochin', 'figures', 'mt', 'sitter', 'bank', 'skint', 'thinking', 'max10mins', 'kills', 'finest', 'um', 'tea', 'rstm', 'dresser', 'camry', 'painting', 'hilarious', '09701213186', 'something', 'cheer', 'icon', 'familiar', 'lyfu', 'predict', 'above', 'dump', 'telphone', 'if', 'ummmmmaah', 'credited', 'elephant', 'supreme', 'dealing', 'attention', 'olowoyey', 'fifth', 'thank', 'nights', 'freaking', 'confirm', 'amazing', 'discuss', 'discussed', 'taunton', 'arise', 'lord', 'cs', '07123456789', 'available', 'yelow', '9153', 'hanks', 'valentines', 'copies', 'sink', 'dressed', 'frnt', 'cross', 'avenge', 'gram', 'u2moro', '85233', '48', 'checkmate', 'liquor', 'proof', 'big', 'box39822', 'tension', 'lookin', 'holby', 'seems', 'an', 'perumbavoor', 'kay', 'male', 'wrks', 'nice', 'collection', '310303', 'get4an18th', 'jan', '08718711108', 'financial', 'potato', 'dentist', '08719180219', 'dino', 'textpod', 'bao', 'takes', '5k', 'paper', 'springs', '09096102316', 'repent', 'orchard', 'subscribe6gbp', 'falls', 'reacting', 'poortiyagi', 'technologies', '402', 'brains', 'twat', 'bottom', 'changes', 'new', '47', 'mag', 'nusstu', 'tobacco', 'amt', 'enna', '2watershd', 'informed', 'lanka', 'skilgme', 'alternative', '09050003091', 'lil', 'result', 'girl', 'tee', 'murderer', 'plumbing', 'oooh', 'noe', 'warwick', 'accident', 'messaged', 'sensible', 'youre', 'lf56', 'viva', '4u', 'norm', 'nudist', 'sh', 'best', '08719181259', 'fond', 'theater', 'spatula', 'cr01327bt', 'music', 'taylor', 'chip', 'yi', '1win150ppmx3', 'pesky', '09064017305', 'rr', 'order', 'several', 'teresa', 'south', '08712460324', 'checked', '087187262701', 'camera', 'sang', 'shb', 'forum', '09066649731from', 'respond', 'sending', 'nic', 'brandy', 'cutefrnd', 'anymore', 'march', 'tming', 'offense', 'then', 'indicate', 'history', 'huiming', 'memory', '10ppm', 'ducking', 'engin', 'worlds', 'wee', 'death', 'red', '07090298926', '82468', 'cause', 'smiled', 'sugar', 'cares', 'lux', 'wellda', 'killed', 'tonight', 'frm', 'citylink', 'kingdom', 'piece', 'insects', 'taught', 'ltd', 'meow', '4years', 'cheery', 'gal', 'amplikater', 'bong', 'pilates', 'cheat', 'advice', 'burnt', 'leftovers', 'tbs', 'shortcode', 'queries', '1000call', '3g', 'pray', 'spontaneously', 'underdtand', '27', 'hug', 'renewed', 'haventcn', 'gep', 'panic', 'president', 'over', 'gsex', 'leave', 'gifts', 'armenia', 'hitler', 'timin', 'sum1', 'ovarian', 'noncomittal', 'onbus', 'dippeditinadew', '84199', 'least', 'correction', 'status', 'sos', 'coccooning', 'permissions', 'sleepwell', 'beneficiary', 'chgs', 'making', '83118', 'logon', 'n9dx', 'dessert', '08718726270', 'until', 'luckily', 'crossing', 'suddenly', 'clas', 'coveragd', 'personality', 'dick', 'tape', 'chances', 'peak', 'punch', 'den', 'guilty', 'stressfull', 'argentina', 'shoulders', 'roger', 'weak', 'delay', '69969', 'm221bp', 'wid', 'spree', 'lick', 'stage', 'total', 'matured', 'hon', 'theacusations', 'worse', 'tonights', 'ros', 'surly', 'gayle', 'simple', 'speling', '2go', 'minmoremobsemspobox45po139wa', 'steal', 'fr', 'wipe', 'patent', 'dual', '83435', 'lager', 'macs', 'jules', 'foley', '5226', 'mcfly', 'greeting', 'warranty', 'mobilesdirect', 'abiola', 'bakra', 'premier', 'ham', '08718727868', 'getstop', '08708800282', 'fumbling', 'bit', 'goigng', 'canary', 'underwear', 'conform', 'beautiful', 'cheered', 'havbeen', '750', 'bday', 'newest', 'coffee', 'packs', 'reveal', 'blu', 'while', 'photos', 'dudette', 'fiend', 'usb', 'stopcost', 'tessy', 'lady', 'tip', 'barolla', '8027', 'anyplaces', 'priscilla', '08715205273', 'vegetables', 'inperialmusic', 'shrub', 'behind', 'refunded', 'masters', 'prsn', 'strict', 'trek', 'tomo', 'creativity', 'activate', 'slave', 'part', 'dialling', 'ntimate', 'else', 'slacking', '09064017295', 'xxxxxxxx', 'speaking', 'lands', 'roller', 'fathima', 'plural', 'morn', 'telugu', 'gravel', 'thats', 'edwards', 'hesitant', 'coins', 'identification', 'wa', 'anti', '7mp', 'weekly', 'filthy', 'satsgettin', 'abeg', '09056242159', '82242', 'vibrator', 'cali', 'uhhhhrmm', 'meet', 'dismissial', 'mitsake', 'note', 'stuff', 'require', '08712405022', 'c52', 'squid', 'letters', '07008009200', 'twice', 'art', 'legs', 'jazz', 't4get2text', 'baaaaabe', 'twilight', 'placed', 'cupboard', 'temp', 'executive', 'wasting', 'wrld', 'voucher', 'wap', 'toyota', 'loooooool', 'night', 'green', 'hanuman', 'now', 'favorite', 'hv', '8883', 'escape', '09099725823', 'retard', 'carly', 'sometime', 'last', 'bud', 'roomate', 'beach', 'jd', 'much', 'profiles', 'magazine', 'promptly', 'ali', 'queen', 'wana', 'erupt', 'reassurance', 'lor', 'mail', 'l8rs', 'chance', 'wendy', 'bend', 'wenever', 'desert', 'correct', 'turkeys', 'difficulties', 'imat', 'mandan', 'in', '08717895698', '08717890890', 'shangela', '68866', 'double', 'images', 'entey', '83332', 'every1', 'swimsuit', 'dollars', 'cat', 'tonexs', 'answer', 'ps3', 'bras', 'ors', 'ana', '0825', 'june', 'namous', 'touched', 'or2stoptxt', 'weed', 'matters', 'tirunelvali', '2c', 'buddys', 'hear', 'siguviri', 'spoons', 'loo', 'buy', 'lily', '4info', 'sac', 'served', 'mine', 'shopping', 'decide', 'wotu', 'feelingood', 'fridge', 'press', 'suite', 'town', 'babes', 'marsms', 'clubmoby', 'outfor', 'afterwards', 'free', 'vikky', 'beauty', 'active', 'calculation', 'callfreefone', 'books', '6months', 'philosophical', 'dryer', '3optical', 'visitor', '0quit', 'private', 'drivby', 'oyster', 'hot', 'embarrassed', 'rumbling', 'velusamy', 'muz', 'algebra', 'complaining', 'tiwary', 'owns', 'shortly', 'duchess', 'verifying', 'dint', 'grave', 'easter', '6pm', 'randomlly', 'dependents', 'prabu', 'restocked', 'female', 'friends', 'gumby', '02', '5min', 'plm', 'nicky', 'entry41', 'whole', 'bari', 'standard', 'wn', 'pushbutton', 'mk17', '15541', 'eek', 'wml', 'ugh', 'sall', 'dudes', 'relatives', 'to', '7zs', 'downon', 'manchester', 'ask', '11pm', '08717168528', '8am', 'cheating', 'himso', 'xxxxx', '98321561', 'slept', '2i', 'flavour', 'holding', 'tscs', 'soundtrack', 'ringing', 'mandy', 'mum', 'bishan', 'str', 'joking', 'blogspot', 'not', '4goten', 'molested', 'k', 'sumthin', 'range', 'jaz', 'pmt', '50', 'possibility', 'channel', 'lccltd', 'alert', 'africa', 'wun', 'shrek', 'sexual', 'walmart', 'joanna', 'shot', 'rocking', 'registered', 'enters', 'biz', 'titles', 'pack', 'surrender', 'swollen', 'recpt', 'wherre', 'collapsed', 'rounder', 'vivekanand', 'pt2', '69669', 'listened2the', 'solihull', 'congrats', 'portege', 'head', 'time', 'guessed', 'help08714742804', 'shiny', 'guidance', 'dental', 'scotsman', 'jurong', 'papa', 'dormitory', 'nyt', 'prizes', 'tick', 'http', 'clearer', 'says', 'gdeve', 'ything', 'enufcredeit', 'kick', 'delicious', '6669', 'morning', 'ones', 'hence', 'facilities', 'lifting', 'illspeak', 'zhong', 'determine', 'prolly', 'batch', 'buyer', 'recycling', 'praps', '087187272008', 'va', 'prizeswith', 'spending', 'school', 'lucky', 'bx', 'europe', 'length', 'il', 'caroline', 'avoiding', 'bookedthe', 'belligerent', 'vip', 'toclaim', '4882', 'tat', 'mad', 'thk', 'numbers', '08718727870', 'attended', 'skip', 'staring', 'pobox45w2tg150p', 'matric', 'hmmmm', 'ffffuuuuuuu', 'praises', 'sagamu', 'usc', 'rates', '6hrs', 'tkls', 'l8er', 'yummy', 'survey', 'lazy', '18p', 'specs', 'she', 'chechi', 'artists', 'raise', 'nr31', 'db', '89123', 'hiding', 'korean', 'poboxox36504w45wq', 'labor', 'crab', 'dose', '2price', 'update', 'fa', 'eire', 'hill', 'selling', 'afternoons', 'revealing', 'upd8', 'lecture', 'seeds', 'pounded', 'hg', '7250', 'together', 'masteriastering', 'gotta', 'ujhhhhhhh', 'puzzeles', 'rum', 'frens', 'explicit', 'depression', 'yalrigu', 'leaving', 'areyouunique', 'whats', 'roommates', 'themed', 'replied', 'cashto', 'open', 'hang', 'work', 'dificult', 'cornwall', 'jungle', 'could', '08452810075over18', 'mone', 'almost', 'jackson', 'chosen', 'amongst', 'method', 'cappuccino', '08701417012150p', 'web2mobile', 'hasbro', '08704050406', 'gentleman', 'endof', 'sacked', 'ifink', 'starting', 'interflora', 'j5q', 'entitled', 'accounting', 'tips', '9758', 'payback', 'loss', 'age23', '44', 'ms', 'poet', 'unmits', 'necesity', 'macho', 'alle', 'avent', 'early', 'respectful', 'toughest', 'restaurant', 'settling', 'cry', 'dumb', 'olol', 'predicting', 'snot', '07742676969', 'thesmszone', 'terrible', 'voicemail', 'individual', 'banks', 'shelf', 'stripes', 'aftr', 'jstfrnd', 'msn', 'entirely', 'flip', 'phb1', 'violet', 'small', 'canceled', '100txt', 'gloucesterroad', 'urmom', 'monkeespeople', 'stopcs', 'jenxxx', 'everyboy', 'pay', 'college', 'slow', 'itself', 'wasted', 'meals', 'pouts', 'neshanth', 'sweetie', 'faggot', '087104711148', '21st', 'teju', 'teaches', 'patty', 'lvblefrnd', 'glands', 'bugis', '09061702893', 'maturity', 'winds', 'sef', 'warning', 'cdgt', 'ads', '88222', 'transaction', 'meetins', 'mu', 'splash', 'move', 'usually', 'treated', 'oyea', 'ps', 'dontcha', 'money', '50award', 'applyed', 'padhe', 'nange', 'wth', '1da', 'unsubscribe', 'eg', 'angry', 'partner', 'mobilesvary', 'mummy', 'harry', 'giving', 'jealous', 'jelly', 'practicing', 'unsub', 'bout', 'under', 'unemployed', 'just', 'shouldn', 'callon', '6days', 'parent', 'messages', 'different', 'owl', 'unintentionally', 'bone', 'txtno', 'impossible', '0870737910216yrs', 'old', 'essay', 'carryin', 'fantastic', 'dad', 'all', 'hogidhe', 'oble', 'hides', 'demand', 'brin', 'exposed', 'chillaxin', 'improved', 'engaged', 'arnt', 'outsomewhere', 'sunoco', 'smart', 'kidz', 'loko', 'searching', 'problems', '49557', '4got', 'meanwhile', 'ridden', 'cantdo', 'doesdiscount', 'die', 'texting', 'handle', 'popped', 'subs', 'shijutta', 'forgt', 'fifa', 'decisions', 'csbcm4235wc1n3xx', 'during', 'sip', 'thedailydraw', 'fuck', 'mth', 'village', 'better', 'werethe', 'chart', 'browser', 'fated', 'kolathupalayam', 'bill', 'todo', 'ringtone', 'realised', '1172', 'hip', '14thmarch', 'woods', 'jenne', 'bash', 'termsapply', 'happening', 'yeh', 'mallika', 'whether', 'mention', 'flute', 'house', 'warned', 'yesterday', 'atten', 'aa', 'scrounge', 'm', 'eppolum', 'box326', 'odi', 'pookie', 'scores', 'giggle', 'watches', 'wks', 'weirdy', 'abi', 'prepare', 'appt', 'apartment', 'cloth', 'mgs', 'festival', '177', 'bowa', 'which', 'treat', 'wats', 'aunties', 'children', 'cuck', 'stress', 'cusoon', 'celebrations', 'witout', 'wherever', '2stoptxt', 'sandiago', 'showrooms', 'smear', 'cousin', 'deeraj', 'university', 'finding', '3ss', 'limits', '80608', 'hurting', 'tagged', 'aeroplane', 'polyphonic', 'uptown', 'sarcasm', 'kit', 'suntec', 'nit', 'cell', 'training', 'stunning', 'jo', 'travel', 'walkin', 'portions', '63miles', '087123002209am', 'acting', 'phrase', 'blah', 'marketing', 'northampton', 'ym', 'henry', '7876150ppm', 'one', 'friday', 'analysis', '7684', 'spinout', '____', 'mumhas', 'bag', 'shanghai', 'salon', 'chez', 'satisfied', 'bein', '21870000', 'kids', 'noice', 'ctxt', 'gent', 'amigos', 'pimples', 'younger', '09064012160', 'canteen', 'bike', 'bills', 'deer', 'lyk', 'pic', 'accent', 'update_now', 'hmm', 'laxinorficated', 'ettans', 'bonus', '2nite', '87121', 'wkent', 'fellow', 'silent', 'airport', 'gravy', 'takin', 'hurts', 'living', 'loveme', 'wtf', 'havent', 'oni', 'wife', '09061701461', 'eaten', 'jersey', '97n7qp', 'durban', 'help', 'noooooooo', 'character', 'made', 'through', 'christians', 'embarassing', 'forced', 'cd', '2exit', 'forgets', 'quit', 'explosive', 'ws', 'chk', 'myspace', 'smiles', 'transfr', '000pes', 'swan', 'sp', 'hurried', 'aletter', 'yaxx', 'minecraft', 'goodmorning', 'hotels', 'untamed', 'bimbo', 'ache', 'indyarocks', 'dough', 'proze', 'customer', 'opportunity', 'strtd', 'pocked', 'formally', 'im', 'butting', 'used', 'another', 'yarasu', 'may', 'tariffs', 'george', 'building', 'customercare', 'howard', 'holder', 'printing', 'csc', 'handing', 'tree', 'varaya', 'testing', 'young', 'semester', 'lunch', '86888', 'wil', 'logo', 'supplies', 'iam', 'tulip', 'mmmm', 'spile', 'calls1', 'php', '434', 'rounds', 'dentists', 'heap', 'missunderstding', 'port', 'sometme', 'tones', 'simpler', 'major', 'join', 'trusting', 'tohar', 'dps', 'kallis', 'appropriate', 'domain', 'chest', 'freezing', 'education', 'pobox84', '08714342399', 'minute', 'diamond', 'inner', 'dvd', 'uncomfortable', 'nose', 'plyr', 'hogolo', 'redeemable', 'ended', 'breathe', 'copy', 'iwas', 'breaking', 'youi', 'bubbletext', 'processed', 'glo', 'completes', 'occasion', '88088', 'snogs', 'thkin', '06', 'riley', 'comp', 'marrge', 'da', 'recieve', 'desparately', 'physics', 'ctargg', 'pm', 'book', 'breeze', 'instituitions', 'persevered', 'unredeemed', 'tui', 'phone', 'printer', 'yah', 'careless', 'flirtparty', 'cooking', 'magical', 'loans', 'with', 'fletcher', '09094100151', 'pole', 'ever', '820554ad0a1705572711', 'chikku', 'wisheds', 'reverse', 'mis', 'carlin', 'prakasam', 'msgs', '65', 'reality', 'funeral', 'imp', 'air1', 'issues', 'listen', 'eldest', 'euro2004', 'cyclists', 'full', 'bbq', 'roast', 'hadn', 'scold', 'starve', 'hoping', 'breath', 'bare', '7th', 'unrecognized', '400thousad', 'tampa', 'buttheres', 'deal', 'gals', '09058094455', 'ours', 'laptop', 'ni8', 'smiling', 'snatch', 'bedreal', 'karaoke', 'hallaq', 'invention', '050703', 'florida', 'madurai', '09061104276', 'mufti', 'walking', 'housewives', 'second', 'convey', 'wrk', 'tscs087147403231winawk', '09058095107', 'dine', 'regarding', 'wallet', 'stream', 'charged', 'notebook', 'heehee', 'hand', 'company', 'real', 'aunty', 'christmas', 'womdarfull', 'sleepin', 'logos', '021', 'monthly', 'thatmum', '50pmmorefrommobile2bremoved', 'corrupt', '4wrd', 'offering', 'kegger', '84128', 'postcard', 'fullonsms', 'bandages', 'traveling', 'humanities', '3510i', 'ffffffffff', 'cm', 'manual', 'basic', 'sports', 'identifier', 'died', 'lotsly', 'musthu', 'jackpot', 'luck', 'dokey', 'eurodisinc', 'visit', 'account', 'shove', 'al', 'wthout', 'ambrith', 'accept', '526', '09058099801', 'opted', 'listening', 'kiosk', 'hp', 'pert', 'swalpa', 'boggy', 'dogs', 'bergkamp', 'what', 'borderline', 'hor', 'confirmd', 'tv', 'simulate', '69200', 'secretly', 'flat', 'defo', 'pobox36504w45wq', 'duffer', '150ppermesssubscription', 'predicte', '1000', 'campus', 'beer', 's3xy', 'mens', '09058095201', 'concerned', '300603', 'battle', 'weigh', 'batchlor', 'favor', 'horo', '800', 'negative', 'whilltake', 'handsome', 'opened', 'reltnship', 'adore', 'expired', '28', '5000', 'questioned', 'freaky', 'missin', 'waheed', 'addie', 'reunion', 'loan', 'flung', 'mustprovide', 'sentence', 'watchin', 'magicalsongs', 'forward', 'april', 'zaher', 'jogging', 'desires', 'innings', 'sunshine', '0844', 'hella', 'thankyou', 'agidhane', 'am', 'lov', 'asleep', 'witot', 'grow', 'gf', 'gr8prizes', 'checkup', 'tenerife', 'rcvd', 'creepy', 'bcoz', 'pears', 'that', 'hasnt', 'locks', '530', 'deck', 'shldxxxx', 'salam', 'amrca', 'hostile', 'beggar', 'sun0819', 'justthought', '09071512433', 'sinco', '1680', 'fair', 'noi', 'might', 'achieve', 'o', 'summon', 'quality', 'returns', 'un', 'scratches', 'classmates', 'joined', 'disclose', 'whatever', 'loosu', '18', 'teletext', 'faggy', 'into', 'melle', 'muah', '0796xxxxxx', 'ree', 'lovin', 'gudnyt', 'took', 'function', '1thing', 'need', 'sterling', 'boytoy', 'dec', 'reset', 'forever', 'orange', 'programs', 'kickoff', 'jst', 'lets', 'sq825', 'vital', '09058094583', 'dolls', 'motivating', 'dust', 'loses', 'hours', 'hamper', '083', 'netun', 'tsunami', 'smsrewards', 'strips', 'os', 'fave', 'confirmed', 'assessment', 'brah', 'normally', 'wrongly', 'be', 'eshxxxxxxxxxxx', 'valentine', '6wu', 'flash', '2geva', 'gauti', 'kappa', 'maximum', 'legitimat', 'sea', 'erm', 'corrct', 'astne', 'transfer', 'trav', 'melnite', 'easiest', 'liked', 'buses', 'james', 'items', 'nothing', 'vouchers', 'stated', 'oic', 'true', 'thus', '3x', 'pile', '2morrow', 'granite', 'representative', 'rules', 'cook', 'fingers', 'next', 'laundry', 'side', 'mobsi', 'feel', 'gmw', 'secondary', '29', 'b4280703', 'turns', 'play', '4t', 'street', 'register', 'barcelona', 'speciale', 'phne', 'will', '80082', 'reminder', 'message', 'payoh', 'shitinnit', 'wesleys', 'family', '88600', 'mutai', 'placement', 'asap', 'tata', 'bid', 'tim', 'social', 'lucy', 'coughing', 'chop', 'shortage', 'm6', 'resizing', 'waited', 'sportsx', 'thoughts', 'pizza', 'tolerat', 'expires', 'royal', 'hell', 'renewal', '08715203685', 'hopes', 'danger', 'receiving', 'shining', 'between', 'excuses', 'chocolate', 'english', 'term', 'aig', 'various', 'pg', 'fab', '09066361921', 'fren', 'algarve', 'decking', 'accumulation', 'nvm', 'bettersn', 'gamb', 'tirupur', 'anythin', 'declare', 'leaves', 'barred', 'the4th', 'der', 'interfued', 'sathya', 'every', 'wocay', 'ese', 'brain', 'delivered', 'pulling', 'senthil', 'answered', '08709501522', 'stifled', 'celebration', 'know', 'mailbox', 'difficult', 'forget', 'maximize', 'mobiles', 'certainly', 'ate', 'wadebridge', 's', 'app', 'callertune', 'word', 'entered', 'canname', 'sugardad', 'hard', 'networks', 'strong', 'b4190604', 'finn', 'n8', '4brekkie', 'laden', 'bloo', 'fieldof', 'fffff', '087147123779am', 'ouch', 'parents', 'tiny', 'freemsg', 'm39m51', 'upon', 'smoking', 'tlk', 'location', 'tkts', 'unclaimed', 'ex', 'lay', 'guess', 'spreadsheet', 'gek1510', 'poured', 'cookies', 'hopefully', 'change', 'fever', '000', 'dot', 'luvd', 'oxygen', 'efreefone', 'cn', 'attempt', 'locations', 'i', 'attraction', 'kudi', 'useless', 'plaza', 'current', '3days', 'global', 'yep', 'pockets', 'solved', '08000938767', 'careers', 'fan', 'xam', 'give', 'wonderful', 'boatin', 'outreach', 'villa', 'definite', '078498', 'diwali', 'features', 'donyt', 'justfound', 'story', 'wewa', 'directly', '09063458130', '08715500022', 'post', 'firefox', 'hectic', '872', 'shrink', 'lounge', 'share', 'hm', 'england', 'hubby', 'stone', 'terry', 'skateboarding', 'brother', '24m', 'blogging', 'oz', 'smoothly', 'reserved', 'v', 'kettoda', 'eve', 'sura', 'nonetheless', 'drop', 'stable', 'why', 'thnx', 'bstfrnd', 'fight', 'purity', '6230', 'scorable', 'erutupalam', 'brilliant', 'playng', 'keralacircle', 'unique', 'connection', 'steam', 'dinner', 'wrkin', 'application', '14', '255', 'retrieve', 'enc', '4th', 'kalaachutaarama', 'olage', 'spanish', 'deepest', 'lancaster', 'chiong', 'step', 'ganesh', 'jus', 'stands', 'room', 'afford', 'speak', 'dsn', 'smaller', 'aah', 'occupied', 'willpower', 'impressively', 'paracetamol', 'surrounded', 'txting', 'nevr', 'fringe', 'doinat', 'ams', 'norcorp', 'admit', 'inspection', 'showr', 'vargu', 'valuing', 'centre', 'pax', 'ref', 'lei', '50rcvd', 'layin', 'teenager', 'restrictions', 'kicks', 'year', 'neighbor', '24th', 'data', 'previous', 'sexiest', 'mo', 'wed', 'ptbo', 'com', 'praveesh', 'timing', 'andrews', 'realy', 'yhl', 'msgrcvdhg', 'antibiotic', 'confidence', 'fancies', '83370', 'rp176781', 'horrible', 'wt', 'marking', 'dieting', '50p', 'dangerous', 'anna', 'tranquility', 'style', 'cc', 'irritates', 'sake', 'choosing', 'whoever', '80488', 'digits', 'sweets', '88800', 'closed', 'accidentally', 'qing', '08715705022', 'allo', '09050002311', 'hits', 'ice', 'fps', 'sliding', '1hr', 'promo', 'celebrated', '2wu', 'changing', 'th', 'shoving', 'hotmix', 'rhode', 'ansr', 'ron', 'ishtamayoo', 'tait', 'long', 'born', 'giv', 'parade', 'outgoing', 'reduce', 'doug', 'our', 'registration', 'jane', 'bevies', 'millions', 'yowifes', 'ithink', 'realising', 'dictionary', 'hmv', 'dawns', 'prob', 'w', 'sitll', '09066350750', 'fill', 'gender', 'skins', 'thuglyfe', 'eggs', 'considering', 'reserves', 'stalking', 'buzz', 'participate', 'venaam', 'girlfrnd', 'g', '09077818151', 'fake', 'tonite', 'coming', 'fixd', 'boat', 'linear', 'sem', 'shore', 'ikno', 'mahaveer', 'av', 'fondly', 'maangalyam', 'x49', 'antha', 'disk', 'margaret', 'swayze', 'gucci', 'aka', 'dice', 'easy', 'ar', 'nickey', 'darling', 'brats', 'wahleykkum', 'twinks', 'urgently', 'cuddling', 'nalla', 'mr', 'reply', 'great', 'father', 'nordstrom', '08700469649', 'insha', 'avatar', 'newspapers', 'withdraw', 'tells', 'winterstone', 'xuhui', 'shld', 'fightng', 'calls', '69696', 'anytime', 'intelligent', 'cosign', 'attach', 'raining', 'tddnewsletter', 'spouse', 'lingo', 'costa', 'carpark', 'overdid', 'partnership', 'grins', 'gimmi', 'evaluation', 'soil', 'dena', 'cleaning', 'control', 'combination', 'havebeen', 'neglet', 'outrageous', 'poker', 'availa', 'erotic', 'hiya', '09061790121', 'kb', 'rd', 'clip', 'same', 'miserable', 'likely', 'pretty', 'boost', 'sarasota', 'divert', 'tuesday', 'sweetest', 'drugs', 'netvision', 'pleasure', 'successfully', 'tops', 'alaikkum', 'cold', 'marandratha', 'celebrate', 'sariyag', 'unbreakable', 'level', 'experience', 'apologize', 'ghost', 'perhaps', '08717507382', 'blackberry', 'cheaper', 'alright', 'crucial', 'shd', 'truly', '80', '145', 'systems', 'talking', 'mathematics', 'ago', '1b6a5ecef91ff9', '1pm', 'movietrivia', 'man', 'lik', 'perform', '8714714', 'offered', 'proverb', 'smacks', '3uz', 'blessed', 'dd', 'parish', '1x150p', 'pressure', 'mtmsg18', 'hopeing', 'colleagues', 'handed', '08709222922', 'matter', 'slices', 'units', 'missy', 'andros', 'than', 'yan', 'maintaining', 'subs16', 'rayman', 'china', '0871750', 'lanre', 'remember', 'two', 'helloooo', 'endowed', 'ofsi', 'sane', 'retired', '07734396839', 'fuckinnice', 'inclu', 'guaranteed', 'trauma', 'kz', '786', 'rcv', 'unsubscribed', 'box403', 'spun', '500', 'laughed', 'howz', 'fizz', 'manda', 'nw', 'feels', 'sack', 'mini', 'm8', '850', 'illness', 'clock', 'piss', 'harish', '300603t', 'screaming', 'rebtel', 'table', 'ringtones', 'sirji', 'let', 'grandma', 'october', 'diet', 'suman', 'nyc', 'holiday', 'slap', 'outfit', 'threw', 'surprise', 'consensus', 'professors', 'cabin', 'ldn', 'brings', 'slots', 'ummifying', 'superior', 'pity', '4msgs', 'fromwrk', 'knowing', 'ovr', 'stubborn', 'knows', 'lyricalladie', 'charges', 'goodnight', 'othrwise', 'apo', 'lifebook', 'apt', 'westonzoyland', 'bw', 'become', 'thanks2', 'responding', 'teams', 'motorola', 'ystrday', 'kaiez', 'cheap', 'independence', 'guitar', 'prince', 'ryan', 'navigate', 'describe', 'suffers', 'nat27081980', 'houseful', 'win', 'refreshed', 'golf', 'prove', 'ecstacy', 'unni', 'thasa', 'bathe', 'province', 'experiment', 'cheers', '69698', 'stomps', 'uworld', 'vodafone', 'shijas', 'somerset', 'fidalfication', 'saibaba', 'welp', 'audrie', 'drunk', 'argh', 'involved', 'yijue', 'seriously', 'antelope', 'nattil', 'waaaat', 'tune', 'workout', 'innocent', 'groovying', 'musical', 'lodging', 'they', 'aretaking', 'straight', 'ft', 'hearts', 'nok', 'uncles', 'deviousbitch', 'bcmsfwc1n3xx', 'download', 'ijust', 'heads', 'confuses', 'snickering', 'url', 'dbuk', 'makiing', '0870241182716', 'gamestar', 'yet', 'increase', 'compass', 'exercise', 'say', 'rub', 'years', 'okmail', '4ward', 'lose', '180', 'signin', 'gam', 'stop2stop', 'regalportfolio', 'mark', 'more', 'blur', 'conveying', 'abta', 'kent', 'needle', '09061744553', '0808', 'test', 'such', 'gaytextbuddy', 'wherevr', 'hills', 'forgot', '8wp', 'haunt', 'memorable', 'key', 'orh', '09099726429', 'up', '4my', 'num', 'draws', 'durham', 'further', 'chase', 'see', 'huge', 'wishes', 'shirt', 'orig', 'rcd', 'poem', 'anyhow', 'monthlysubscription', 'thandiyachu', '31', 'refund', 'msgrcvd18', 'ndship', 'tookplace', 'hesitate', 'purpose', 'measure', 'leads', 'staff', '09057039994', 'cmon', 'pthis', 'phd', 'thirunelvali', 'screamed', 'carolina', 'piah', 'hanumanji', 'xxxxxxxxxxxxxx', 'fulfil', 'aathi', 'carefully', 'jump', 'colin', 'edhae', 'iwana', 'tgxxrz', 'mnth', 'smsservices', 'youphone', 'couch', 'iouri', 'mus', 'wizzle', 'must', 'joining', 'hour', 'notice', 'picture', 'myself', 'yo', 'sleepy', 'fri', 'sed', 'wifi', 'shag', 'payee', '2rcv', 'iz', '447797706009', 'sophas', 'bags', 'applausestore', 'hmph', 'oath', 'harri', 'charity', 'think', 'girlie', 'ibhltd', 'subject', 'persolvo', 'spageddies', 'smell', 'ger', 'videosounds', 'frontierville', 'grams', '80122300p', 'triumphed', 'inch', 'awarded', 'petrol', 'using', 'swhrt', 'yalru', 'jjc', 'goodevening', '62220cncl', 'overtime', 'we', 'boring', 'flaked', 'crowd', 'records', 'spys', 'disastrous', 'sk3', '008704050406', 'nagar', 'treats', '4xx26', 'anybody', 'decorating', 'claire', 'from', 'added', 'dosomething', '80062', 'faith', 'passport', 'fish', 'trouser', '139', 'cal', 'cramps', 'neway', '0906346330', 'uwant', 'srt', 'gua', 'paths', 'brothers', 'munsters', 'free2day', 'abusers', 'yourinclusive', 'drizzling', 'drops', 'spelled', '09061209465', 'lib', 'rajini', 'name2', 'debating', 'arent', 'monkeyaround', 'gari', 'oncall', 'anniversary', '1st', 'cost', 'billing', 'peril', 'provider', 'turn', 'weddingfriend', 'saying', 'largest', 'lengths', 'italian', '77', 'blow', 'genes', 'shitin', 'nigro', '6031', 'dammit', 'burrito', 'simonwatson5120', 'disasters', 'persian', 'sozi', 'maga', '0870', 'onlyfound', 'non', 'wot', 'jiu', 'greetings', 'met', '08719181503', 'shitstorm', 'lives', 'walked', 'oli', '7ish', 'pints', 'planet', 'department', 'broadband', 'anonymous', 'smarter', 'txts', 'ghodbandar', 'administrator', 'hf8', 'groovy', '3', 'supposed', 'pix', 'ig11', '42478', 'somethin', 'sheet', 'intention', 'wotz', 'betta', '5249', 'lover', 'due', '9996', 'format', 'was', 'actually', 'meetin', 'oooooh', 'sofa', 'path', 'farting', 'cu', 'mp3', 'nalli', '83222', 'dial', 'slaaaaave', 'preponed', 'attack', 'role', 'activ8', 'director', 'dent', 'pan', 'wonders', 'lodge', 'asusual', 'fiting', 'charlie', 'peach', 'bluetoothhdset', 'lane', 'fixedline', 'reboot', '41782', '674', 'raksha', '700', 'seen', 'bsn', 'ruin', 'left', 'nationwide', 'package', 'tickets', 'canada', 'alter', 'imma', 'hostel', 'rakhesh', 'paris', 'nothin', 'ability', 'log', 'thy', 'daywith', 'few', 'among', 'jap', 'success', 'exciting', 'tonght', 'norm150p', 'tacos', 'kfc', 'cared', 'echo', 'torrents', 'lennon', 'babygoodbye', '200p', 'doesn', 'smsco', 'sherawat', 'texted', 'embarassed', 'tsandcs', 'is', 'unable', 'lyrics', 'possessive', 'rest', '07801543489', 'ko', 'drive', 'correctly', 'tomorrow', '8th', 'shadow', 'turned', 'duo', 'tor', 'gpu', '09058097218', 'fell', 'nokia6650', 'r836', 'lul', 'mymoby', 'sez', 'resend', 'rentl', 'shindig', 'elvis', 'waking', 'jason', 'tongued', 'goin2bed', 'get', 'cougar', 'diff', 'compliments', 'anjie', 'ls1', 'teachers', 'barbie', 'greatly', '0845', 'hopeful', 'ahhhh', 'honesty', 'chic', 'job', 'performed', 'z', 'smoke', 'bribe', 'steak', 'treasure', 'figuring', '300p', 'woould', 'prefer', 'kochi', 'aww', 'line', 'looks', 'suite342', 'heard', 'transcribing', 'problem', 'youuuuu', 'sections', 'mack', 'closeby', 'guys', 'reasonable', '08712466669', 'incorrect', 'christ', 'girls', 'quiz', 'snuggles', 'ceiling', 'gage', 'entire', 'jocks', 'mushy', 'fine', 'bruce', 'september', 'beneath', 'important', 'bus', 'digital', 'predictive', 'atural', 'abbey', 'light', 'rcb', 'plans', 'deepak', 'boys', 'caps', 'wallpaper', '9pm', '08712402972', 'prayrs', 'parked', 'nutter', 'handset', 'brdget', 'holla', 'zebra', 'accordin', 'ldew', 'joke', 'none', 'figure', 'lush', 'pub', '08701417012', 'co', 'bro', '2stop', 'past', 'videophones', 'asian', 'wanna', '12mths', 'life', 'vale', 'woo', 'shoranur', 'gre', 'common', 'sary', 'cha', 'fold', 'resolution', 'them', 'visionsms', 'konw', 'ou', 'upgrdcentre', 'dogbreath', 'gin', '89034', 'earlier', 'pussy', 'hmv1', 'virgil', 'reflection', '89545', 'break', 'how', 'licks', 'footprints', 'catching', 'value', 'lac', 'askin', 'potential', 'bailiff', 'bruv', 'albi', 'purchase', 'cake', 'howdy', 'plum', '195', '09065171142', 'fret', 'blanked', '09064012103', 'topped', 'restock', 'ts', 'ho', 'dedicated', '02072069400', '09063440451', 'beloved', 'itwhichturnedinto', 'ph', 'soul', 'stomach', 'asthma', 'ironing', 'recognises', 'lays', 'gnt', 'forgive', 'overheating', 'babyjontet', 'fones', 'had', 'ages', 'premium', '220cm2', 'air', '2gthr', 'meive', '1million', '75', 'customers', 'curfew', 'tactless', 'answering', 'vid', 'ma', '08718727870150ppm', 'weirdo', 'mys', 'sk38xh', 'finance', 'kuch', '80182', 'monkeys', 'conclusion', 'peaceful', 'converter', 'dehydration', 'entertain', 'pleased', '61200', 'lim', 'happy', 'phoenix', 'planned', 'content', 'citizen', 'salesman', '2find', 'doctor', '84025', 'safe', 'wales', 'omw', 'event', 'frnd', 'coco', '447801259231', 'claim', 'bright', 'grl', 'baaaaaaaabe', 'clear', 'cardiff', 'yor', 'call09050000327', 'srs', 'la32wu', 'gei', 'user', 'hoped', 'lifpartnr', 'member', 'jokin', '2p', 'idps', 'expensive', '30ish', 'lesson', 'season', 'magic', 'exe', 'apples', 'mom', 'tix', 'textin', 'prices', 'condition', 'xchat', 'geting', 'alaipayuthe', 'perpetual', 'machan', 'fed', 'buying', 'bye', '08708034412', 'bcz', 'diesel', 'asthere', 'dey', 'sheffield', 'back', 'drum', '30th', 'alive', 'courageous', 'm8s', 'minmobsmorelkpobox177hp51fl', 'tootsie', 'dooms', 'mjzgroup', 'datz', 'merememberin', '50gbp', 'website', 'cops', 'yahoo', 'landlineonly', 'sphosting', 'go', 'freaked', 'woulda', '2u2', 'silence', 'tool', '9t', 'postcode', 'com1win150ppmx3age16', 'return', 'braindance', 'rushing', 'arrested', 'tried', 'playing', 'middle', 'slp', 'arguing', 'dabbles', 'lmao', 'unconsciously', '07xxxxxxxxx', 'swt', 'teach', 'tag', 'source', 'sen', 'java', 'jerk', 'sent', 'owo', 'low', 'sory', 'it', 'cereals', 'percent', 'freedom', 'fact', 'inr', 'thursday', 'wld', 'five', 'nimbomsons', 'outside', 'cw25wx', 'answr', 'singapore', 'imagination', 'samachara', 'usf', 'wildlife', '85555', 'outdoors', 'vomitin', 'inc', 'maat', 'kissing', 'possessiveness', '4a', 'bath', 'outs', 'knees', 'whens', 'roommate', 'woot', 'vat', 'dirty', 'shola', 'slovely', 'leading', 'concern', '09111032124', 'mistakes', 'guide', 'calling', 'oru', 'nowadays', 'plz', 'callback', 'disturbing', 'adding', '08700621170150p', 'add', 'awake', 'nokias', 'preferably', '2nights', 'coat', 'prevent', '1', 'funky', 'certificate', 'comprehensive', 'courage', 'lovejen', 'shame', 'marine', 'yelling', 'thia', 'ninish', '07973788240', 'trackmarque', 'thin', 'connections', 'slippers', 'sf', 'tolerance', '078', 'folks', 'eveb', 'tc', 'hardcore', 'someone', 'hotel', 'nearby', 'lionp', 'uneventful', 'google', 'sleepingwith', 'sittin', '09', 'entropication', 'trade', 'formal', '730', 'shower', 'dialogue', 'morrow', 'southern', 'nevering', 'mb', 'lst', 'matra', 'theres', 'evrey', '69888', 'weeks', 'gigolo', 'couldn', 'soc', 'equally', 'feelin', 'ki', 'la', 'musta', 'en', 'allday', 'aiyo', 'soonlots', 'complaint', 'score', '400', 'tirunelvai', 'sankranti', 'gbp4', '07090201529', '07046744435', 'urgh', 'sth', 'learned', 'er', 'fassyole', '12', '391784', 'ben', 'set', 'grownup', 'ew', 'epi', 'freefone', 'merely', 'sday', 'catch', 'doubletxt', 'bcs', 'reach', 'cbe', '2morow', 'c', '26th', 'writhing', 'bcums', 'anyones', 'pocay', 'mc', 'interesting', 'rajitha', 'convince', 'meant', 'contents', 'wud', 'eye', '24', 'inde', 'won', 'camcorder', 'speechless', 'bambling', 'does', 'walsall', 'cave', 'sold', 'tomorro', 'kept', 'amy', 'gower', 'sol', 'iraq', 'ctter', 'satisfy', 'main', 'idew', '945', 'gailxx', 'bay', 'apply', 'maintain', '3680', '08718730666', 'pure', 'space', '09066362231', 'textand', 'station', 'flower', '09058094565', 'goal', 'badass', 'achan', 'discreet', 'broth', 'fast', 'stoners', 'literally', 'developed', '08712405020', 'jaykwon', 'detroit', 'radiator', 'inches', 'olave', 'unspoken', '864233', 'la3', 'woke', 'si', 'nah', 'train', 'fb', 'secret', 'frndshp', 'daddy', 'wamma', 'unconscious', 'newport', 'nope', 'absolutely', 'vasai', 'surgical', 'earth', 'out', 'restrict', 'heltini', 'cards', 'squatting', 'diddy', 'jetton', 'tahan', 'donate', 'nap', 'dr', '153', 'mistake', 'crack', 'phoned', 'santa', 'kate', 'letter', '09050000460', 'sashimi', 'necklace', 'eastenders', 'opinion', 'tmw', 'msg', 'vouch4me', 'cme', 'elaine', 'goes', 'tired', 'membership', 'issue', 'responsibilities', 'massages', 'chickened', 'www', '09061221066', 'everyone', 'hoops', 'dance', 'neglect', 'thru', 'organizer', 'ourbacks', 'wicket', '2day', 'jay', 'stay', 'poor', 'txtstar', 'cleared', 'arrival', 'host', 'obviously', 'html', '09066364349', 'nxt', '1327', 'vday', 'record', 'po', 'tues', 'syria', 'appreciated', 'situation', 'dunno', 'scool', 'accommodationvouchers', 'based', 'indian', 'tomeandsaid', 'shracomorsglsuplt', '250k', 'needed', 'floor', 'engagement', 'party', 'millers', 'adsense', 'kindly', 'sheets', 'laid', 'conacted', 'easily', 'causes', 'dodda', 'except', 'western', '09058097189', 'loxahatchee', 'accommodation', 'datebox1282essexcm61xn', 'dogg', '20', 'das', 'worry', 'el', 'upto', 'north', 'most', 'ab', 'honeybee', 'barring', 'dismay', 'luv', '9ae', 'balloon', 'txt250', 'public', 'commit', 'nytho', 'fall', '1013', 'ultimately', '09066382422', 'theory', 'burgundy', 'freek', 'toshiba', 'pa', 'w45wq', 'hopeu', 'pale', 'officially', '08707500020', 'beware', 'malaria', 'sankatmochan', 'fucked', 'id', 'mmmmmm', 'lt', 'accidant', 'feb', '4', 'lovingly', 'mood', 'pudunga', 'ticket', 'home', 'specialisation', 'pleassssssseeeeee', 'lo', 'collected', 'start', 'singles', 'wonder', 'rate', 'jeremiah', 'myparents', 'mac', '7am', 'fakeye', 'crammed', '2morrowxxxx', 'wylie', 'scrappy', 'heat', 'pieces', 'ibh', 'til', 'abj', 'oh', 'slurp', 'computers', '1250', 'covers', 'noise', 'dignity', 'fran', 'sit', 'vijaykanth', '113', 'ba', 'have', 'finishes', 'saved', '165', 'walks', 'taxes', 'topic', 'ugadi', 'turning', 'arun', 'sunlight', 'knew', 'romcapspam', '09061743386', 'sick', 'icicibank', 'pocketbabe', 'tour', 'velachery', 'yoga', 'auction', 'your', 'csh11', '545', 'significance', 'allalo', 'statement', 'greet', 'lololo', 'resent', 'ias', 'lock', 'finishd', 'exams', 'abt', 'wesley', 'usmle', 'songs', '220', 'currently', 'avin', 'week', 'changed', 'strain', 'bam', 'fancy', 'comment', 'repeat', 'selfindependence', 'neighbour', 'chief', 'genus', 'code', 'jack', 'la1', 'fancied', 'capacity', 'jess', 'eight', 'gnarls', 'destiny', 'k52', 'investigate', 'ibn', 'approved', 'keeping', 'm60', 'potter', 'athome', '2lands', 'stuck', '4fil', 'ring', 'face', 'anand', 'unintentional', 'westlife', '4403ldnw1a7rw18', 'leh', 'jen', 'zogtorius', 'high', '08450542832', 'complexities', 'car', 'gaps', 'nt', 'talkbut', 'rt', 'hint', 'polyph', 'talked', 'txtx', 'knackered', '150ppmsg', 'weakness', 'biola', 'number', 'legal', 'mwahs', 'bad', 'fujitsu', '08714712412', 'utter', '08718738001', 'seven', 'dartboard', 'cust', 'or2optout', '1winaweek', 'feellikw', 'woul', 'general', 'unknown', 'darlings', 'pen', 'box420', 'wannatell', '83383', 'prepared', 'inconsiderate', 'beers', 'waliking', 'swann', 'ericsson', 'nearer', 'polo', 'employee', '08', 'adventure', 'grateful', 'fails', 'btw', 'vettam', 'adds', 'earning', 'foregate', 'influx', 'gonna', 'chat', 'docs', 'onluy', 'pest', 'pro', 'telly', 'page', 'hudgi', 'only1more', 'scary', 'grace', 'okey', 'downs', 'listn', 'phones', 'mostly', 'senrd', 'date', 'hypotheticalhuagauahahuagahyuhagga', 'those', 'internet', 'malarky', 'totally', 'laugh', 'asks', 'becomes', 'aiya', 'lambda', 'waves', 'boy', 'cooked', 'exhausted', 'sleeps', '130', '08717509990', 'dvg', 'entry', 'closingdate04', 'bros', '71', 'others', 'juan', 'cum', 'joy', 'brisk', '2hook', 'exact', 'conected', 'ammae', 'kilos', 'drinking', 'renting', 'played', 'hearin', 'cruisin', 'cld', 'salary', 'jobyet', 'ranju', 'vco', 'stoptxtstop', '22', 'contacts', 'ondu', 'mix', '505060', 'hes', 'apps', 'spring', 'fights', 'replying', '4719', '2channel', 'o2', 'sister', 'talent', 'backdoor', 'drms', 'save', 'century', 'questions', 'matthew', 'logged', 'unconvinced', '9280114', 'wheel', 'arestaurant', 'imprtant', 'hugs', 'gravity', 'rimac', 'peeps', 'computerless', 'telediscount', 'computer', 'sport', 'recharge', 'curtsey', 'smidgin', 'guild', 'bed', 'spain', 'fox', 'shows', 'traditions', 'adress', 'costume', 'speed', 'belovd', 'fgkslpo', '69911', '5p', 'hahaha', 'films', 'loving', 'vry', 'payed2day', 'cartoon', 'birthday', '33', 'hitter', 'havn', 'anal', 'halloween', 'talks', 'child', 'tom', 'tomarrow', 'wedding', 'paranoid', 'somtimes', 'aries', 'kerala', 'mentionned', 'shah', 'mess', 'wrnog', 'footbl', 'comes', 'buttons', 'tap', 'asp', 'starving', 'implications', 'mj', 'mobstorequiz10ppm', 'title', 'boltblue', '10am', 'mandara', 'cooperative', 'g2', 'nature', 'oblisingately', 'gobi', 'golden', '8pm', 'wearing', 'finished', 'replace', 'budget', 'morefrmmob', 'nìte', 'dead', '7oz', 'dozens', 'each', 'aroundn', 'painful', 'forwarding', 'poking', 'urgent', 'dept', 'aco', '07821230901', '5ish', 'class', 'papers', 'about', 'tone', 'delhi', 'edu', 'messed', 'mns', 'warner', 'recd', 'uploaded', '62468', 'california', 'loyalty', '430', 'swimming', 'brainy', 'windy', 'intrepid', 'modules', 'sized', 'kittum', 'kalisidare', 'gnun', 'cc100p', 'impress', 'tiring', 'thot', '3000', 'expect', 'chennai', 'country', 'jog', 'dates', 'coach', 'accordingly', 'happen', 'tear', 'please', '08002888812', 'hol', 'penis', 'lemme', 'cock', 'exmpel', '08712402779', 'talk', 'moments', 'going', 'puppy', 'managed', 'thing', 'people', 'rodds1', 'nor', 'l8r', 'nite', 'b4', 'skyped', '2003', '08719181513', '350', 'swear', 'nokia6600', 'however', 'fats', 'yourself', 'k61', 'fit', 'problum', 'expert', 'clubzed', 'garden', 'fetch', 'provided', 'finds', 'storming', 'mei', 'fifty', 'front', 'ryder', 'usa', 'err', 'stdtxtrate', 'suganya', 'nipost', 'proper', 'jot', '87575', 'finish', 'credit', 'strip', 'determined', 'txtstop', 'cough', 'operator', 'hav', 'uttered', 'version', 'gorgeous', 'onwards', 'player', 'cine', 'cysts', 'goodfriend', 'crazyin', 'puttin', 'cancel', 'market', 'm100', 'iyo', 'hourish', 'duvet', 'notified', 'robs', 'net', 'lacs', 'noworriesloans', 'iff', 'pig', 'raj', 'chatter', 'pl', 'cab', 'four', 'savamob', 'vague', 'motive', 'enjoying', 'zeros', 'bak', 'filthyguys', 'impression', '83049', 'actual', 'sends', 'doublemins', '86688', 'deficient', 'studio', '60p', 'xxuk', '85023', 'heater', 'punto', 'subtoitles', 'recount', 'scallies', 'charge', 'grab', 'hrs', 'business', '10k', 'fetching', 'write', 'goverment', '09066358152', 'silver', 'portal', 'golddigger', '150pm', 'wise', 'remove', 'aren', 'rubber', 'answerin', '69855', 'first', 'styles', 'gaze', '1843', 'begging', 'also', '077xxx', 'polys', 'some', 'comfort', 'shes', 'curry', 'hols', 'dramatic', 'sway', 'failure', 'birth', 'flurries', 'listening2the', '87021', 'shampain', 'matched', 'prayers', 'conserve', 'quickly', '09058094597', '81151', 'blonde', 'janarige', 'ringtoneking', 'humans', 'split', '08718726970', 'fishrman', '08712400200', '69876', 'always', 'babies', '7pm', 'geoenvironmental', 'lessons', 'report', 'trains', 'unfortunately', 'phone750', 'conducts', 'winner', 'delete', 'willing', 'longer', 'expected', 'shaking', 'bthere', 'intro', 'publish', 'functions', 'eat', 'rather', 'recovery', 'welcome', 'keyword', 'failing', 'tarpon', 'fighting', 'mayb', 'snowball', 'farm', 'watever', '07808726822', 'ur', 'rhythm', 'hold', 'closes', '10p', 'cheese', 'gave', 'recognise', 'limiting', '9am', 'didnt', 'republic', 'steering', 'six', 'stamps', 'lobby', 'ramaduth', 'robinson', 'edrunk', 'grief', 'xmas', 'arrive', 'relaxing', '84122', 'daaaaa', 'fund', 'toaday', 'dancin', 'couple', 'maruti', 'pounds', 'men', 'qbank', 'bullshit', 'sony', 'king', 'schedule', 'suppose', 'stays', 'herself', 'yunny', 'quiteamuzing', 'smells', 'pobox365o4w45wq', 'educational', 'ok', 'byatch', 'aburo', 'ld', 'funs', '07946746291', 'hav2hear', 'cream', 'hows', 'boston', 'remixed', 'grooved', 'playin', 'seat', 'rent', 'affection', 'smoked', 'ayo', 'rply', 'base', 'bin', 'infections', 'detail', 'nos', 'responce', 'opposite', 'card', 'heal', 'go2sri', 'costumes', 'united', 'arranging', 'in2', 'randomly', 'violence', 'star', 'mother', 'freinds', 'count', 'jez', 'reformat', '15pm', 'plenty', '09065069154', 'inform', 'ranjith', 'type', 'still', 'lrg', 'whispers', 'doubles', 'answers', 'thanku', '08718726971', 'hugging', 'sex', 'hands', 'mundhe', 'auto', 'push', 'treacle', 'thanks', 'thx', 'park', 'bitching', 'langport', 'ooooooh', 'slightly', '89555', 'league', 'scream', '09061701851', 'disturb', 'putting', 'secs', 'ten', '74355', 'hooch', 'timi', 'network', 'period', 'barely', 'stressed', 'latelyxxx', 'astoundingly', 'attend', 'bslvyl', 'saturday', 'ive', 'ntt', 'heaven', 'module', 'hppnss', 'calculated', 'amma', 'award', 'deltomorrow', 'yeah', 'sender', 'original', 'samantha', 'shut', 'hv9d', 'petexxx', 'gone', '08701237397', 'pei', 'energy', 'rude', 'pics', 'aiyar', 'argue', 'shit', 'starwars3', 'stock', 'february', 'shinco', 'solve', 'transfred', '08000407165', 'mileage', 'hmmm', 'challenge', 'falling', 'd', 'grand', 'frwd', 'oreos', 'song', 'goin', 'whenevr', 'upgrading', 'lapdancer', 'wrecked', 'receipts', '330', 'muht', 'falconerf', 'psychologist', 'classic', 'sapna', 'blocked', 'throws', 'are', 'x', 'frosty', 'liao', 'enough', 'effects', 'response', 'wasn', 'swiss', 'etlp', 'ad', 'evr', 'iriver', 'weiyi', 'apart', 'contacted', 'thesedays', 'today', 'je', '6089', 'dat', 'funk', 'aldrine', 'proove', 'apes', 'white', 'weddin', 'disaster', 'geeee', 'bbd', 'especially', 'overa', 'scoring', 'arm', 'otherwise', 'weirdest', 'ass', 'ne', 'bottle', 'drunkard', '8007', 'degree', 'asssssholeeee', 'addamsfa', 'blessings', 'travelled', 'arng', 'enemy', 'bitch', 'he', 'cuddle', 'area', 'walls', 'endless', 'o2fwd', 'opt', 'parantella', 'vewy', 'housework', 'xy', 'masked', 'flying', 'impede', '5', 'w1t1jy', 'telephone', 'theoretically', 'released', 'case', 'experiencehttp', 'brolly', 'evry1', 'rs', 'moral', 'touch', 'connected', 'manage', 'parkin', 'pop', '8552', 'deleted', 'acted', 'daily', 'persons', 'jobs', 'erode', 'mates', 'smashed', 'boundaries', 'monday', 'palm', 'kisi', 'shu', 'wah', 'appear', 'process', 'box434sk38wp150ppm18', 'presnts', 'eating', 'yun', 'dict', 'tease', 'terms', 'tight', 'recharged', 'meal', 'zealand', '2u', '08712101358', 'surya', 'priya', 'logoff', 'lasting', 'file', 'posts', '08448714184', 'reache', 'friendships', 'improve', 'jewelry', 'serena', 'foreign', 'matches', 'whatsup', 'faster', 'mobile', 'along', 'srsly', 'w111wx', 'land', 'hyde', 'appointment', 'whose', 'passed', '31p', 'inviting', 'blimey', 'off', 'build', 'completely', 'notifications', 'dependable', 'afraid', 'ship', 'poop', 'bluray', 'bedrm', 'nasdaq', '81618', 'behalf', 'cant', 'arithmetic', 'clos1', 'married', 'sayin', 'alerts', 'vinobanagar', 'buff', '09099726481', 'gud', '09095350301', 'aids', '650', 'infernal', 'gist', 'moby', 'splleing', 'screen', 'smokin', 'fixes', 'foot', 'club4mobiles', 'world', 'icic', 'chain', 'goodnite', 'wikipedia', 'telling', 'singing', '1450', 'surely', 'roles', 'souveniers', 'failed', 'rudi', 'sorrows', 'mylife', 'secretary', 'mary', '542', 'when', '08714712388', 'derp', 'cos', 'breather', 'rdy', 'symptoms', 'gibe', 'apnt', 'motor', 'sec', 'steve', 'dog', 'wiv', 'babysit', 'bother', 'speedchat', 'haiyoh', 'both', 'acl03530150pm', '09058094599', 'eightish', 'isnt', 'themob', 'wrc', 'anjola', '09066368753', 'bite', 'asking', 'box245c2150pm', 'tarot', 'clark', 'cute', 'who', 'nearly', 'sha', 'dis', 'athletic', '150pw', 'dinero', 'hillsborough', 'ava', 'thinkthis', 'box1146', 'kadeem', 'likes', 'beendropping', 'okors', '087018728737', 'vegas', 'guessing', 'pobox114', 'gang', 'dorm', 'filling', 'tightly', 'addicted', 'island', '08702840625', 'aom', '0871', 'too', 'dont', 'once', 'distract', 'performance', 'food', 'upload', 'unfortuntly', 'visa', 'jsco', 'belly', '07753741225', 'because', 'studdying', 'pendent', 'lunchtime', '2optout', 'verify', 'thinl', 'wondarfull', 'biatch', 'hearing', 'contribute', 'approx', 'wow', 'natalie', 'ee', 'lately', 'ditto', '3d', 'ned', 'raed', 'traffic', 'verified', 'desparate', 'ovulate', 'jordan', 'yer', 'trouble', 'asa', '0089', 'indeed', 'oveable', 'link', 'yay', 'behave', '2ez', 'by', 'germany', 'nitz', 'completed', 'you', 'sept', 'yorge', 'dane', 'cudnt', 'ummma', 'hmmross', 'xclusive', 'readers', 'iscoming', 'bathing', 'service', 'thought', 'twittering', 'arcade', 'shexy', 'opposed', 'lou', 'works', 'melt', 'sleeping', 'ey', 'dying', 'spk', 'greece', 'starring', 'band', 'havnt', 'god', 'ertini', 'way2sms', 've', 'esplanade', 'academic', 'ha', 'specify', 'boye', 'ip4', 'visitors', 'offline', 'gotmarried', 'shoot', 'wishing', 'scammers', '0', 'joys', 'wif', 'dracula', 'miiiiiiissssssssss', 'meets', '6ish', '400mins', 'obese', 'instantly', 'sorts', 'ola', 'expressoffer', 'sry', '2stoptx', 'mmsto', 'studies', 'weasels', 'beeen', 'wrking', 'batt', 'bathroom', '7cfca1a', 'million', 'mid', 'chords', 'yuo', 'road', 'broke', '2667', 'anythingtomorrow', 'subpoly', 'himself', 'gate', 'round', 'dload', 'site', 'flies', 'adult', 'hopeso', 'granted', 'lar', 'tyler', '09066364311', 'soup', 'returning', 'decimal', 'runs', 'banter', 'mails', 'mojibiola', 'rtf', 'flowers', 'kavalan', '1956669', 'web', 'knw', 'minnaminunginte', 'qatar', 'rtm', 'hava', '50ppm', 'movie', 'unnecessarily', 'toplay', 'stupid', 'baby', 'jamster', '50perwksub', 'surf', 'inclusive', 'babe', 'les', 'dislikes', 'ugo', 'hunt', 'salmon', 'started', '2007', 'rememberi', 'bigger', 'shaved', 'top', 'cya']\n"
     ]
    }
   ],
   "source": [
    "vocabulary = []\n",
    "\n",
    "# We first need to split each message in the cleanedMessages Pd.Series\n",
    "# by whitespace which may be one or more space characters\n",
    "for message in trainingSet['SMS']:\n",
    "    for word in message:\n",
    "        vocabulary.append(word)\n",
    "\n",
    "# Once we have built the complete vocabulary, we need to filter it down\n",
    "# to contain only the unique words\n",
    "vocabulary = list(set(vocabulary))\n",
    "print(len(vocabulary))\n",
    "print(vocabulary)"
   ]
  },
  {
   "cell_type": "markdown",
   "metadata": {},
   "source": [
    "#### Counting the occurrences of individual words in each message"
   ]
  },
  {
   "cell_type": "code",
   "execution_count": 9,
   "metadata": {
    "collapsed": false
   },
   "outputs": [],
   "source": [
    "number_of_messages = len(trainingSet['SMS'])\n",
    "word_counts = {unique_word: [0] * number_of_messages for unique_word in vocabulary}\n",
    "\n",
    "for index, sms in enumerate(trainingSet['SMS']):\n",
    "    for word in sms:\n",
    "        word_counts[word][index] += 1\n",
    "\n",
    "word_counts = pd.DataFrame(word_counts)\n"
   ]
  },
  {
   "cell_type": "code",
   "execution_count": 15,
   "metadata": {
    "collapsed": false
   },
   "outputs": [],
   "source": [
    "trainingWithWordCounts = pd.concat([trainingSet, word_counts], axis=1)"
   ]
  },
  {
   "cell_type": "code",
   "execution_count": 16,
   "metadata": {
    "collapsed": false
   },
   "outputs": [
    {
     "data": {
      "text/html": [
       "<div>\n",
       "<style scoped>\n",
       "    .dataframe tbody tr th:only-of-type {\n",
       "        vertical-align: middle;\n",
       "    }\n",
       "\n",
       "    .dataframe tbody tr th {\n",
       "        vertical-align: top;\n",
       "    }\n",
       "\n",
       "    .dataframe thead th {\n",
       "        text-align: right;\n",
       "    }\n",
       "</style>\n",
       "<table border=\"1\" class=\"dataframe\">\n",
       "  <thead>\n",
       "    <tr style=\"text-align: right;\">\n",
       "      <th></th>\n",
       "      <th>Label</th>\n",
       "      <th>SMS</th>\n",
       "      <th>0</th>\n",
       "      <th>00</th>\n",
       "      <th>000</th>\n",
       "      <th>000pes</th>\n",
       "      <th>008704050406</th>\n",
       "      <th>0089</th>\n",
       "      <th>01223585334</th>\n",
       "      <th>02</th>\n",
       "      <th>...</th>\n",
       "      <th>zindgi</th>\n",
       "      <th>zoe</th>\n",
       "      <th>zogtorius</th>\n",
       "      <th>zouk</th>\n",
       "      <th>zyada</th>\n",
       "      <th>é</th>\n",
       "      <th>ú1</th>\n",
       "      <th>ü</th>\n",
       "      <th>〨ud</th>\n",
       "      <th>鈥</th>\n",
       "    </tr>\n",
       "  </thead>\n",
       "  <tbody>\n",
       "    <tr>\n",
       "      <th>0</th>\n",
       "      <td>ham</td>\n",
       "      <td>[yep, by, the, pretty, sculpture]</td>\n",
       "      <td>0</td>\n",
       "      <td>0</td>\n",
       "      <td>0</td>\n",
       "      <td>0</td>\n",
       "      <td>0</td>\n",
       "      <td>0</td>\n",
       "      <td>0</td>\n",
       "      <td>0</td>\n",
       "      <td>...</td>\n",
       "      <td>0</td>\n",
       "      <td>0</td>\n",
       "      <td>0</td>\n",
       "      <td>0</td>\n",
       "      <td>0</td>\n",
       "      <td>0</td>\n",
       "      <td>0</td>\n",
       "      <td>0</td>\n",
       "      <td>0</td>\n",
       "      <td>0</td>\n",
       "    </tr>\n",
       "    <tr>\n",
       "      <th>1</th>\n",
       "      <td>ham</td>\n",
       "      <td>[yes, princess, are, you, going, to, make, me,...</td>\n",
       "      <td>0</td>\n",
       "      <td>0</td>\n",
       "      <td>0</td>\n",
       "      <td>0</td>\n",
       "      <td>0</td>\n",
       "      <td>0</td>\n",
       "      <td>0</td>\n",
       "      <td>0</td>\n",
       "      <td>...</td>\n",
       "      <td>0</td>\n",
       "      <td>0</td>\n",
       "      <td>0</td>\n",
       "      <td>0</td>\n",
       "      <td>0</td>\n",
       "      <td>0</td>\n",
       "      <td>0</td>\n",
       "      <td>0</td>\n",
       "      <td>0</td>\n",
       "      <td>0</td>\n",
       "    </tr>\n",
       "    <tr>\n",
       "      <th>2</th>\n",
       "      <td>ham</td>\n",
       "      <td>[welp, apparently, he, retired]</td>\n",
       "      <td>0</td>\n",
       "      <td>0</td>\n",
       "      <td>0</td>\n",
       "      <td>0</td>\n",
       "      <td>0</td>\n",
       "      <td>0</td>\n",
       "      <td>0</td>\n",
       "      <td>0</td>\n",
       "      <td>...</td>\n",
       "      <td>0</td>\n",
       "      <td>0</td>\n",
       "      <td>0</td>\n",
       "      <td>0</td>\n",
       "      <td>0</td>\n",
       "      <td>0</td>\n",
       "      <td>0</td>\n",
       "      <td>0</td>\n",
       "      <td>0</td>\n",
       "      <td>0</td>\n",
       "    </tr>\n",
       "    <tr>\n",
       "      <th>3</th>\n",
       "      <td>ham</td>\n",
       "      <td>[havent]</td>\n",
       "      <td>0</td>\n",
       "      <td>0</td>\n",
       "      <td>0</td>\n",
       "      <td>0</td>\n",
       "      <td>0</td>\n",
       "      <td>0</td>\n",
       "      <td>0</td>\n",
       "      <td>0</td>\n",
       "      <td>...</td>\n",
       "      <td>0</td>\n",
       "      <td>0</td>\n",
       "      <td>0</td>\n",
       "      <td>0</td>\n",
       "      <td>0</td>\n",
       "      <td>0</td>\n",
       "      <td>0</td>\n",
       "      <td>0</td>\n",
       "      <td>0</td>\n",
       "      <td>0</td>\n",
       "    </tr>\n",
       "    <tr>\n",
       "      <th>4</th>\n",
       "      <td>ham</td>\n",
       "      <td>[i, forgot, 2, ask, ü, all, smth, there, s, a,...</td>\n",
       "      <td>0</td>\n",
       "      <td>0</td>\n",
       "      <td>0</td>\n",
       "      <td>0</td>\n",
       "      <td>0</td>\n",
       "      <td>0</td>\n",
       "      <td>0</td>\n",
       "      <td>0</td>\n",
       "      <td>...</td>\n",
       "      <td>0</td>\n",
       "      <td>0</td>\n",
       "      <td>0</td>\n",
       "      <td>0</td>\n",
       "      <td>0</td>\n",
       "      <td>0</td>\n",
       "      <td>0</td>\n",
       "      <td>2</td>\n",
       "      <td>0</td>\n",
       "      <td>0</td>\n",
       "    </tr>\n",
       "  </tbody>\n",
       "</table>\n",
       "<p>5 rows × 7785 columns</p>\n",
       "</div>"
      ],
      "text/plain": [
       "  Label                                                SMS  0  00  000  \\\n",
       "0   ham                  [yep, by, the, pretty, sculpture]  0   0    0   \n",
       "1   ham  [yes, princess, are, you, going, to, make, me,...  0   0    0   \n",
       "2   ham                    [welp, apparently, he, retired]  0   0    0   \n",
       "3   ham                                           [havent]  0   0    0   \n",
       "4   ham  [i, forgot, 2, ask, ü, all, smth, there, s, a,...  0   0    0   \n",
       "\n",
       "   000pes  008704050406  0089  01223585334  02 ...  zindgi  zoe  zogtorius  \\\n",
       "0       0             0     0            0   0 ...       0    0          0   \n",
       "1       0             0     0            0   0 ...       0    0          0   \n",
       "2       0             0     0            0   0 ...       0    0          0   \n",
       "3       0             0     0            0   0 ...       0    0          0   \n",
       "4       0             0     0            0   0 ...       0    0          0   \n",
       "\n",
       "   zouk  zyada  é  ú1  ü  〨ud  鈥  \n",
       "0     0      0  0   0  0    0  0  \n",
       "1     0      0  0   0  0    0  0  \n",
       "2     0      0  0   0  0    0  0  \n",
       "3     0      0  0   0  0    0  0  \n",
       "4     0      0  0   0  2    0  0  \n",
       "\n",
       "[5 rows x 7785 columns]"
      ]
     },
     "execution_count": 16,
     "metadata": {},
     "output_type": "execute_result"
    }
   ],
   "source": [
    "trainingWithWordCounts.head()"
   ]
  },
  {
   "cell_type": "markdown",
   "metadata": {
    "collapsed": false
   },
   "source": [
    "### Calculating Probabilities\n",
    "\n",
    "#### Probability of message being _Spam_ or _Not-Spam_\n",
    "\n",
    "We now have to calculate the probabilities for a message to be either Spam or Ham based on the data in the training set.\n",
    "\n",
    "\\begin{equation}\n",
    "P(Spam) = \\frac{\\text{Number of Spam messages}}{\\text{Total Number of messages}}\n",
    "\\end{equation}\n",
    "<br>\n",
    "\\begin{equation}\n",
    "P(Ham) = \\frac{\\text{Number of Ham messages}}{\\text{Total Number of messages}}\n",
    "\\end{equation}"
   ]
  },
  {
   "cell_type": "code",
   "execution_count": 17,
   "metadata": {
    "collapsed": false
   },
   "outputs": [
    {
     "name": "stdout",
     "output_type": "stream",
     "text": [
      "0.13458950201884254 0.8654104979811574\n"
     ]
    }
   ],
   "source": [
    "pSpam = len(trainingSet[trainingSet['Label'] == 'spam']) / len(trainingSet)\n",
    "pHam = len(trainingSet[trainingSet['Label'] == 'ham']) / len(trainingSet)\n",
    "print(pSpam, pHam)"
   ]
  },
  {
   "cell_type": "markdown",
   "metadata": {},
   "source": [
    "#### Count of Words in _Spam_ or _Not-Spam_ messages"
   ]
  },
  {
   "cell_type": "code",
   "execution_count": 20,
   "metadata": {
    "collapsed": false
   },
   "outputs": [
    {
     "name": "stdout",
     "output_type": "stream",
     "text": [
      "15190 57237 7783\n"
     ]
    }
   ],
   "source": [
    "# def count_words(dataset, label):\n",
    "#     total_words = 0\n",
    "#     for words in dataset.loc[dataset['Label'] == label, 'SMS']:\n",
    "#         total_words += len(words)\n",
    "#     return total_words\n",
    "\n",
    "# nSpam = count_words(trainingSet, 'spam')\n",
    "# nHam = count_words(trainingSet, 'ham')\n",
    "\n",
    "nSpam = trainingSet.loc[trainingSet['Label'] == 'spam', 'SMS'].apply(len).sum()\n",
    "nHam = trainingSet.loc[trainingSet['Label'] == 'ham', 'SMS'].apply(len).sum()\n",
    "nVocab = len(vocabulary)\n",
    "print(nSpam, nHam, nVocab)\n",
    "\n",
    "alpha = 1"
   ]
  },
  {
   "cell_type": "markdown",
   "metadata": {},
   "source": [
    "#### Calculating Probabilities for each word in the vocabulary\n",
    "\n",
    "We now need to calculate $P(w_{i}|Spam)$ and $P(w_{i}|Ham)$ for each word in our vocabulary. We will using the technique of _**Additive Smoothing**_ while calculating the individual probabilities for the words.\n",
    "\n",
    "\\begin{equation}\n",
    "P(w_{i}|Spam) = \\frac{N_{w_i|Spam} + \\alpha}{N_{Spam} + \\alpha \\cdot N_{Vocabulary}}\n",
    "\\end{equation}\n",
    "\n",
    "\\begin{equation}\n",
    "P(w_{i}|Ham) = \\frac{N_{w_i|Ham} + \\alpha}{N_{Ham} + \\alpha \\cdot N_{Vocabulary}}\n",
    "\\end{equation}"
   ]
  },
  {
   "cell_type": "code",
   "execution_count": 21,
   "metadata": {
    "collapsed": true
   },
   "outputs": [],
   "source": [
    "def calculate_word_probability(n_word, n_set, n_vocab, al):\n",
    "    return (n_word + al) / (n_set + al * n_vocab)\n",
    "\n",
    "pWiSpam = { word: 0 for word in vocabulary }\n",
    "pWiHam = { word: 0 for word in vocabulary }\n",
    "\n",
    "trainingSpamSet = trainingWithWordCounts[trainingWithWordCounts['Label'] == 'spam']\n",
    "trainingHamSet = trainingWithWordCounts[trainingWithWordCounts['Label'] == 'ham']"
   ]
  },
  {
   "cell_type": "code",
   "execution_count": 24,
   "metadata": {
    "collapsed": false
   },
   "outputs": [],
   "source": [
    "for word in vocabulary:\n",
    "    pWiSpam[word] = (trainingSpamSet[word].sum() + alpha) / (nSpam + alpha * nVocab)\n",
    "    pWiHam[word] = (trainingHamSet[word].sum() + alpha) / (nHam + alpha * nVocab)\n"
   ]
  },
  {
   "cell_type": "markdown",
   "metadata": {},
   "source": [
    "### Building the Spam Filter\n",
    "\n",
    "Now, that we have the probabilities for each word in our vocabulary calculated, we can move on to building the actual spam filter.\n",
    "\n",
    "The spam filter will take in a message in string format, convert that string into an array of words in lower-case, and then use our dictionaries of probabilities to calculate the probability for each word in the message.\n",
    "\n",
    "\\begin{equation}\n",
    "P(Spam|w_i,w_2,...,w_n) \\propto P(Spam) \\cdot \\prod_{i=1}^n P(w_i|Spam)\n",
    "\\end{equation}\n",
    "\n",
    "\\begin{equation}\n",
    "P(Ham|w_i,w_2,...,w_n) \\propto P(Ham) \\cdot \\prod_{i=1}^n P(w_i|Ham)\n",
    "\\end{equation}"
   ]
  },
  {
   "cell_type": "code",
   "execution_count": 30,
   "metadata": {
    "collapsed": true
   },
   "outputs": [],
   "source": [
    "# We need the re package as we need regular expressions outside of pandas\n",
    "import re\n",
    "\n",
    "def classify(message):\n",
    "    cleanMessage = re.sub('\\W', ' ', message)\n",
    "    cleanMessage = cleanMessage.lower()\n",
    "    cleanMessage = cleanMessage.split()\n",
    "    \n",
    "    pSpamMsg = pSpam\n",
    "    pHamMsg = pHam\n",
    "    \n",
    "    for word in cleanMessage:\n",
    "        if word in pWiSpam:\n",
    "            pSpamMsg *= pWiSpam[word]\n",
    "        if word in pWiHam:\n",
    "            pHamMsg *= pWiHam[word]\n",
    "    \n",
    "    if pSpamMsg > pHamMsg:\n",
    "        return 'spam'\n",
    "    elif pHamMsg > pSpamMsg:\n",
    "        return 'ham'\n",
    "    else:\n",
    "        return 'needs classification'"
   ]
  },
  {
   "cell_type": "markdown",
   "metadata": {},
   "source": [
    "Let us now test our `classify` function using two test messages:"
   ]
  },
  {
   "cell_type": "code",
   "execution_count": 27,
   "metadata": {
    "collapsed": false
   },
   "outputs": [
    {
     "name": "stdout",
     "output_type": "stream",
     "text": [
      "spam\n"
     ]
    }
   ],
   "source": [
    "print(classify('WINNER!! This is the secret code to unlock the money: C3421.'))"
   ]
  },
  {
   "cell_type": "code",
   "execution_count": 29,
   "metadata": {
    "collapsed": false
   },
   "outputs": [
    {
     "name": "stdout",
     "output_type": "stream",
     "text": [
      "ham\n"
     ]
    }
   ],
   "source": [
    "print(classify('Sounds good, Tom, then see u there'))"
   ]
  },
  {
   "cell_type": "markdown",
   "metadata": {},
   "source": [
    "### Testing the Spam Filter\n",
    "\n",
    "We will now run the `classify` function on the **Test Dataset** we had created earlier."
   ]
  },
  {
   "cell_type": "code",
   "execution_count": 33,
   "metadata": {
    "collapsed": false
   },
   "outputs": [
    {
     "data": {
      "text/html": [
       "<div>\n",
       "<style scoped>\n",
       "    .dataframe tbody tr th:only-of-type {\n",
       "        vertical-align: middle;\n",
       "    }\n",
       "\n",
       "    .dataframe tbody tr th {\n",
       "        vertical-align: top;\n",
       "    }\n",
       "\n",
       "    .dataframe thead th {\n",
       "        text-align: right;\n",
       "    }\n",
       "</style>\n",
       "<table border=\"1\" class=\"dataframe\">\n",
       "  <thead>\n",
       "    <tr style=\"text-align: right;\">\n",
       "      <th></th>\n",
       "      <th>Label</th>\n",
       "      <th>SMS</th>\n",
       "      <th>predicted</th>\n",
       "    </tr>\n",
       "  </thead>\n",
       "  <tbody>\n",
       "    <tr>\n",
       "      <th>0</th>\n",
       "      <td>ham</td>\n",
       "      <td>Later i guess. I needa do mcat study too.</td>\n",
       "      <td>ham</td>\n",
       "    </tr>\n",
       "    <tr>\n",
       "      <th>1</th>\n",
       "      <td>ham</td>\n",
       "      <td>But i haf enuff space got like 4 mb...</td>\n",
       "      <td>ham</td>\n",
       "    </tr>\n",
       "    <tr>\n",
       "      <th>2</th>\n",
       "      <td>spam</td>\n",
       "      <td>Had your mobile 10 mths? Update to latest Oran...</td>\n",
       "      <td>spam</td>\n",
       "    </tr>\n",
       "    <tr>\n",
       "      <th>3</th>\n",
       "      <td>ham</td>\n",
       "      <td>All sounds good. Fingers . Makes it difficult ...</td>\n",
       "      <td>ham</td>\n",
       "    </tr>\n",
       "    <tr>\n",
       "      <th>4</th>\n",
       "      <td>ham</td>\n",
       "      <td>All done, all handed in. Don't know if mega sh...</td>\n",
       "      <td>ham</td>\n",
       "    </tr>\n",
       "  </tbody>\n",
       "</table>\n",
       "</div>"
      ],
      "text/plain": [
       "  Label                                                SMS predicted\n",
       "0   ham          Later i guess. I needa do mcat study too.       ham\n",
       "1   ham             But i haf enuff space got like 4 mb...       ham\n",
       "2  spam  Had your mobile 10 mths? Update to latest Oran...      spam\n",
       "3   ham  All sounds good. Fingers . Makes it difficult ...       ham\n",
       "4   ham  All done, all handed in. Don't know if mega sh...       ham"
      ]
     },
     "execution_count": 33,
     "metadata": {},
     "output_type": "execute_result"
    }
   ],
   "source": [
    "testSet['predicted'] = testSet['SMS'].apply(classify)\n",
    "testSet.head()"
   ]
  },
  {
   "cell_type": "code",
   "execution_count": 49,
   "metadata": {
    "collapsed": false
   },
   "outputs": [
    {
     "name": "stdout",
     "output_type": "stream",
     "text": [
      "98.74326750448833 1100 14 1114\n"
     ]
    }
   ],
   "source": [
    "correct = 0\n",
    "incorrect = 0\n",
    "total = 0\n",
    "\n",
    "for index, test in testSet.iterrows():\n",
    "    total += 1\n",
    "    if test['Label'] == test['predicted']:\n",
    "        correct += 1\n",
    "    else:\n",
    "        incorrect += 1\n",
    "\n",
    "print(correct/total*100, correct, incorrect, total)"
   ]
  },
  {
   "cell_type": "markdown",
   "metadata": {},
   "source": [
    "While we had initially set out on this project with a stated goal of achieving 80%, we have achieved an accuracy of over 98%, which is much better than we had hoped for.\n",
    "\n",
    "Obviously there is room for much more improvement in this filter and we could possibly explore more specific scenarios."
   ]
  },
  {
   "cell_type": "code",
   "execution_count": 50,
   "metadata": {
    "collapsed": false
   },
   "outputs": [
    {
     "data": {
      "text/html": [
       "<div>\n",
       "<style scoped>\n",
       "    .dataframe tbody tr th:only-of-type {\n",
       "        vertical-align: middle;\n",
       "    }\n",
       "\n",
       "    .dataframe tbody tr th {\n",
       "        vertical-align: top;\n",
       "    }\n",
       "\n",
       "    .dataframe thead th {\n",
       "        text-align: right;\n",
       "    }\n",
       "</style>\n",
       "<table border=\"1\" class=\"dataframe\">\n",
       "  <thead>\n",
       "    <tr style=\"text-align: right;\">\n",
       "      <th></th>\n",
       "      <th>Label</th>\n",
       "      <th>SMS</th>\n",
       "      <th>predicted</th>\n",
       "    </tr>\n",
       "  </thead>\n",
       "  <tbody>\n",
       "    <tr>\n",
       "      <th>114</th>\n",
       "      <td>spam</td>\n",
       "      <td>Not heard from U4 a while. Call me now am here...</td>\n",
       "      <td>ham</td>\n",
       "    </tr>\n",
       "    <tr>\n",
       "      <th>135</th>\n",
       "      <td>spam</td>\n",
       "      <td>More people are dogging in your area now. Call...</td>\n",
       "      <td>ham</td>\n",
       "    </tr>\n",
       "    <tr>\n",
       "      <th>152</th>\n",
       "      <td>ham</td>\n",
       "      <td>Unlimited texts. Limited minutes.</td>\n",
       "      <td>spam</td>\n",
       "    </tr>\n",
       "    <tr>\n",
       "      <th>159</th>\n",
       "      <td>ham</td>\n",
       "      <td>26th OF JULY</td>\n",
       "      <td>spam</td>\n",
       "    </tr>\n",
       "    <tr>\n",
       "      <th>284</th>\n",
       "      <td>ham</td>\n",
       "      <td>Nokia phone is lovly..</td>\n",
       "      <td>spam</td>\n",
       "    </tr>\n",
       "    <tr>\n",
       "      <th>293</th>\n",
       "      <td>ham</td>\n",
       "      <td>A Boy loved a gal. He propsd bt she didnt mind...</td>\n",
       "      <td>needs classification</td>\n",
       "    </tr>\n",
       "    <tr>\n",
       "      <th>302</th>\n",
       "      <td>ham</td>\n",
       "      <td>No calls..messages..missed calls</td>\n",
       "      <td>spam</td>\n",
       "    </tr>\n",
       "    <tr>\n",
       "      <th>319</th>\n",
       "      <td>ham</td>\n",
       "      <td>We have sent JD for Customer Service cum Accou...</td>\n",
       "      <td>spam</td>\n",
       "    </tr>\n",
       "    <tr>\n",
       "      <th>504</th>\n",
       "      <td>spam</td>\n",
       "      <td>Oh my god! I've found your number again! I'm s...</td>\n",
       "      <td>ham</td>\n",
       "    </tr>\n",
       "    <tr>\n",
       "      <th>546</th>\n",
       "      <td>spam</td>\n",
       "      <td>Hi babe its Chloe, how r u? I was smashed on s...</td>\n",
       "      <td>ham</td>\n",
       "    </tr>\n",
       "    <tr>\n",
       "      <th>741</th>\n",
       "      <td>spam</td>\n",
       "      <td>0A$NETWORKS allow companies to bill for SMS, s...</td>\n",
       "      <td>ham</td>\n",
       "    </tr>\n",
       "    <tr>\n",
       "      <th>876</th>\n",
       "      <td>spam</td>\n",
       "      <td>RCT' THNQ Adrian for U text. Rgds Vatian</td>\n",
       "      <td>ham</td>\n",
       "    </tr>\n",
       "    <tr>\n",
       "      <th>885</th>\n",
       "      <td>spam</td>\n",
       "      <td>2/2 146tf150p</td>\n",
       "      <td>ham</td>\n",
       "    </tr>\n",
       "    <tr>\n",
       "      <th>953</th>\n",
       "      <td>spam</td>\n",
       "      <td>Hello. We need some posh birds and chaps to us...</td>\n",
       "      <td>ham</td>\n",
       "    </tr>\n",
       "  </tbody>\n",
       "</table>\n",
       "</div>"
      ],
      "text/plain": [
       "    Label                                                SMS  \\\n",
       "114  spam  Not heard from U4 a while. Call me now am here...   \n",
       "135  spam  More people are dogging in your area now. Call...   \n",
       "152   ham                  Unlimited texts. Limited minutes.   \n",
       "159   ham                                       26th OF JULY   \n",
       "284   ham                             Nokia phone is lovly..   \n",
       "293   ham  A Boy loved a gal. He propsd bt she didnt mind...   \n",
       "302   ham                   No calls..messages..missed calls   \n",
       "319   ham  We have sent JD for Customer Service cum Accou...   \n",
       "504  spam  Oh my god! I've found your number again! I'm s...   \n",
       "546  spam  Hi babe its Chloe, how r u? I was smashed on s...   \n",
       "741  spam  0A$NETWORKS allow companies to bill for SMS, s...   \n",
       "876  spam           RCT' THNQ Adrian for U text. Rgds Vatian   \n",
       "885  spam                                      2/2 146tf150p   \n",
       "953  spam  Hello. We need some posh birds and chaps to us...   \n",
       "\n",
       "                predicted  \n",
       "114                   ham  \n",
       "135                   ham  \n",
       "152                  spam  \n",
       "159                  spam  \n",
       "284                  spam  \n",
       "293  needs classification  \n",
       "302                  spam  \n",
       "319                  spam  \n",
       "504                   ham  \n",
       "546                   ham  \n",
       "741                   ham  \n",
       "876                   ham  \n",
       "885                   ham  \n",
       "953                   ham  "
      ]
     },
     "execution_count": 50,
     "metadata": {},
     "output_type": "execute_result"
    }
   ],
   "source": [
    "testSet[testSet['Label'] != testSet['predicted']]"
   ]
  },
  {
   "cell_type": "markdown",
   "metadata": {},
   "source": [
    "Looking at the messages that we have got wrong, it is evident that there are scenarios, particulary involving special characters which we have stripped out, and case sensitivity that might further need to be considered in refining our spam filter."
   ]
  }
 ],
 "metadata": {
  "kernelspec": {
   "display_name": "Python 3",
   "language": "python",
   "name": "python3"
  },
  "language_info": {
   "codemirror_mode": {
    "name": "ipython",
    "version": 3
   },
   "file_extension": ".py",
   "mimetype": "text/x-python",
   "name": "python",
   "nbconvert_exporter": "python",
   "pygments_lexer": "ipython3",
   "version": "3.4.3"
  }
 },
 "nbformat": 4,
 "nbformat_minor": 4
}
