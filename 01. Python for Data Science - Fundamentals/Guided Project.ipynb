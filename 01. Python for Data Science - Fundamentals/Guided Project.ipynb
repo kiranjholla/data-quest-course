{
 "cells": [
  {
   "cell_type": "markdown",
   "metadata": {},
   "source": [
    "# Analysis of Mobile Apps\n",
    "\n",
    "We are analysing the usage of Mobile apps to understand the types of apps that yield maximum revenue, both for Apple as well as Google."
   ]
  },
  {
   "cell_type": "code",
   "execution_count": 1,
   "metadata": {
    "collapsed": true
   },
   "outputs": [],
   "source": [
    "# We start with reading the data from the files\n",
    "appstore_file = open('AppleStore.csv', encoding='utf8')\n",
    "googlestore_file = open('googleplaystore.csv', encoding='utf8')"
   ]
  },
  {
   "cell_type": "code",
   "execution_count": 2,
   "metadata": {
    "collapsed": false
   },
   "outputs": [],
   "source": [
    "# Now we must read the data in these files\n",
    "from csv import reader\n",
    "\n",
    "apps_data = list(reader(appstore_file))\n",
    "google_data = list(reader(googlestore_file))"
   ]
  },
  {
   "cell_type": "markdown",
   "metadata": {},
   "source": [
    "Now that we have opened and read the individual files, we can explore the data in these files using the pre-defined function provided by the dataquest.io team"
   ]
  },
  {
   "cell_type": "code",
   "execution_count": 3,
   "metadata": {
    "collapsed": true
   },
   "outputs": [],
   "source": [
    "def explore_data(dataset, start, end, rows_and_columns=False):\n",
    "    dataset_slice = dataset[start:end]    \n",
    "    for row in dataset_slice:\n",
    "        print(row)\n",
    "        print('\\n') # adds a new (empty) line after each row\n",
    "\n",
    "    if rows_and_columns:\n",
    "        print('Number of rows:', len(dataset))\n",
    "        print('Number of columns:', len(dataset[0]))"
   ]
  },
  {
   "cell_type": "markdown",
   "metadata": {},
   "source": [
    "The `explore_data` function allows us to generate various slices of the data and quickly review specific records.\n",
    "\n",
    "The method also allows us to check the count of records in the data sets."
   ]
  },
  {
   "cell_type": "code",
   "execution_count": 4,
   "metadata": {
    "collapsed": false
   },
   "outputs": [
    {
     "name": "stdout",
     "output_type": "stream",
     "text": [
      "['App', 'Category', 'Rating', 'Reviews', 'Size', 'Installs', 'Type', 'Price', 'Content Rating', 'Genres', 'Last Updated', 'Current Ver', 'Android Ver']\n",
      "\n",
      "\n",
      "['Photo Editor & Candy Camera & Grid & ScrapBook', 'ART_AND_DESIGN', '4.1', '159', '19M', '10,000+', 'Free', '0', 'Everyone', 'Art & Design', 'January 7, 2018', '1.0.0', '4.0.3 and up']\n",
      "\n",
      "\n",
      "['Coloring book moana', 'ART_AND_DESIGN', '3.9', '967', '14M', '500,000+', 'Free', '0', 'Everyone', 'Art & Design;Pretend Play', 'January 15, 2018', '2.0.0', '4.0.3 and up']\n",
      "\n",
      "\n",
      "Number of rows: 10842\n",
      "Number of columns: 13\n"
     ]
    }
   ],
   "source": [
    "# Exploring the Google Dataset\n",
    "explore_data(google_data, 0, 3, True)"
   ]
  },
  {
   "cell_type": "code",
   "execution_count": 5,
   "metadata": {
    "collapsed": false
   },
   "outputs": [
    {
     "name": "stdout",
     "output_type": "stream",
     "text": [
      "['id', 'track_name', 'size_bytes', 'currency', 'price', 'rating_count_tot', 'rating_count_ver', 'user_rating', 'user_rating_ver', 'ver', 'cont_rating', 'prime_genre', 'sup_devices.num', 'ipadSc_urls.num', 'lang.num', 'vpp_lic']\n",
      "\n",
      "\n",
      "['284882215', 'Facebook', '389879808', 'USD', '0.0', '2974676', '212', '3.5', '3.5', '95.0', '4+', 'Social Networking', '37', '1', '29', '1']\n",
      "\n",
      "\n",
      "['389801252', 'Instagram', '113954816', 'USD', '0.0', '2161558', '1289', '4.5', '4.0', '10.23', '12+', 'Photo & Video', '37', '0', '29', '1']\n",
      "\n",
      "\n",
      "Number of rows: 7198\n",
      "Number of columns: 16\n"
     ]
    }
   ],
   "source": [
    "# Exploring the Apple Dataset\n",
    "explore_data(apps_data, 0, 3, True)"
   ]
  },
  {
   "cell_type": "markdown",
   "metadata": {},
   "source": [
    "## Cleaning the Data\n",
    "\n",
    "After we have opened the data sets, we will need to explore the data and identify any inaccuracies in it that may exist and try to clean it.\n",
    "\n",
    "### Get Rid of the Headers"
   ]
  },
  {
   "cell_type": "code",
   "execution_count": 6,
   "metadata": {
    "collapsed": false
   },
   "outputs": [],
   "source": [
    "apple_header = apps_data[0]\n",
    "google_header = google_data[0]\n",
    "\n",
    "apps_data = apps_data[1:]\n",
    "google_data = google_data[1:]"
   ]
  },
  {
   "cell_type": "markdown",
   "metadata": {},
   "source": [
    "### Incomplete Records\n",
    "We first need to ensure that all records in the given data set have complete data. If any records have data missing for any column, that record can be discarded."
   ]
  },
  {
   "cell_type": "code",
   "execution_count": 7,
   "metadata": {
    "collapsed": false
   },
   "outputs": [],
   "source": [
    "# The check_data method checks if all the records have data\n",
    "# for all the columns\n",
    "# \n",
    "# If any records is found with a column count that is different\n",
    "# from the column count specified in the Header Row, then that\n",
    "# record can be treated as having a problem\n",
    "def check_data(dataset, col_count):\n",
    "    problem_indices = []\n",
    "    for idx, record in enumerate(dataset):\n",
    "        if len(record) != col_count:\n",
    "            print(idx, record)\n",
    "            problem_indices.append(idx)\n",
    "\n",
    "    return problem_indices"
   ]
  },
  {
   "cell_type": "code",
   "execution_count": 8,
   "metadata": {
    "collapsed": false
   },
   "outputs": [
    {
     "name": "stdout",
     "output_type": "stream",
     "text": [
      "10472 ['Life Made WI-Fi Touchscreen Photo Frame', '1.9', '19', '3.0M', '1,000+', 'Free', '0', 'Everyone', '', 'February 11, 2018', '1.0.19', '4.0 and up']\n",
      "Found problems in Apple: []\n",
      "Found problems in Google: [10472]\n"
     ]
    }
   ],
   "source": [
    "apps_data_col_count = len(apple_header)\n",
    "google_data_col_count = len(google_header)\n",
    "\n",
    "problem_apple = check_data(apps_data, apps_data_col_count)\n",
    "problem_google = check_data(google_data, google_data_col_count)\n",
    "\n",
    "print('Found problems in Apple:', problem_apple)\n",
    "print('Found problems in Google:', problem_google)"
   ]
  },
  {
   "cell_type": "markdown",
   "metadata": {},
   "source": [
    "Now that we have identified the problematic record, we have to remove it from the set."
   ]
  },
  {
   "cell_type": "code",
   "execution_count": 9,
   "metadata": {
    "collapsed": false
   },
   "outputs": [],
   "source": [
    "def remove_problem_records(data_set, problem_recs):\n",
    "    for idx in reversed(problem_recs):\n",
    "        print('Deleting row ', idx, data_set[idx])\n",
    "        del data_set[idx]"
   ]
  },
  {
   "cell_type": "code",
   "execution_count": 10,
   "metadata": {
    "collapsed": false
   },
   "outputs": [
    {
     "name": "stdout",
     "output_type": "stream",
     "text": [
      "Deleting row  10472 ['Life Made WI-Fi Touchscreen Photo Frame', '1.9', '19', '3.0M', '1,000+', 'Free', '0', 'Everyone', '', 'February 11, 2018', '1.0.19', '4.0 and up']\n"
     ]
    }
   ],
   "source": [
    "remove_problem_records(apps_data, problem_apple)\n",
    "remove_problem_records(google_data, problem_google)"
   ]
  },
  {
   "cell_type": "markdown",
   "metadata": {},
   "source": [
    "### Duplicate Records\n",
    "\n",
    "We can also check if there are records that occur twice and try to eliminate all duplicates while retaining only a single copy of that record with the latest data in it.\n",
    "\n",
    "#### Finding the duplicates\n",
    "We first have to check the records and identify the duplicate records. For this, we will have to examine the App name in each record and compare it with the other records in the dataset."
   ]
  },
  {
   "cell_type": "code",
   "execution_count": 11,
   "metadata": {
    "collapsed": true
   },
   "outputs": [],
   "source": [
    "# The find_duplicates method will allow us to quickly scan the \n",
    "# dataset and identify all the duplicate apps in that dataset\n",
    "def find_duplicates(dataset, check_col):\n",
    "    duplicate_apps = []\n",
    "    unique_apps = []\n",
    "    for record in dataset:\n",
    "        if record[check_col] in unique_apps:\n",
    "            duplicate_apps.append(record[check_col])\n",
    "        else:\n",
    "            unique_apps.append(record[check_col])\n",
    "    return len(duplicate_apps), duplicate_apps\n"
   ]
  },
  {
   "cell_type": "code",
   "execution_count": 12,
   "metadata": {
    "collapsed": false
   },
   "outputs": [
    {
     "name": "stdout",
     "output_type": "stream",
     "text": [
      "Number of Duplicates in Google Data:  1181\n",
      "Number of Duplicates in Apple Data:  2\n"
     ]
    }
   ],
   "source": [
    "google_dup_count, google_dups = find_duplicates(google_data, 0)\n",
    "app_dup_count, app_dups = find_duplicates(apps_data, 1)\n",
    "\n",
    "print('Number of Duplicates in Google Data: ', google_dup_count)\n",
    "print('Number of Duplicates in Apple Data: ', app_dup_count)"
   ]
  },
  {
   "cell_type": "markdown",
   "metadata": {},
   "source": [
    "Now that we have identified the numbers of duplicate apps, we will need to devise a way to eliminate these duplicates and come up with a dataset with only unique apps.\n",
    "\n",
    "#### Approach for eliminating duplicates\n",
    "While we have identified the duplicates based on the App name, we need to decide which of those duplicate records should be retained for each App.\n",
    "\n",
    "For the Google dataset, this could be done based on the following data points in each record:\n",
    "\n",
    "1. **Number of Reviews**: The record having the most number of reviews among the duplicates, can be considered the one that has the latest data. Hence, that record can be retained while the remaining duplicates deleted.\n",
    "    \n",
    "1. **Last Updated Date**: The record with the latest value for the Last Updated Date can be considered the latest record to be retained while the others get deleted.\n",
    "    \n",
    "1. **Version Number**: The record with the highest version number for the app can be considered the latest record to be retained while th others get deleted.\n",
    "\n",
    "\n",
    "#### Removing the Duplicates\n",
    "To remove the duplicates, we will have to build logic to identify the records that will need to be retained.\n",
    "\n",
    "The logic is implemented within the `dedup_float` method. The name suggests that this method handles deduplication of records based on a float value comparison between records. This method can be used to de-duplicate the records based on the values in any column that contains a float value. This can be used to deduplicate based on the number of reviews for each app. \n",
    "\n",
    "The aim of the logic is to avoid multiple iterations through the large data-set. The idea is to not only identify the records that should be retained or discarded, but also to collect the records to be retained into a list during the same iteration.\n",
    "\n",
    "To achieve this, we use two dictionaries. The first dictionary `max_values` will store the maximum value of reviews for each record. The second dictionary `deduped_records` is used to hold the deduped records.\n",
    "\n",
    "As we iterate through the dataset, we compare the reviews value for each app with the value stored in the `max_values` dictionary. If no value is found in that dictionary, or if there exists a value but it is lesser than the current value, then the values in both dictionaries are replaced with the values from the current record."
   ]
  },
  {
   "cell_type": "code",
   "execution_count": 13,
   "metadata": {
    "collapsed": false
   },
   "outputs": [],
   "source": [
    "# Creating a dictonary to maintain the max values for the apps\n",
    "def dedup_float(dataset, name_col, value_col):\n",
    "    # We create two dictionaries: one to store the max values\n",
    "    max_values = {}\n",
    "    # and the other to store the record with max value\n",
    "    deduped_records = {}\n",
    "    \n",
    "    # Then loop through the data set\n",
    "    for record in dataset:\n",
    "        # extract the value to be compared (reviews in our case)\n",
    "        dedup_val = float(record[value_col])\n",
    "        \n",
    "        # if the current app name already exists in the dictionary\n",
    "        # then we have already seen this app before; which means\n",
    "        # the current record is a duplicate\n",
    "        if record[name_col] in max_values:\n",
    "            # Since the current record is a duplicate, we will\n",
    "            # have to check the value for the current records\n",
    "            # against the max value stored in the dictionary\n",
    "            if dedup_val > max_values[record[name_col]]:\n",
    "                # If the current value is greater than that in \n",
    "                # the dictionary, then we replace the value in\n",
    "                # the dictionary with the current value\n",
    "                max_values[record[name_col]] = dedup_val\n",
    "                # We also store the current record\n",
    "                deduped_records[record[name_col]] = record\n",
    "        else:\n",
    "            # If the record is not in the dictionary, then it\n",
    "            # has not been seen before. Store it in the dictionary\n",
    "            max_values[record[name_col]] = dedup_val\n",
    "            deduped_records[record[name_col]] = record\n",
    "            \n",
    "    # In the end, return the values list from the records \n",
    "    # dictionary\n",
    "    return list(deduped_records.values())"
   ]
  },
  {
   "cell_type": "code",
   "execution_count": 14,
   "metadata": {
    "collapsed": false
   },
   "outputs": [
    {
     "name": "stdout",
     "output_type": "stream",
     "text": [
      "9659\n",
      "7197\n"
     ]
    }
   ],
   "source": [
    "android_deduped = dedup_float(google_data, 0, 3)\n",
    "#apple_deduped = dedup_float(apps_data, 1, 5)\n",
    "apple_deduped = apps_data  # Because the solution notebook does not dedup apple for some reason\n",
    "\n",
    "print(len(android_deduped))\n",
    "print(len(apple_deduped))"
   ]
  },
  {
   "cell_type": "markdown",
   "metadata": {},
   "source": [
    "### Removing Apps with Non-English Names\n",
    "\n",
    "We would also want to eliminate any App names that contain non-English characters. For this, we loop through each name and only include names that do not contain any non-English characters.\n",
    "\n",
    "We do this by a simple comparison of the ASCII Codes for each character in the name. However, given that some characters may be considered valid in the English language but still fall outside the normal range of ASCII Codes for English characters, we only filter out the app if its name has more than 3 non-english characters."
   ]
  },
  {
   "cell_type": "code",
   "execution_count": 15,
   "metadata": {
    "collapsed": false
   },
   "outputs": [],
   "source": [
    "def has_more3_nonenglish_characters(string):\n",
    "    count = 0\n",
    "    for chr in string:\n",
    "        # English characters will be between 0 - 127\n",
    "        if ord(chr) > 127:\n",
    "            count += 1\n",
    "    if count > 3: \n",
    "        return True\n",
    "    else:\n",
    "        return False\n",
    "\n",
    "def remove_non_english_app_names(dataset, name_col):\n",
    "    clean_list = []\n",
    "    for record in dataset:\n",
    "        if not has_more3_nonenglish_characters(record[name_col]):\n",
    "            clean_list.append(record)\n",
    "    return clean_list"
   ]
  },
  {
   "cell_type": "code",
   "execution_count": 16,
   "metadata": {
    "collapsed": false
   },
   "outputs": [
    {
     "data": {
      "text/plain": [
       "[('Instagram', True),\n",
       " ('爱奇艺PPS -《欢乐颂2》电视剧热播', False),\n",
       " ('Docs To Go™ Free Office Suite', True),\n",
       " ('Instachat 😜', True)]"
      ]
     },
     "execution_count": 16,
     "metadata": {},
     "output_type": "execute_result"
    }
   ],
   "source": [
    "[(x, not has_more3_nonenglish_characters(x)) for x in [\n",
    "    'Instagram',\n",
    "    '爱奇艺PPS -《欢乐颂2》电视剧热播',\n",
    "    'Docs To Go™ Free Office Suite',\n",
    "    'Instachat 😜'\n",
    "]]"
   ]
  },
  {
   "cell_type": "code",
   "execution_count": 17,
   "metadata": {
    "collapsed": false
   },
   "outputs": [
    {
     "name": "stdout",
     "output_type": "stream",
     "text": [
      "9614\n",
      "6183\n"
     ]
    }
   ],
   "source": [
    "android_english = remove_non_english_app_names(android_deduped, 0)\n",
    "apple_english = remove_non_english_app_names(apple_deduped, 1)\n",
    "\n",
    "print(len(android_english))\n",
    "print(len(apple_english))"
   ]
  },
  {
   "cell_type": "markdown",
   "metadata": {
    "collapsed": true
   },
   "source": [
    "### Isolating Free Apps\n",
    "Since we are interested only in in-app ad revenues, we must remove any apps that may be earning revenue by charging for the app itself.\n",
    "\n",
    "Hence, we must extract only those apps that are offerred free of cost."
   ]
  },
  {
   "cell_type": "code",
   "execution_count": 18,
   "metadata": {
    "collapsed": false
   },
   "outputs": [],
   "source": [
    "def extract_digits(in_string):\n",
    "    return ''.join(i for i in in_string if i.isdigit() or i == '.')\n",
    "\n",
    "def isolate_free_apps(dataset, price_col):\n",
    "    free_apps = []\n",
    "    for record in dataset:\n",
    "        if float(extract_digits(record[price_col])) == 0.0:\n",
    "            free_apps.append(record)\n",
    "            \n",
    "    return free_apps\n"
   ]
  },
  {
   "cell_type": "code",
   "execution_count": 19,
   "metadata": {
    "collapsed": false
   },
   "outputs": [
    {
     "name": "stdout",
     "output_type": "stream",
     "text": [
      "8864\n",
      "3222\n"
     ]
    }
   ],
   "source": [
    "android_free = isolate_free_apps(android_english, 7)\n",
    "apple_free = isolate_free_apps(apple_english, 4)\n",
    "\n",
    "print(len(android_free))\n",
    "print(len(apple_free))"
   ]
  },
  {
   "cell_type": "markdown",
   "metadata": {},
   "source": [
    "## Analysing the Data\n",
    "Now that we have cleaned the data sufficiently, we can now start analyzing the types of apps that would yield maximum revenue in both the Google Play store as well as the App Store.\n",
    "\n",
    "The idea is the find apps that are most popular among users in both segments. For this, we first start by analyzing the frequency with which these apps are being installed. We look at the types of apps that are available in these markets based on the published genre for these apps.\n",
    "\n",
    "### Building a Frequency Table"
   ]
  },
  {
   "cell_type": "code",
   "execution_count": 20,
   "metadata": {
    "collapsed": true
   },
   "outputs": [],
   "source": [
    "# Method to build frequency table\n",
    "def build_freq_table(dataset, freq_col):\n",
    "    freq_count = {}\n",
    "    for record in dataset:\n",
    "        if record[freq_col] in freq_count:\n",
    "            freq_count[record[freq_col]] += 1\n",
    "        else:\n",
    "            freq_count[record[freq_col]] = 1\n",
    "    return freq_count\n",
    "\n",
    "# Method to convert frequency table into percentages\n",
    "def build_freq_percentages(freq_table, total):\n",
    "    freq_percents = {}\n",
    "    for key in freq_table:\n",
    "        freq_percents[key] = (freq_table[key] / total) * 100\n",
    "    return freq_percents"
   ]
  },
  {
   "cell_type": "code",
   "execution_count": 21,
   "metadata": {
    "collapsed": false
   },
   "outputs": [],
   "source": [
    "def print_nice(dataset, percent=True):\n",
    "    for record in sorted(\n",
    "        [(x, dataset[x]) for x in dataset],\n",
    "        key=lambda x: x[1],\n",
    "        reverse=True\n",
    "    ):\n",
    "        if (percent):\n",
    "            strFormat = '{:<40}:{:>10.2f}%'\n",
    "        else:\n",
    "            strFormat = '{:<40}:{:>10.2f}'\n",
    "            \n",
    "        print(strFormat.format(record[0], record[1]))\n",
    "\n",
    "def print_freqs(dataset, freq_col):\n",
    "    freq_table = build_freq_table(dataset, freq_col)\n",
    "    print_nice(freq_table, False)\n",
    "#     for record in sorted(\n",
    "#         [(x, freq_table[x]) for x in freq_table], \n",
    "#         key=lambda x: x[1], \n",
    "#         reverse=True\n",
    "#     ):\n",
    "#         print('{:<40}:{:>8.2f}'.format(record[0], record[1]))\n",
    "\n",
    "def print_percents(dataset, freq_col):\n",
    "    freq_percents = build_freq_percentages(\n",
    "            build_freq_table(dataset, freq_col),\n",
    "            len(dataset)\n",
    "        )\n",
    "    print_nice(freq_percents)\n",
    "#     for record in sorted(\n",
    "#         [(x, freq_percents[x]) for x in freq_percents], \n",
    "#         key=lambda x: x[1], \n",
    "#         reverse=True\n",
    "#     ):\n",
    "#         print('{:<40}:{:>8.2f}%'.format(record[0], record[1]))\n"
   ]
  },
  {
   "cell_type": "markdown",
   "metadata": {},
   "source": [
    "#### Android Apps -- _Category_\n",
    "The frequency table for the Android apps based on the _Category_ field is as below:"
   ]
  },
  {
   "cell_type": "code",
   "execution_count": 22,
   "metadata": {
    "collapsed": false
   },
   "outputs": [
    {
     "name": "stdout",
     "output_type": "stream",
     "text": [
      "FAMILY                                  :     18.91%\n",
      "GAME                                    :      9.72%\n",
      "TOOLS                                   :      8.46%\n",
      "BUSINESS                                :      4.59%\n",
      "LIFESTYLE                               :      3.90%\n",
      "PRODUCTIVITY                            :      3.89%\n",
      "FINANCE                                 :      3.70%\n",
      "MEDICAL                                 :      3.53%\n",
      "SPORTS                                  :      3.40%\n",
      "PERSONALIZATION                         :      3.32%\n",
      "COMMUNICATION                           :      3.24%\n",
      "HEALTH_AND_FITNESS                      :      3.08%\n",
      "PHOTOGRAPHY                             :      2.94%\n",
      "NEWS_AND_MAGAZINES                      :      2.80%\n",
      "SOCIAL                                  :      2.66%\n",
      "TRAVEL_AND_LOCAL                        :      2.34%\n",
      "SHOPPING                                :      2.25%\n",
      "BOOKS_AND_REFERENCE                     :      2.14%\n",
      "DATING                                  :      1.86%\n",
      "VIDEO_PLAYERS                           :      1.79%\n",
      "MAPS_AND_NAVIGATION                     :      1.40%\n",
      "FOOD_AND_DRINK                          :      1.24%\n",
      "EDUCATION                               :      1.16%\n",
      "ENTERTAINMENT                           :      0.96%\n",
      "LIBRARIES_AND_DEMO                      :      0.94%\n",
      "AUTO_AND_VEHICLES                       :      0.93%\n",
      "HOUSE_AND_HOME                          :      0.82%\n",
      "WEATHER                                 :      0.80%\n",
      "EVENTS                                  :      0.71%\n",
      "PARENTING                               :      0.65%\n",
      "ART_AND_DESIGN                          :      0.64%\n",
      "COMICS                                  :      0.62%\n",
      "BEAUTY                                  :      0.60%\n"
     ]
    }
   ],
   "source": [
    "print_percents(android_free, 1)"
   ]
  },
  {
   "cell_type": "markdown",
   "metadata": {},
   "source": [
    "#### Android Apps -- _Genres_\n",
    "\n",
    "The frequency table for the Android apps based on the _Genres_ field is as below"
   ]
  },
  {
   "cell_type": "code",
   "execution_count": 23,
   "metadata": {
    "collapsed": false
   },
   "outputs": [
    {
     "name": "stdout",
     "output_type": "stream",
     "text": [
      "Tools                                   :      8.45%\n",
      "Entertainment                           :      6.07%\n",
      "Education                               :      5.35%\n",
      "Business                                :      4.59%\n",
      "Productivity                            :      3.89%\n",
      "Lifestyle                               :      3.89%\n",
      "Finance                                 :      3.70%\n",
      "Medical                                 :      3.53%\n",
      "Sports                                  :      3.46%\n",
      "Personalization                         :      3.32%\n",
      "Communication                           :      3.24%\n",
      "Action                                  :      3.10%\n",
      "Health & Fitness                        :      3.08%\n",
      "Photography                             :      2.94%\n",
      "News & Magazines                        :      2.80%\n",
      "Social                                  :      2.66%\n",
      "Travel & Local                          :      2.32%\n",
      "Shopping                                :      2.25%\n",
      "Books & Reference                       :      2.14%\n",
      "Simulation                              :      2.04%\n",
      "Dating                                  :      1.86%\n",
      "Arcade                                  :      1.85%\n",
      "Video Players & Editors                 :      1.77%\n",
      "Casual                                  :      1.76%\n",
      "Maps & Navigation                       :      1.40%\n",
      "Food & Drink                            :      1.24%\n",
      "Puzzle                                  :      1.13%\n",
      "Racing                                  :      0.99%\n",
      "Role Playing                            :      0.94%\n",
      "Libraries & Demo                        :      0.94%\n",
      "Auto & Vehicles                         :      0.93%\n",
      "Strategy                                :      0.91%\n",
      "House & Home                            :      0.82%\n",
      "Weather                                 :      0.80%\n",
      "Events                                  :      0.71%\n",
      "Adventure                               :      0.68%\n",
      "Comics                                  :      0.61%\n",
      "Beauty                                  :      0.60%\n",
      "Art & Design                            :      0.60%\n",
      "Parenting                               :      0.50%\n",
      "Card                                    :      0.45%\n",
      "Casino                                  :      0.43%\n",
      "Trivia                                  :      0.42%\n",
      "Educational;Education                   :      0.39%\n",
      "Board                                   :      0.38%\n",
      "Educational                             :      0.37%\n",
      "Education;Education                     :      0.34%\n",
      "Word                                    :      0.26%\n",
      "Casual;Pretend Play                     :      0.24%\n",
      "Music                                   :      0.20%\n",
      "Puzzle;Brain Games                      :      0.17%\n",
      "Racing;Action & Adventure               :      0.17%\n",
      "Entertainment;Music & Video             :      0.17%\n",
      "Casual;Brain Games                      :      0.14%\n",
      "Casual;Action & Adventure               :      0.14%\n",
      "Arcade;Action & Adventure               :      0.12%\n",
      "Action;Action & Adventure               :      0.10%\n",
      "Educational;Pretend Play                :      0.09%\n",
      "Parenting;Education                     :      0.08%\n",
      "Simulation;Action & Adventure           :      0.08%\n",
      "Entertainment;Brain Games               :      0.08%\n",
      "Board;Brain Games                       :      0.08%\n",
      "Parenting;Music & Video                 :      0.07%\n",
      "Casual;Creativity                       :      0.07%\n",
      "Art & Design;Creativity                 :      0.07%\n",
      "Educational;Brain Games                 :      0.07%\n",
      "Education;Pretend Play                  :      0.06%\n",
      "Role Playing;Pretend Play               :      0.05%\n",
      "Education;Creativity                    :      0.05%\n",
      "Role Playing;Action & Adventure         :      0.03%\n",
      "Education;Brain Games                   :      0.03%\n",
      "Adventure;Action & Adventure            :      0.03%\n",
      "Entertainment;Action & Adventure        :      0.03%\n",
      "Puzzle;Action & Adventure               :      0.03%\n",
      "Educational;Creativity                  :      0.03%\n",
      "Educational;Action & Adventure          :      0.03%\n",
      "Education;Music & Video                 :      0.03%\n",
      "Education;Action & Adventure            :      0.03%\n",
      "Entertainment;Creativity                :      0.03%\n",
      "Video Players & Editors;Music & Video   :      0.02%\n",
      "Sports;Action & Adventure               :      0.02%\n",
      "Entertainment;Pretend Play              :      0.02%\n",
      "Simulation;Pretend Play                 :      0.02%\n",
      "Puzzle;Creativity                       :      0.02%\n",
      "Music;Music & Video                     :      0.02%\n",
      "Casual;Education                        :      0.02%\n",
      "Board;Action & Adventure                :      0.02%\n",
      "Arcade;Pretend Play                     :      0.01%\n",
      "Travel & Local;Action & Adventure       :      0.01%\n",
      "Tools;Education                         :      0.01%\n",
      "Strategy;Education                      :      0.01%\n",
      "Lifestyle;Pretend Play                  :      0.01%\n",
      "Trivia;Education                        :      0.01%\n",
      "Comics;Creativity                       :      0.01%\n",
      "Strategy;Action & Adventure             :      0.01%\n",
      "Card;Action & Adventure                 :      0.01%\n",
      "Puzzle;Education                        :      0.01%\n",
      "Casual;Music & Video                    :      0.01%\n",
      "Art & Design;Pretend Play               :      0.01%\n",
      "Simulation;Education                    :      0.01%\n",
      "Racing;Pretend Play                     :      0.01%\n",
      "Adventure;Education                     :      0.01%\n",
      "Lifestyle;Education                     :      0.01%\n",
      "Role Playing;Brain Games                :      0.01%\n",
      "Strategy;Creativity                     :      0.01%\n",
      "Music & Audio;Music & Video             :      0.01%\n",
      "Art & Design;Action & Adventure         :      0.01%\n",
      "Entertainment;Education                 :      0.01%\n",
      "Books & Reference;Education             :      0.01%\n",
      "Communication;Creativity                :      0.01%\n",
      "Video Players & Editors;Creativity      :      0.01%\n",
      "Health & Fitness;Education              :      0.01%\n",
      "Parenting;Brain Games                   :      0.01%\n",
      "Health & Fitness;Action & Adventure     :      0.01%\n"
     ]
    }
   ],
   "source": [
    "print_percents(android_free, 9)"
   ]
  },
  {
   "cell_type": "markdown",
   "metadata": {},
   "source": [
    "#### Apple Apps"
   ]
  },
  {
   "cell_type": "code",
   "execution_count": 24,
   "metadata": {
    "collapsed": false
   },
   "outputs": [
    {
     "name": "stdout",
     "output_type": "stream",
     "text": [
      "Games                                   :     58.16%\n",
      "Entertainment                           :      7.88%\n",
      "Photo & Video                           :      4.97%\n",
      "Education                               :      3.66%\n",
      "Social Networking                       :      3.29%\n",
      "Shopping                                :      2.61%\n",
      "Utilities                               :      2.51%\n",
      "Sports                                  :      2.14%\n",
      "Music                                   :      2.05%\n",
      "Health & Fitness                        :      2.02%\n",
      "Productivity                            :      1.74%\n",
      "Lifestyle                               :      1.58%\n",
      "News                                    :      1.33%\n",
      "Travel                                  :      1.24%\n",
      "Finance                                 :      1.12%\n",
      "Weather                                 :      0.87%\n",
      "Food & Drink                            :      0.81%\n",
      "Reference                               :      0.56%\n",
      "Business                                :      0.53%\n",
      "Book                                    :      0.43%\n",
      "Medical                                 :      0.19%\n",
      "Navigation                              :      0.19%\n",
      "Catalogs                                :      0.12%\n"
     ]
    }
   ],
   "source": [
    "print_percents(apple_free, 11)"
   ]
  },
  {
   "cell_type": "markdown",
   "metadata": {},
   "source": [
    "From the above analysis it becomes evident that while apps related to Games & Entertainment dominate the Apple AppStore, the usage in the Google Play Store is much more varied.\n",
    "\n",
    "\n",
    "### Finding the most popular Genres\n",
    "\n",
    "While the above frequency tables will give us a glimpse of the number of apps in each Genre/Category, they don't necessarily reflect the popularity of those apps. For instance, a Genre might have numerous apps, but it may so be that none of those apps have any users. We can't say that a particular genre is popular just because there are so many apps that fall into that genre. Popularity is a function of how many users there are.\n",
    "\n",
    "To analyze the number of users, we derive these numbers based on the data available.\n",
    "- For Google Play, the number of users may be reflected by the number of Installs for each app\n",
    "- For the Apple AppStore, though the number of installs is unavailable, a good proxy may be the number of users who have chosen to leave a rating for each app\n",
    "\n",
    "#### Apple AppStore\n",
    "\n",
    "We will calculate the average number of user ratings for each Genre in the App Store. "
   ]
  },
  {
   "cell_type": "code",
   "execution_count": 34,
   "metadata": {
    "collapsed": false
   },
   "outputs": [],
   "source": [
    "def calculate_agg_rating_for_genre(dataset, genre_col, rating_col, transform = lambda x: x):\n",
    "    genre_ratings = {}\n",
    "    genre_counts = {}\n",
    "    genre_highest = {}\n",
    "    genre_agg_ratings = {}\n",
    "    for record in dataset:\n",
    "        record_rating = float(transform(record[rating_col]))\n",
    "        if (record[genre_col] in genre_ratings):\n",
    "            genre_ratings[record[genre_col]] += record_rating\n",
    "            genre_counts[record[genre_col]] += 1\n",
    "            \n",
    "            if (genre_highest[record[genre_col]] < record_rating):\n",
    "                genre_highest[record[genre_col]] = record_rating\n",
    "        else:\n",
    "            genre_ratings[record[genre_col]] = record_rating\n",
    "            genre_counts[record[genre_col]] = 1\n",
    "            genre_highest[record[genre_col]] = record_rating\n",
    "    \n",
    "    for genre in genre_ratings:\n",
    "        # print(genre, genre_ratings[genre], genre_counts[genre])\n",
    "        genre_agg_ratings[genre] = (\n",
    "            genre_ratings[genre],\n",
    "            genre_counts[genre],\n",
    "            genre_highest[genre]\n",
    "        )\n",
    "    \n",
    "    return genre_agg_ratings\n",
    "\n",
    "def print_avg_ratings(dataset, genre_col, rating_col, transform = lambda x: x):\n",
    "    print('{:^20}:  {:^14}  :  {:^4}  :  {:^14} : {:^6}'.format('Genre', 'Inst./Rat.', '#', 'Highest', '%age'))\n",
    "    agg_ratings = calculate_agg_rating_for_genre(dataset, genre_col, rating_col, transform)\n",
    "    for rec in sorted(\n",
    "        [(\n",
    "            x, \n",
    "            agg_ratings[x][0] / agg_ratings[x][1], \n",
    "            agg_ratings[x][1], \n",
    "            agg_ratings[x][2], \n",
    "            agg_ratings[x][2] * 100 / agg_ratings[x][0]\n",
    "        ) for x in agg_ratings],\n",
    "        key=lambda x: x[1],\n",
    "        reverse=True\n",
    "    ):\n",
    "        print('{:<20}:  {:>14,.2f}  :  {:>4.0f}  :  {:>14,.0f} : {:>5.2f}%'.format(rec[0], rec[1], rec[2], rec[3], rec[4]))"
   ]
  },
  {
   "cell_type": "code",
   "execution_count": 35,
   "metadata": {
    "collapsed": false,
    "scrolled": true
   },
   "outputs": [
    {
     "name": "stdout",
     "output_type": "stream",
     "text": [
      "       Genre        :    Inst./Rat.    :   #    :     Highest     :  %age \n",
      "Navigation          :       86,090.33  :     6  :         345,046 : 66.80%\n",
      "Reference           :       74,942.11  :    18  :         985,920 : 73.09%\n",
      "Social Networking   :       71,548.35  :   106  :       2,974,676 : 39.22%\n",
      "Music               :       57,326.53  :    66  :       1,126,879 : 29.78%\n",
      "Weather             :       52,279.89  :    28  :         495,626 : 33.86%\n",
      "Book                :       39,758.50  :    14  :         252,076 : 45.29%\n",
      "Food & Drink        :       33,333.92  :    26  :         303,856 : 35.06%\n",
      "Finance             :       31,467.94  :    36  :         233,270 : 20.59%\n",
      "Photo & Video       :       28,441.54  :   160  :       2,161,558 : 47.50%\n",
      "Travel              :       28,243.80  :    40  :         446,185 : 39.49%\n",
      "Shopping            :       26,919.69  :    84  :         417,779 : 18.48%\n",
      "Health & Fitness    :       23,298.02  :    65  :         507,706 : 33.53%\n",
      "Sports              :       23,008.90  :    69  :         290,996 : 18.33%\n",
      "Games               :       22,788.67  :  1874  :       2,130,805 :  4.99%\n",
      "News                :       21,248.02  :    43  :         354,058 : 38.75%\n",
      "Productivity        :       21,028.41  :    56  :         161,065 : 13.68%\n",
      "Utilities           :       18,684.46  :    81  :         479,440 : 31.68%\n",
      "Lifestyle           :       16,485.76  :    51  :         342,969 : 40.79%\n",
      "Entertainment       :       14,029.83  :   254  :         308,844 :  8.67%\n",
      "Business            :        7,491.12  :    17  :          38,681 : 30.37%\n",
      "Education           :        7,003.98  :   118  :         162,701 : 19.69%\n",
      "Catalogs            :        4,004.00  :     4  :          13,345 : 83.32%\n",
      "Medical             :          612.00  :     6  :           1,341 : 36.52%\n"
     ]
    }
   ],
   "source": [
    "print_avg_ratings(apple_free, 11, 5)"
   ]
  },
  {
   "cell_type": "markdown",
   "metadata": {},
   "source": [
    "Analyzing the data above, we can make some observations:\n",
    "- **Navigation** apps seem to draw the most user ratings. However, there are only 6 apps on offer and the one with the highest rating contributes to 66% of those ratings.\n",
    "\n",
    "- Similarly, the **Reference** genre too has one very popular application contributing to 73% of all ratings.\n",
    "\n",
    "- **Social Networking** as a genre has the top app contributing roughly 39% of the user ratings; however, there are over 100 apps in this space; Social Networking is also the genre which seems to have the most number of users who care to leave ratings.\n",
    "\n",
    "The other Genres that stand out are **Photo & Video**, and **Games**, each of which seem to have a large user-base that leave ratings. While there seems to be a dominant player in the **Photo & Video** space, the **Games** space seems to be very hotly contested with the app with the highest rating contributing only about 5% of the total ratings."
   ]
  },
  {
   "cell_type": "markdown",
   "metadata": {},
   "source": [
    "#### Recommendation - Apple AppStore\n",
    "\n",
    "A competitive app may be able to do well in one of the Genres where there is heavy user interest: **Navigation**, **Reference**, **Social Networking**, **Music**, **Photo & Video**, and **Games**. However the entry barrier in these genres can be expected to be high given that there are already popular players entrenched here.\n",
    "\n",
    "Genres such as **Medical**, **Catalogs**, would have a low entry barrier since there are not many apps on offer. However, the level of user interest is also low.\n",
    "\n",
    "This data can be used for further discussions with the team. Depending on the core competency available within the team building the app, we can decide either to compete in a popular genre, or to deploy an app that can potentially trigger wide user interest and capture a genre that has until now been ignored by other players."
   ]
  },
  {
   "cell_type": "markdown",
   "metadata": {},
   "source": [
    "\n",
    "#### Google Play Store\n",
    "We need to build a Table to analyze the details of the Google Play store data too."
   ]
  },
  {
   "cell_type": "code",
   "execution_count": 36,
   "metadata": {
    "collapsed": false
   },
   "outputs": [
    {
     "name": "stdout",
     "output_type": "stream",
     "text": [
      "       Genre        :    Inst./Rat.    :   #    :     Highest     :  %age \n",
      "COMMUNICATION       :   38,456,119.17  :   287  :   1,000,000,000 :  9.06%\n",
      "VIDEO_PLAYERS       :   24,727,872.45  :   159  :   1,000,000,000 : 25.43%\n",
      "SOCIAL              :   23,253,652.13  :   236  :   1,000,000,000 : 18.22%\n",
      "PHOTOGRAPHY         :   17,840,110.40  :   261  :   1,000,000,000 : 21.48%\n",
      "PRODUCTIVITY        :   16,787,331.34  :   345  :   1,000,000,000 : 17.27%\n",
      "GAME                :   15,588,015.60  :   862  :   1,000,000,000 :  7.44%\n",
      "TRAVEL_AND_LOCAL    :   13,984,077.71  :   207  :   1,000,000,000 : 34.55%\n",
      "ENTERTAINMENT       :   11,640,705.88  :    85  :     100,000,000 : 10.11%\n",
      "TOOLS               :   10,801,391.30  :   750  :   1,000,000,000 : 12.34%\n",
      "NEWS_AND_MAGAZINES  :    9,549,178.47  :   248  :   1,000,000,000 : 42.23%\n",
      "BOOKS_AND_REFERENCE :    8,767,811.89  :   190  :   1,000,000,000 : 60.03%\n",
      "SHOPPING            :    7,036,877.31  :   199  :     100,000,000 :  7.14%\n",
      "PERSONALIZATION     :    5,201,482.61  :   294  :     100,000,000 :  6.54%\n",
      "WEATHER             :    5,074,486.20  :    71  :      50,000,000 : 13.88%\n",
      "HEALTH_AND_FITNESS  :    4,188,821.99  :   273  :     500,000,000 : 43.72%\n",
      "MAPS_AND_NAVIGATION :    4,056,941.77  :   124  :     100,000,000 : 19.88%\n",
      "FAMILY              :    3,695,641.82  :  1676  :   1,000,000,000 : 16.14%\n",
      "SPORTS              :    3,638,640.14  :   301  :     100,000,000 :  9.13%\n",
      "ART_AND_DESIGN      :    1,986,335.09  :    57  :      50,000,000 : 44.16%\n",
      "FOOD_AND_DRINK      :    1,924,897.74  :   110  :      10,000,000 :  4.72%\n",
      "EDUCATION           :    1,833,495.15  :   103  :      10,000,000 :  5.30%\n",
      "BUSINESS            :    1,712,290.15  :   407  :     100,000,000 : 14.35%\n",
      "LIFESTYLE           :    1,437,816.27  :   346  :     100,000,000 : 20.10%\n",
      "FINANCE             :    1,387,692.48  :   328  :     100,000,000 : 21.97%\n",
      "HOUSE_AND_HOME      :    1,331,540.56  :    73  :      10,000,000 : 10.29%\n",
      "DATING              :      854,028.83  :   165  :      10,000,000 :  7.10%\n",
      "COMICS              :      817,657.27  :    55  :      10,000,000 : 22.24%\n",
      "AUTO_AND_VEHICLES   :      647,317.82  :    82  :      10,000,000 : 18.84%\n",
      "LIBRARIES_AND_DEMO  :      638,503.73  :    83  :      10,000,000 : 18.87%\n",
      "PARENTING           :      542,603.62  :    58  :      10,000,000 : 31.78%\n",
      "BEAUTY              :      513,151.89  :    53  :      10,000,000 : 36.77%\n",
      "EVENTS              :      253,542.22  :    63  :       5,000,000 : 31.30%\n",
      "MEDICAL             :      120,550.62  :   313  :       5,000,000 : 13.25%\n"
     ]
    }
   ],
   "source": [
    "print_avg_ratings(android_free, 1, 5, lambda x: x.replace('+','').replace(',',''))"
   ]
  },
  {
   "cell_type": "markdown",
   "metadata": {},
   "source": [
    "From the above data analysis, one thing that is immediately apparent is that the space on the Google Play Store is much more competitive with very few Genres being totally dominated by a single app. Only the **Books & Reference** Genre has a single app that dominates with more than 50% of the user installs.\n",
    "\n",
    "All genres also have many more players in comparison with the AppStore.\n",
    "\n",
    "The Most Popular Genres are no doubt **Communication** and **Video Players** with the highest number of installs. Moreover, there are numerous players in both these genres, especially with 287 players in the **Communication** Genre.\n"
   ]
  }
 ],
 "metadata": {
  "kernelspec": {
   "display_name": "Python 3",
   "language": "python",
   "name": "python3"
  },
  "language_info": {
   "codemirror_mode": {
    "name": "ipython",
    "version": 3
   },
   "file_extension": ".py",
   "mimetype": "text/x-python",
   "name": "python",
   "nbconvert_exporter": "python",
   "pygments_lexer": "ipython3",
   "version": "3.4.3"
  }
 },
 "nbformat": 4,
 "nbformat_minor": 2
}
