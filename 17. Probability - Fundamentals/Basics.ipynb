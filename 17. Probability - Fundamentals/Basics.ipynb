{
 "cells": [
  {
   "cell_type": "markdown",
   "metadata": {},
   "source": [
    "## Analyzing Probability of winning the lottery\n",
    "\n",
    "In an effort to fight addiction to the lottery, this analysis aims to provide a quick way to figure out answers for various questions related to the probability of winning the lottery\n",
    "\n",
    "The intent is to build an app for users of the Canadian Lottery, to allow them to easily calculate the probability of them winning the lottery with the numbers that they choose."
   ]
  },
  {
   "cell_type": "code",
   "execution_count": 1,
   "metadata": {
    "collapsed": true
   },
   "outputs": [],
   "source": [
    "# Import libraries tha twe will use\n",
    "import pandas as pd\n",
    "# from math import factorial\n",
    "\n",
    "# Writing functions to calculate factorials and combinations\n",
    "\n",
    "# Factorial, though not sure why we aren't using math.factorial\n",
    "def factorial(n):\n",
    "    product = 1\n",
    "    for x in range(n):\n",
    "        product *= (x + 1)\n",
    "    return product\n",
    "\n",
    "def combinations(n, k):\n",
    "    return factorial(n) // (factorial(k) * factorial(n - k))"
   ]
  },
  {
   "cell_type": "markdown",
   "metadata": {},
   "source": [
    "### Probability of winning on one ticket\n",
    "\n",
    "The first step for us is to create a function which the App developers will be able to call. The function returns the probability that the user of the app can with the lottery with any specific 6 numbers out of 49.\n",
    "\n",
    "The function takes in a list of 6 numbers and prints a message for the user indicating their chances of winning the lottery with that specific combination of 6 numbers."
   ]
  },
  {
   "cell_type": "code",
   "execution_count": 2,
   "metadata": {
    "collapsed": true
   },
   "outputs": [],
   "source": [
    "def one_ticket_probability(numbers):\n",
    "    total_outcomes = combinations(49, 6)\n",
    "    the_probability_of_one = 1 / total_outcomes\n",
    "    print('The chances of you winning the lottery with the numbers {0!s} is {1:.7f}%'.format(numbers, the_probability_of_one *100))"
   ]
  },
  {
   "cell_type": "code",
   "execution_count": 3,
   "metadata": {
    "collapsed": false
   },
   "outputs": [
    {
     "name": "stdout",
     "output_type": "stream",
     "text": [
      "The chances of you winning the lottery with the numbers [1, 2, 3, 4, 5, 6] is 0.0000072%\n"
     ]
    }
   ],
   "source": [
    "one_ticket_probability([1,2,3,4,5,6])"
   ]
  },
  {
   "cell_type": "markdown",
   "metadata": {},
   "source": [
    "### Studying Historical Winnings\n",
    "\n",
    "We will also allow users to figure out if the numbers they have chosen has ever been on a winning ticket in the past.\n",
    "\n",
    "For this we will use the historical data from the Canadian Lottery."
   ]
  },
  {
   "cell_type": "code",
   "execution_count": 4,
   "metadata": {
    "collapsed": false
   },
   "outputs": [
    {
     "name": "stdout",
     "output_type": "stream",
     "text": [
      "(3665, 11)\n"
     ]
    },
    {
     "data": {
      "text/html": [
       "<div>\n",
       "<style scoped>\n",
       "    .dataframe tbody tr th:only-of-type {\n",
       "        vertical-align: middle;\n",
       "    }\n",
       "\n",
       "    .dataframe tbody tr th {\n",
       "        vertical-align: top;\n",
       "    }\n",
       "\n",
       "    .dataframe thead th {\n",
       "        text-align: right;\n",
       "    }\n",
       "</style>\n",
       "<table border=\"1\" class=\"dataframe\">\n",
       "  <thead>\n",
       "    <tr style=\"text-align: right;\">\n",
       "      <th></th>\n",
       "      <th>PRODUCT</th>\n",
       "      <th>DRAW NUMBER</th>\n",
       "      <th>SEQUENCE NUMBER</th>\n",
       "      <th>DRAW DATE</th>\n",
       "      <th>NUMBER DRAWN 1</th>\n",
       "      <th>NUMBER DRAWN 2</th>\n",
       "      <th>NUMBER DRAWN 3</th>\n",
       "      <th>NUMBER DRAWN 4</th>\n",
       "      <th>NUMBER DRAWN 5</th>\n",
       "      <th>NUMBER DRAWN 6</th>\n",
       "      <th>BONUS NUMBER</th>\n",
       "    </tr>\n",
       "  </thead>\n",
       "  <tbody>\n",
       "    <tr>\n",
       "      <th>0</th>\n",
       "      <td>649</td>\n",
       "      <td>1</td>\n",
       "      <td>0</td>\n",
       "      <td>6/12/1982</td>\n",
       "      <td>3</td>\n",
       "      <td>11</td>\n",
       "      <td>12</td>\n",
       "      <td>14</td>\n",
       "      <td>41</td>\n",
       "      <td>43</td>\n",
       "      <td>13</td>\n",
       "    </tr>\n",
       "    <tr>\n",
       "      <th>1</th>\n",
       "      <td>649</td>\n",
       "      <td>2</td>\n",
       "      <td>0</td>\n",
       "      <td>6/19/1982</td>\n",
       "      <td>8</td>\n",
       "      <td>33</td>\n",
       "      <td>36</td>\n",
       "      <td>37</td>\n",
       "      <td>39</td>\n",
       "      <td>41</td>\n",
       "      <td>9</td>\n",
       "    </tr>\n",
       "    <tr>\n",
       "      <th>2</th>\n",
       "      <td>649</td>\n",
       "      <td>3</td>\n",
       "      <td>0</td>\n",
       "      <td>6/26/1982</td>\n",
       "      <td>1</td>\n",
       "      <td>6</td>\n",
       "      <td>23</td>\n",
       "      <td>24</td>\n",
       "      <td>27</td>\n",
       "      <td>39</td>\n",
       "      <td>34</td>\n",
       "    </tr>\n",
       "  </tbody>\n",
       "</table>\n",
       "</div>"
      ],
      "text/plain": [
       "   PRODUCT  DRAW NUMBER  SEQUENCE NUMBER  DRAW DATE  NUMBER DRAWN 1  \\\n",
       "0      649            1                0  6/12/1982               3   \n",
       "1      649            2                0  6/19/1982               8   \n",
       "2      649            3                0  6/26/1982               1   \n",
       "\n",
       "   NUMBER DRAWN 2  NUMBER DRAWN 3  NUMBER DRAWN 4  NUMBER DRAWN 5  \\\n",
       "0              11              12              14              41   \n",
       "1              33              36              37              39   \n",
       "2               6              23              24              27   \n",
       "\n",
       "   NUMBER DRAWN 6  BONUS NUMBER  \n",
       "0              43            13  \n",
       "1              41             9  \n",
       "2              39            34  "
      ]
     },
     "execution_count": 4,
     "metadata": {},
     "output_type": "execute_result"
    }
   ],
   "source": [
    "lot_wins = pd.read_csv('649.csv')\n",
    "\n",
    "NUMBERS = ['NUMBER DRAWN {0}'.format(x) for x in range(1, 7)]\n",
    "\n",
    "print(lot_wins.shape)\n",
    "\n",
    "lot_wins.head(3)\n"
   ]
  },
  {
   "cell_type": "code",
   "execution_count": 5,
   "metadata": {
    "collapsed": false
   },
   "outputs": [
    {
     "data": {
      "text/html": [
       "<div>\n",
       "<style scoped>\n",
       "    .dataframe tbody tr th:only-of-type {\n",
       "        vertical-align: middle;\n",
       "    }\n",
       "\n",
       "    .dataframe tbody tr th {\n",
       "        vertical-align: top;\n",
       "    }\n",
       "\n",
       "    .dataframe thead th {\n",
       "        text-align: right;\n",
       "    }\n",
       "</style>\n",
       "<table border=\"1\" class=\"dataframe\">\n",
       "  <thead>\n",
       "    <tr style=\"text-align: right;\">\n",
       "      <th></th>\n",
       "      <th>PRODUCT</th>\n",
       "      <th>DRAW NUMBER</th>\n",
       "      <th>SEQUENCE NUMBER</th>\n",
       "      <th>DRAW DATE</th>\n",
       "      <th>NUMBER DRAWN 1</th>\n",
       "      <th>NUMBER DRAWN 2</th>\n",
       "      <th>NUMBER DRAWN 3</th>\n",
       "      <th>NUMBER DRAWN 4</th>\n",
       "      <th>NUMBER DRAWN 5</th>\n",
       "      <th>NUMBER DRAWN 6</th>\n",
       "      <th>BONUS NUMBER</th>\n",
       "    </tr>\n",
       "  </thead>\n",
       "  <tbody>\n",
       "    <tr>\n",
       "      <th>3662</th>\n",
       "      <td>649</td>\n",
       "      <td>3589</td>\n",
       "      <td>0</td>\n",
       "      <td>6/13/2018</td>\n",
       "      <td>6</td>\n",
       "      <td>22</td>\n",
       "      <td>24</td>\n",
       "      <td>31</td>\n",
       "      <td>32</td>\n",
       "      <td>34</td>\n",
       "      <td>16</td>\n",
       "    </tr>\n",
       "    <tr>\n",
       "      <th>3663</th>\n",
       "      <td>649</td>\n",
       "      <td>3590</td>\n",
       "      <td>0</td>\n",
       "      <td>6/16/2018</td>\n",
       "      <td>2</td>\n",
       "      <td>15</td>\n",
       "      <td>21</td>\n",
       "      <td>31</td>\n",
       "      <td>38</td>\n",
       "      <td>49</td>\n",
       "      <td>8</td>\n",
       "    </tr>\n",
       "    <tr>\n",
       "      <th>3664</th>\n",
       "      <td>649</td>\n",
       "      <td>3591</td>\n",
       "      <td>0</td>\n",
       "      <td>6/20/2018</td>\n",
       "      <td>14</td>\n",
       "      <td>24</td>\n",
       "      <td>31</td>\n",
       "      <td>35</td>\n",
       "      <td>37</td>\n",
       "      <td>48</td>\n",
       "      <td>17</td>\n",
       "    </tr>\n",
       "  </tbody>\n",
       "</table>\n",
       "</div>"
      ],
      "text/plain": [
       "      PRODUCT  DRAW NUMBER  SEQUENCE NUMBER  DRAW DATE  NUMBER DRAWN 1  \\\n",
       "3662      649         3589                0  6/13/2018               6   \n",
       "3663      649         3590                0  6/16/2018               2   \n",
       "3664      649         3591                0  6/20/2018              14   \n",
       "\n",
       "      NUMBER DRAWN 2  NUMBER DRAWN 3  NUMBER DRAWN 4  NUMBER DRAWN 5  \\\n",
       "3662              22              24              31              32   \n",
       "3663              15              21              31              38   \n",
       "3664              24              31              35              37   \n",
       "\n",
       "      NUMBER DRAWN 6  BONUS NUMBER  \n",
       "3662              34            16  \n",
       "3663              49             8  \n",
       "3664              48            17  "
      ]
     },
     "execution_count": 5,
     "metadata": {},
     "output_type": "execute_result"
    }
   ],
   "source": [
    "lot_wins.tail(3)"
   ]
  },
  {
   "cell_type": "code",
   "execution_count": 6,
   "metadata": {
    "collapsed": false
   },
   "outputs": [
    {
     "name": "stdout",
     "output_type": "stream",
     "text": [
      "The numbers [14, 24, 31, 35, 48, 37] have won the lottery once in the past.\n",
      "The chances of you winning the lottery with the numbers [14, 24, 31, 35, 48, 37] is 0.0000072%\n"
     ]
    }
   ],
   "source": [
    "def extract_numbers(row):\n",
    "    return set(row[NUMBERS])\n",
    "\n",
    "\n",
    "def check_historical_occurence(numbers, history):\n",
    "    set_numbers = set(numbers)\n",
    "    return sum(history == set_numbers)\n",
    "\n",
    "def print_advice(numbers, history):\n",
    "    past_wins = check_historical_occurence(numbers, history)\n",
    "    if past_wins > 3:\n",
    "        print('The numbers {0!s} have won the lottery {1} times in the past.'.format(numbers, past_wins))\n",
    "    elif past_wins > 2:\n",
    "        print('The numbers {0!s} have won the lottery thrice in the past.'.format(numbers, past_wins))\n",
    "    elif past_wins > 1:\n",
    "        print('The numbers {0!s} have won the lottery twice in the past.'.format(numbers, past_wins))\n",
    "    elif past_wins > 0:\n",
    "        print('The numbers {0!s} have won the lottery once in the past.'.format(numbers, past_wins))\n",
    "    else:\n",
    "        print('The numbers {0!s} have never won the lottery in the past.'.format(numbers, past_wins))\n",
    "        \n",
    "    one_ticket_probability(numbers)\n",
    "\n",
    "win_nums = lot_wins.apply(extract_numbers, axis=1)\n",
    "\n",
    "print_advice([14,24,31,35,48,37], win_nums)"
   ]
  },
  {
   "cell_type": "markdown",
   "metadata": {},
   "source": [
    "We study the historical data from the Canadian lottery to provide some advice to the users on the numbers they have selected.\n",
    "\n",
    "We provide data on how many times these numbers have actually won the lottery in the past, and also data regarding the chances they have of winning the lottery in the next draw.\n",
    "\n",
    "The key consideration here, is that the next draw is in no way influenced by previous draws. And hence, the probability of winning in the next draw is not influenced by past results. That probability stays the same irrespective of whether the numbers have been successful in the past or not."
   ]
  },
  {
   "cell_type": "markdown",
   "metadata": {},
   "source": [
    "### Probability of winning with multiple tickets"
   ]
  },
  {
   "cell_type": "code",
   "execution_count": 7,
   "metadata": {
    "collapsed": false
   },
   "outputs": [
    {
     "name": "stdout",
     "output_type": "stream",
     "text": [
      "The chances of you winning the lottery with 1 tickets is 0.0000072%\n",
      "The chances of you winning the lottery with 10 tickets is 0.0000715%\n",
      "The chances of you winning the lottery with 100 tickets is 0.0007151%\n",
      "The chances of you winning the lottery with 10000 tickets is 0.0715112%\n",
      "The chances of you winning the lottery with 1000000 tickets is 7.1511238%\n",
      "The chances of you winning the lottery with 6991908 tickets is 50.0000000%\n",
      "The chances of you winning the lottery with 13983816 tickets is 100.0000000%\n"
     ]
    }
   ],
   "source": [
    "def multi_ticket_probability(number_of_tickets):\n",
    "    print('The chances of you winning the lottery with {0} tickets is {1:.7f}%'.format(number_of_tickets, number_of_tickets * 100 / combinations(49, 6)))\n",
    "    \n",
    "for x in [1, 10, 100, 10000, 1000000, 6991908, 13983816]:\n",
    "    multi_ticket_probability(x) "
   ]
  },
  {
   "cell_type": "markdown",
   "metadata": {},
   "source": [
    "As can be seen from the above numbers, the probability of winning the lottery goes up with the number of tickets the user is willing to invest in. However, it is very evident that to have a non-trivial chance of winning the lottery, the user would have to purchase a million tickets, and even then their chances are only in the single digits!\n",
    "\n",
    "### Probability of less than an exact match\n",
    "\n",
    "There is also a possibility of lottery users winning smaller prizes when only a few of the numbers on their tickets match.\n",
    "\n",
    "For example, if the user selects the numbers { 1, 16, 24, 36, 29, 47 }, and the winning draw is { 4, **16**, **29**, **36**, 37, **47** }, then we see that the user has 4 out of 6 numbers matching, and hence receives a smaller prize.\n",
    "\n",
    "#### Calculating the Probability of a smaller match\n",
    "\n",
    "We will need a mechanism to determine the probability of only *n* numbers matching, where *n* < 6. For this, we have to determine how many possible outcomes of 6-number draws would have *n* numbers matching.\n",
    "\n",
    "###### Example: 4-number Match\n",
    "\n",
    "In any 6-number ticket, there are 15 possible combinations of 4 numbers each. If the actual number drawn in the lottery included any of these 15 combinations, that could net the user with a smaller prize.\n",
    "\n",
    "If we go back to our example of the user's numbers of { 1, 16, 24, 36, 29, 47 }.\n",
    "\n",
    "The possible 4-number combinations on this ticket are:\n",
    "- { 1, 16, 24, 29 }\n",
    "- { 1, 16, 24, 36 }\n",
    "- { 1, 16, 24, 47 }\n",
    "- { 1, 16, 29, 36 }\n",
    "- { 1, 16, 29, 47 }\n",
    "- { 1, 16, 36, 47 }\n",
    "- { 1, 24, 29, 36 }\n",
    "- { 1, 24, 29, 47 }\n",
    "- { 1, 24, 36, 47 }\n",
    "- { 1, 29, 36, 47 }\n",
    "- { 16, 24, 29, 36 }\n",
    "- { 16, 24, 29, 47 }\n",
    "- { 16, 24, 36, 47 }\n",
    "- { 16, 29, 36, 47 }\n",
    "- { 24, 29, 36, 47 }\n",
    "\n",
    "Let us derive the possible outcomes of the Lottery draw that could possibly match **any one** of the above fifteen possible 4-number combinations. For example, if we focus on one of the above fifteen possibilities, say { 1, 16, 24, 36 }, and try to derive the results of the lottery draw that could match these four numbers those possibilities would be:\n",
    "- { 1, 16, 24, 36, 2, 3 }\n",
    "- { 1, 16, 24, 36, 2, 4 }\n",
    "- { 1, 16, 24, 36, 2, 5 }\n",
    "- { 1, 16, 24, 36, 2, 6 }\n",
    "- ...\n",
    "- { 1, 16, 24, 36, 3, 4 }\n",
    "- { 1, 16, 24, 36, 3, 5 }\n",
    "- { 1, 16, 24, 36, 3, 6 }\n",
    "- ...\n",
    "- { 1, 16, 24, 36, 4, 5 }\n",
    "- { 1, 16, 24, 36, 4, 6 }\n",
    "- ...\n",
    "and so on...\n",
    "\n",
    "We observe that any combination of numbers, which would give us a match of our 4-number combination, should adhere to the following rules:\n",
    "- It should contain all the 4 numbers in our 4-number combination (i.e. in our example the winning draw **must** contain the numbers 1, 16, 24, 36 from our user's ticket)\n",
    "- It should NOT contain any of the other numbers in our user's ticket. This is because if it did contain any of the other numbers then it would not be a 4-number match, but rather a 5-number match or a winning ticket! (i.e. in our example the winning draw **must not** contain the numbers 29 and 47).\n",
    "\n",
    "We must decide how many combination of 6 digit numbers can be formed by using the first four numbers from our user's ticket and any combination of the remaining numbers other than the ones the user has already selected.\n",
    "\n",
    "We can derive how many combinations of the remaining 2 digits are possible from the remaining set of numbers in the lottery pool. Since we already know that the user has drawn 6 numbers, only 43 numbers remain in the pool. (i.e. \"43 choose 2\")\n",
    "\n",
    "$\\begin{pmatrix}\n",
    "43 \\\\\n",
    "2\n",
    "\\end{pmatrix} = \\dfrac{43!}{2!(43 - 2)!} = 903$\n",
    "\n",
    "Hence, for any 4-number combination on our user's ticket, there are 903 possible lottery draws that can result in a 4-number match.\n",
    "\n",
    "Since there are a total of 15 possible 4-number matches, the total number of possible outcomes on the lottery draw that can yield a 4-number match would be\n",
    "\n",
    "$15 \\times 903 = 13545$\n",
    "\n",
    "There would be **13,545 possible successful outcomes** for a 4-number match on the lottery.\n",
    "\n",
    "We need to build a generic mechanism following the above logic for any number of matches."
   ]
  },
  {
   "cell_type": "code",
   "execution_count": 9,
   "metadata": {
    "collapsed": false
   },
   "outputs": [
    {
     "data": {
      "text/plain": [
       "0.000968619724401408"
      ]
     },
     "execution_count": 9,
     "metadata": {},
     "output_type": "execute_result"
    }
   ],
   "source": [
    "15 * 903 / combinations(49, 6)"
   ]
  },
  {
   "cell_type": "code",
   "execution_count": 19,
   "metadata": {
    "collapsed": false
   },
   "outputs": [
    {
     "name": "stdout",
     "output_type": "stream",
     "text": [
      "Probability of a 1-number match: 41.3019450%\n",
      "Probability of a 2-number match: 13.2378029%\n",
      "Probability of a 3-number match: 1.7650404%\n",
      "Probability of a 4-number match: 0.0968620%\n",
      "Probability of a 5-number match: 0.0018450%\n",
      "Probability of a 6-number match: 0.0000072%\n"
     ]
    }
   ],
   "source": [
    "# A generic method to calculate the probability of\n",
    "# a less than exact match\n",
    "def probability_less_6(n):\n",
    "    # First determine the number of possible n-number combinations\n",
    "    # possible in the 6-number ticket\n",
    "    n_number_combos = combinations(6, n)\n",
    "    \n",
    "    # How many numbers are left over that should not match?\n",
    "    remaining_numbers = 6 - n\n",
    "    \n",
    "    # How many combintations of the other numbers are possible\n",
    "    # from the lottery pool, leaving out the 6 numbers already\n",
    "    # on the ticket?\n",
    "    remaining_number_combos = combinations(43, remaining_numbers)\n",
    "    \n",
    "    # Ticket combinations that will yield a n-number match\n",
    "    successfull_outcomes = n_number_combos * remaining_number_combos\n",
    "    \n",
    "    # Probability of getting a n-number match\n",
    "    return successfull_outcomes / combinations(49, 6)\n",
    "\n",
    "for x in ['Probability of a {0}-number match: {1:.7f}%'.format(x, y) for (x, y) in [(n, probability_less_6(n) * 100) for n in range(1, 7)]]:\n",
    "    print(x)"
   ]
  },
  {
   "cell_type": "code",
   "execution_count": null,
   "metadata": {
    "collapsed": true
   },
   "outputs": [],
   "source": []
  }
 ],
 "metadata": {
  "kernelspec": {
   "display_name": "Python 3",
   "language": "python",
   "name": "python3"
  },
  "language_info": {
   "codemirror_mode": {
    "name": "ipython",
    "version": 3
   },
   "file_extension": ".py",
   "mimetype": "text/x-python",
   "name": "python",
   "nbconvert_exporter": "python",
   "pygments_lexer": "ipython3",
   "version": "3.4.3"
  }
 },
 "nbformat": 4,
 "nbformat_minor": 2
}
