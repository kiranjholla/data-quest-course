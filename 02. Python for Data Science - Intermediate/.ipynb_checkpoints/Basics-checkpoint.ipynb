{
 "cells": [
  {
   "cell_type": "markdown",
   "metadata": {
    "collapsed": true
   },
   "source": [
    "### Hacker News Data Analysis\n",
    "\n",
    "We will analyze the data from Hacker News to understand if posts for `Ask HN` or `Show HN` receive more comments than average."
   ]
  },
  {
   "cell_type": "code",
   "execution_count": 1,
   "metadata": {
    "collapsed": false
   },
   "outputs": [
    {
     "name": "stdout",
     "output_type": "stream",
     "text": [
      "['id', 'title', 'url', 'num_points', 'num_comments', 'author', 'created_at']\n",
      "[['12224879', 'Interactive Dynamic Video', 'http://www.interactivedynamicvideo.com/', '386', '52', 'ne0phyte', '8/4/2016 11:52'], ['10975351', 'How to Use Open Source and Shut the Fuck Up at the Same Time', 'http://hueniverse.com/2016/01/26/how-to-use-open-source-and-shut-the-fuck-up-at-the-same-time/', '39', '10', 'josep2', '1/26/2016 19:30'], ['11964716', \"Florida DJs May Face Felony for April Fools' Water Joke\", 'http://www.thewire.com/entertainment/2013/04/florida-djs-april-fools-water-joke/63798/', '2', '1', 'vezycash', '6/23/2016 22:20'], ['11919867', 'Technology ventures: From Idea to Enterprise', 'https://www.amazon.com/Technology-Ventures-Enterprise-Thomas-Byers/dp/0073523429', '3', '1', 'hswarna', '6/17/2016 0:01'], ['10301696', 'Note by Note: The Making of Steinway L1037 (2007)', 'http://www.nytimes.com/2007/11/07/movies/07stein.html?_r=0', '8', '2', 'walterbell', '9/30/2015 4:12']]\n"
     ]
    }
   ],
   "source": [
    "from csv import reader\n",
    "\n",
    "hacker_news_file = open(\"hacker_news.csv\")\n",
    "read_file = reader(hacker_news_file)\n",
    "\n",
    "hn = list(read_file)\n",
    "headers = hn[0]\n",
    "hn = hn[1:]\n",
    "\n",
    "print(headers)\n",
    "print(hn[:5])"
   ]
  },
  {
   "cell_type": "code",
   "execution_count": 2,
   "metadata": {
    "collapsed": true
   },
   "outputs": [],
   "source": [
    "# Define Column Numbers\n",
    "ID_COL = 0\n",
    "TITLE_COL = 1\n",
    "URL_COL = 2\n",
    "NUM_POINTS_COL = 3\n",
    "NUM_COMMENTS_COL = 4\n",
    "AUTHOR_COL = 5\n",
    "CREATED_AT_COL = 6"
   ]
  },
  {
   "cell_type": "code",
   "execution_count": 3,
   "metadata": {
    "collapsed": false
   },
   "outputs": [
    {
     "name": "stdout",
     "output_type": "stream",
     "text": [
      "Ask Posts:  1744\n",
      "Show Posts:  1162\n",
      "Other Posts:  17194\n"
     ]
    }
   ],
   "source": [
    "ask_posts = []\n",
    "show_posts = []\n",
    "other_posts = []\n",
    "\n",
    "TITLE_COL = 1\n",
    "\n",
    "for record in hn:\n",
    "    if record[TITLE_COL].lower().startswith('ask hn'):\n",
    "        ask_posts.append(record)\n",
    "    elif record[TITLE_COL].lower().startswith('show hn'):\n",
    "        show_posts.append(record)\n",
    "    else:\n",
    "        other_posts.append(record)\n",
    "\n",
    "print('Ask Posts: ', len(ask_posts))\n",
    "print('Show Posts: ', len(show_posts))\n",
    "print('Other Posts: ', len(other_posts))"
   ]
  },
  {
   "cell_type": "code",
   "execution_count": 4,
   "metadata": {
    "collapsed": false
   },
   "outputs": [
    {
     "name": "stdout",
     "output_type": "stream",
     "text": [
      "Ask Posts:  24483 14.038417431192661\n",
      "Show Posts:  11988 10.31669535283993\n",
      "Other Posts:  462055 26.8730371059672\n"
     ]
    }
   ],
   "source": [
    "def calculate_comments(dataset, comment_col):\n",
    "    total_comments = 0\n",
    "    \n",
    "    for record in dataset:\n",
    "        total_comments += int(record[comment_col])\n",
    "    \n",
    "    avg_comments = total_comments / len(dataset)\n",
    "    \n",
    "    return total_comments, avg_comments\n",
    "\n",
    "total_ask_comments, avg_ask_comments = calculate_comments(ask_posts, NUM_COMMENTS_COL)\n",
    "total_show_comments, avg_show_comments = calculate_comments(show_posts, NUM_COMMENTS_COL)\n",
    "total_other_comments, avg_other_comments = calculate_comments(other_posts, NUM_COMMENTS_COL)\n",
    "\n",
    "print('Ask Posts: ', total_ask_comments, avg_ask_comments)\n",
    "print('Show Posts: ', total_show_comments, avg_show_comments)\n",
    "print('Other Posts: ', total_other_comments, avg_other_comments)\n"
   ]
  },
  {
   "cell_type": "markdown",
   "metadata": {},
   "source": [
    "We observe that the posts that are of type `Ask HN` receive, on average, approximately 14 comments for each post. Posts of type `Show HN` receive on average only 10 comments per post.\n",
    "\n",
    "Compared to the average for other posts, which is 26 comments per post, these numbers indicate that the actual number of posts received by posts of type `Ask HN` or `Show HN` are actually much lower than the comments received by Ohter posts.\n",
    "\n",
    "\n",
    "#### Calculating the Counts & Comments by Hour"
   ]
  },
  {
   "cell_type": "code",
   "execution_count": 11,
   "metadata": {
    "collapsed": false
   },
   "outputs": [
    {
     "name": "stdout",
     "output_type": "stream",
     "text": [
      "Counts by Hour:  {'04': 47, '16': 108, '17': 100, '00': 55, '20': 80, '13': 85, '19': 110, '05': 46, '12': 73, '07': 34, '18': 109, '10': 59, '22': 71, '02': 58, '09': 45, '21': 109, '08': 48, '23': 68, '01': 60, '11': 58, '15': 116, '03': 54, '06': 44, '14': 107}\n",
      "Comments by Hour:  {'04': 337, '16': 1814, '17': 1146, '00': 447, '20': 1722, '13': 1253, '19': 1188, '05': 464, '12': 687, '07': 267, '18': 1439, '10': 793, '22': 479, '02': 1381, '09': 251, '21': 1745, '08': 492, '23': 543, '01': 683, '11': 641, '15': 4477, '03': 421, '06': 397, '14': 1416}\n"
     ]
    }
   ],
   "source": [
    "import datetime as dt\n",
    "\n",
    "def build_freq_table(dataset, keyextractor, valueextractor):\n",
    "    freq_table = {}\n",
    "    for record in dataset:\n",
    "        key = keyextractor(record)\n",
    "        if not key in freq_table:\n",
    "            freq_table[key] = 0\n",
    "        freq_table[key] += valueextractor(record)\n",
    "    return freq_table\n",
    "\n",
    "\n",
    "def extract_date_part(input_date, date_format, date_part):\n",
    "    return dt.datetime.strptime(input_date, date_format).strftime(date_part)\n",
    "\n",
    "\n",
    "DATE_FORMAT = '%m/%d/%Y %H:%M'\n",
    "counts_by_hour = build_freq_table(\n",
    "    ask_posts, \n",
    "    lambda x: extract_date_part(x[CREATED_AT_COL], DATE_FORMAT, '%H'), \n",
    "    lambda x: 1\n",
    ")\n",
    "comments_by_hour = build_freq_table(\n",
    "    ask_posts, \n",
    "    lambda x: extract_date_part(x[CREATED_AT_COL], DATE_FORMAT, '%H'), \n",
    "    lambda x: int(x[NUM_COMMENTS_COL])\n",
    ")\n",
    "\n",
    "print('Counts by Hour: ', counts_by_hour)\n",
    "print('Comments by Hour: ', comments_by_hour)\n"
   ]
  },
  {
   "cell_type": "markdown",
   "metadata": {},
   "source": [
    "#### Calculating the Average Comments by Hour"
   ]
  },
  {
   "cell_type": "code",
   "execution_count": 13,
   "metadata": {
    "collapsed": false
   },
   "outputs": [
    {
     "name": "stdout",
     "output_type": "stream",
     "text": [
      "[['04', 7.170212765957447], ['16', 16.796296296296298], ['17', 11.46], ['00', 8.127272727272727], ['20', 21.525], ['13', 14.741176470588234], ['19', 10.8], ['05', 10.08695652173913], ['12', 9.41095890410959], ['07', 7.852941176470588], ['18', 13.20183486238532], ['10', 13.440677966101696], ['22', 6.746478873239437], ['02', 23.810344827586206], ['09', 5.5777777777777775], ['21', 16.009174311926607], ['08', 10.25], ['23', 7.985294117647059], ['01', 11.383333333333333], ['11', 11.051724137931034], ['15', 38.5948275862069], ['03', 7.796296296296297], ['06', 9.022727272727273], ['14', 13.233644859813085]]\n"
     ]
    }
   ],
   "source": [
    "def calculate_average_comments(count_set, comment_set):\n",
    "    avg_list = []\n",
    "    for key in count_set:\n",
    "        avg_list.append([key, comment_set[key] / count_set[key]])\n",
    "    return avg_list\n",
    "\n",
    "avg_by_hour = calculate_average_comments(counts_by_hour, comments_by_hour)\n",
    "\n",
    "print(avg_by_hour)"
   ]
  },
  {
   "cell_type": "code",
   "execution_count": 22,
   "metadata": {
    "collapsed": false
   },
   "outputs": [
    {
     "name": "stdout",
     "output_type": "stream",
     "text": [
      "1500 hours: 38.59 comments\n",
      "0200 hours: 23.81 comments\n",
      "2000 hours: 21.52 comments\n",
      "1600 hours: 16.80 comments\n",
      "2100 hours: 16.01 comments\n",
      "1300 hours: 14.74 comments\n",
      "1000 hours: 13.44 comments\n",
      "1400 hours: 13.23 comments\n",
      "1800 hours: 13.20 comments\n",
      "1700 hours: 11.46 comments\n",
      "0100 hours: 11.38 comments\n",
      "1100 hours: 11.05 comments\n",
      "1900 hours: 10.80 comments\n",
      "0800 hours: 10.25 comments\n",
      "0500 hours: 10.09 comments\n",
      "1200 hours:  9.41 comments\n",
      "0600 hours:  9.02 comments\n",
      "0000 hours:  8.13 comments\n",
      "2300 hours:  7.99 comments\n",
      "0700 hours:  7.85 comments\n",
      "0300 hours:  7.80 comments\n",
      "0400 hours:  7.17 comments\n",
      "2200 hours:  6.75 comments\n",
      "0900 hours:  5.58 comments\n"
     ]
    }
   ],
   "source": [
    "def print_nice(dataset):\n",
    "    for rec in sorted(\n",
    "        dataset, \n",
    "        key=lambda x: x[1], \n",
    "        reverse=True\n",
    "    ):\n",
    "        print('{:<2}00 hours: {:>5.2f} comments'.format(rec[0], rec[1]))\n",
    "        \n",
    "print_nice(avg_by_hour)"
   ]
  },
  {
   "cell_type": "markdown",
   "metadata": {},
   "source": [
    "Based on the above analysis, it is evident that `Ask HN` posts created around 2PM Central Time have the highest chances of getting comments."
   ]
  }
 ],
 "metadata": {
  "kernelspec": {
   "display_name": "Python 3",
   "language": "python",
   "name": "python3"
  },
  "language_info": {
   "codemirror_mode": {
    "name": "ipython",
    "version": 3
   },
   "file_extension": ".py",
   "mimetype": "text/x-python",
   "name": "python",
   "nbconvert_exporter": "python",
   "pygments_lexer": "ipython3",
   "version": "3.4.3"
  }
 },
 "nbformat": 4,
 "nbformat_minor": 2
}
